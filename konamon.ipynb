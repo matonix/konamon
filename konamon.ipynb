{
 "cells": [
  {
   "cell_type": "markdown",
   "metadata": {},
   "source": [
    "# 生データ"
   ]
  },
  {
   "cell_type": "code",
   "execution_count": 1,
   "metadata": {},
   "outputs": [
    {
     "name": "stdout",
     "output_type": "stream",
     "text": [
      "Tables: [('info',), ('player',), ('score',)]\n"
     ]
    }
   ],
   "source": [
    "import sqlite3\n",
    "import polars as pl\n",
    "\n",
    "db_path = 'score.db'\n",
    "\n",
    "# データベースに接続\n",
    "conn = sqlite3.connect(db_path)\n",
    "cursor = conn.cursor()\n",
    "\n",
    "# テーブル一覧の表示\n",
    "cursor.execute(\"SELECT name FROM sqlite_master WHERE type='table';\")\n",
    "tables = cursor.fetchall()\n",
    "print(\"Tables:\", tables)"
   ]
  },
  {
   "cell_type": "code",
   "execution_count": 2,
   "metadata": {},
   "outputs": [
    {
     "data": {
      "text/html": [
       "<div><style>\n",
       ".dataframe > thead > tr,\n",
       ".dataframe > tbody > tr {\n",
       "  text-align: right;\n",
       "  white-space: pre-wrap;\n",
       "}\n",
       "</style>\n",
       "<small>shape: (281, 17)</small><table border=\"1\" class=\"dataframe\"><thead><tr><th>date</th><th>playcount</th><th>clear</th><th>epg</th><th>lpg</th><th>egr</th><th>lgr</th><th>egd</th><th>lgd</th><th>ebd</th><th>lbd</th><th>epr</th><th>lpr</th><th>ems</th><th>lms</th><th>playtime</th><th>maxcombo</th></tr><tr><td>i64</td><td>i64</td><td>i64</td><td>i64</td><td>i64</td><td>i64</td><td>i64</td><td>i64</td><td>i64</td><td>i64</td><td>i64</td><td>i64</td><td>i64</td><td>i64</td><td>i64</td><td>i64</td><td>i64</td></tr></thead><tbody><tr><td>0</td><td>0</td><td>0</td><td>0</td><td>0</td><td>0</td><td>0</td><td>0</td><td>0</td><td>0</td><td>0</td><td>0</td><td>0</td><td>0</td><td>0</td><td>0</td><td>0</td></tr><tr><td>1637852400</td><td>55</td><td>36</td><td>23360</td><td>8366</td><td>32612</td><td>2638</td><td>4200</td><td>623</td><td>376</td><td>50</td><td>3</td><td>785</td><td>410</td><td>541</td><td>6828</td><td>0</td></tr><tr><td>1637938800</td><td>66</td><td>46</td><td>27829</td><td>9855</td><td>41441</td><td>3272</td><td>5626</td><td>843</td><td>491</td><td>62</td><td>3</td><td>1022</td><td>550</td><td>671</td><td>8180</td><td>0</td></tr><tr><td>1638025200</td><td>104</td><td>81</td><td>47433</td><td>18588</td><td>57991</td><td>5712</td><td>7572</td><td>1416</td><td>710</td><td>111</td><td>5</td><td>1489</td><td>801</td><td>1032</td><td>12811</td><td>0</td></tr><tr><td>1638111600</td><td>139</td><td>111</td><td>62906</td><td>25400</td><td>76239</td><td>8199</td><td>11213</td><td>2271</td><td>1266</td><td>164</td><td>6</td><td>2439</td><td>1297</td><td>1689</td><td>16929</td><td>0</td></tr><tr><td>&hellip;</td><td>&hellip;</td><td>&hellip;</td><td>&hellip;</td><td>&hellip;</td><td>&hellip;</td><td>&hellip;</td><td>&hellip;</td><td>&hellip;</td><td>&hellip;</td><td>&hellip;</td><td>&hellip;</td><td>&hellip;</td><td>&hellip;</td><td>&hellip;</td><td>&hellip;</td><td>&hellip;</td></tr><tr><td>1669388400</td><td>12001</td><td>5341</td><td>7620796</td><td>4241598</td><td>7599645</td><td>2417746</td><td>1538313</td><td>1108013</td><td>370721</td><td>23550</td><td>2702</td><td>681538</td><td>191121</td><td>339405</td><td>1499110</td><td>0</td></tr><tr><td>1669474800</td><td>12049</td><td>5354</td><td>7651876</td><td>4265403</td><td>7618648</td><td>2433071</td><td>1543058</td><td>1113917</td><td>372353</td><td>23718</td><td>2733</td><td>684995</td><td>191908</td><td>341000</td><td>1504968</td><td>0</td></tr><tr><td>1669561200</td><td>12094</td><td>5380</td><td>7680274</td><td>4286662</td><td>7631640</td><td>2443884</td><td>1545466</td><td>1117516</td><td>373214</td><td>23815</td><td>2739</td><td>686727</td><td>192318</td><td>341954</td><td>1510596</td><td>0</td></tr><tr><td>1669993200</td><td>12121</td><td>5402</td><td>7697802</td><td>4295454</td><td>7642622</td><td>2446534</td><td>1546416</td><td>1117989</td><td>373332</td><td>23826</td><td>2739</td><td>687038</td><td>192407</td><td>342204</td><td>1513701</td><td>0</td></tr><tr><td>1677337200</td><td>12127</td><td>5408</td><td>7700679</td><td>4297235</td><td>7644397</td><td>2447292</td><td>1546680</td><td>1118125</td><td>373367</td><td>23829</td><td>2739</td><td>687103</td><td>192421</td><td>342288</td><td>1514298</td><td>0</td></tr></tbody></table></div>"
      ],
      "text/plain": [
       "shape: (281, 17)\n",
       "┌────────────┬───────────┬───────┬─────────┬───┬────────┬────────┬──────────┬──────────┐\n",
       "│ date       ┆ playcount ┆ clear ┆ epg     ┆ … ┆ ems    ┆ lms    ┆ playtime ┆ maxcombo │\n",
       "│ ---        ┆ ---       ┆ ---   ┆ ---     ┆   ┆ ---    ┆ ---    ┆ ---      ┆ ---      │\n",
       "│ i64        ┆ i64       ┆ i64   ┆ i64     ┆   ┆ i64    ┆ i64    ┆ i64      ┆ i64      │\n",
       "╞════════════╪═══════════╪═══════╪═════════╪═══╪════════╪════════╪══════════╪══════════╡\n",
       "│ 0          ┆ 0         ┆ 0     ┆ 0       ┆ … ┆ 0      ┆ 0      ┆ 0        ┆ 0        │\n",
       "│ 1637852400 ┆ 55        ┆ 36    ┆ 23360   ┆ … ┆ 410    ┆ 541    ┆ 6828     ┆ 0        │\n",
       "│ 1637938800 ┆ 66        ┆ 46    ┆ 27829   ┆ … ┆ 550    ┆ 671    ┆ 8180     ┆ 0        │\n",
       "│ 1638025200 ┆ 104       ┆ 81    ┆ 47433   ┆ … ┆ 801    ┆ 1032   ┆ 12811    ┆ 0        │\n",
       "│ 1638111600 ┆ 139       ┆ 111   ┆ 62906   ┆ … ┆ 1297   ┆ 1689   ┆ 16929    ┆ 0        │\n",
       "│ …          ┆ …         ┆ …     ┆ …       ┆ … ┆ …      ┆ …      ┆ …        ┆ …        │\n",
       "│ 1669388400 ┆ 12001     ┆ 5341  ┆ 7620796 ┆ … ┆ 191121 ┆ 339405 ┆ 1499110  ┆ 0        │\n",
       "│ 1669474800 ┆ 12049     ┆ 5354  ┆ 7651876 ┆ … ┆ 191908 ┆ 341000 ┆ 1504968  ┆ 0        │\n",
       "│ 1669561200 ┆ 12094     ┆ 5380  ┆ 7680274 ┆ … ┆ 192318 ┆ 341954 ┆ 1510596  ┆ 0        │\n",
       "│ 1669993200 ┆ 12121     ┆ 5402  ┆ 7697802 ┆ … ┆ 192407 ┆ 342204 ┆ 1513701  ┆ 0        │\n",
       "│ 1677337200 ┆ 12127     ┆ 5408  ┆ 7700679 ┆ … ┆ 192421 ┆ 342288 ┆ 1514298  ┆ 0        │\n",
       "└────────────┴───────────┴───────┴─────────┴───┴────────┴────────┴──────────┴──────────┘"
      ]
     },
     "execution_count": 2,
     "metadata": {},
     "output_type": "execute_result"
    }
   ],
   "source": [
    "df_player = pl.read_database(\n",
    "    query=\"SELECT * FROM player\", \n",
    "    connection=conn,\n",
    ")  \n",
    "df_player"
   ]
  },
  {
   "cell_type": "code",
   "execution_count": 3,
   "metadata": {},
   "outputs": [
    {
     "data": {
      "text/html": [
       "<div><style>\n",
       ".dataframe > thead > tr,\n",
       ".dataframe > tbody > tr {\n",
       "  text-align: right;\n",
       "  white-space: pre-wrap;\n",
       "}\n",
       "</style>\n",
       "<small>shape: (3_159, 28)</small><table border=\"1\" class=\"dataframe\"><thead><tr><th>sha256</th><th>mode</th><th>clear</th><th>epg</th><th>lpg</th><th>egr</th><th>lgr</th><th>egd</th><th>lgd</th><th>ebd</th><th>lbd</th><th>epr</th><th>lpr</th><th>ems</th><th>lms</th><th>notes</th><th>combo</th><th>minbp</th><th>playcount</th><th>clearcount</th><th>trophy</th><th>ghost</th><th>option</th><th>seed</th><th>random</th><th>date</th><th>state</th><th>scorehash</th></tr><tr><td>str</td><td>i64</td><td>i64</td><td>i64</td><td>i64</td><td>i64</td><td>i64</td><td>i64</td><td>i64</td><td>i64</td><td>i64</td><td>i64</td><td>i64</td><td>i64</td><td>i64</td><td>i64</td><td>i64</td><td>i64</td><td>i64</td><td>i64</td><td>str</td><td>str</td><td>i64</td><td>i64</td><td>i64</td><td>i64</td><td>i64</td><td>str</td></tr></thead><tbody><tr><td>&quot;8898a2d68a3bd897a4fa960f68d617…</td><td>10000</td><td>5</td><td>1887</td><td>625</td><td>2517</td><td>154</td><td>203</td><td>33</td><td>36</td><td>3</td><td>0</td><td>44</td><td>14</td><td>36</td><td>5502</td><td>459</td><td>133</td><td>1</td><td>1</td><td>&quot;&quot;</td><td>&quot;&quot;</td><td>0</td><td>-1</td><td>0</td><td>1637932337</td><td>0</td><td>&quot;0353f7737d7af27743adc550286b07…</td></tr><tr><td>&quot;957c3f0eb8fabb463485f105756056…</td><td>10000</td><td>5</td><td>1704</td><td>527</td><td>3413</td><td>159</td><td>474</td><td>53</td><td>38</td><td>2</td><td>1</td><td>59</td><td>50</td><td>60</td><td>6430</td><td>317</td><td>210</td><td>1</td><td>1</td><td>&quot;&quot;</td><td>&quot;&quot;</td><td>0</td><td>-1</td><td>0</td><td>1637933020</td><td>0</td><td>&quot;0353f14641cd545969ee22a3010b21…</td></tr><tr><td>&quot;b79af9b79e4348b2063c2b5cbde2cd…</td><td>0</td><td>0</td><td>480</td><td>175</td><td>982</td><td>76</td><td>148</td><td>25</td><td>14</td><td>1</td><td>0</td><td>20</td><td>13</td><td>21</td><td>1921</td><td>293</td><td>69</td><td>1</td><td>0</td><td>&quot;&quot;</td><td>&quot;H4sIAAAAAAAAAG1VAZIDIQgD9P9vvo…</td><td>0</td><td>9238810</td><td>0</td><td>1637933185</td><td>0</td><td>&quot;03534193fedf0cf57418695a6bc5e4…</td></tr><tr><td>&quot;e82afff32da8b2a991f9c7ef268c2f…</td><td>0</td><td>0</td><td>632</td><td>149</td><td>797</td><td>44</td><td>111</td><td>14</td><td>23</td><td>0</td><td>0</td><td>30</td><td>14</td><td>26</td><td>1800</td><td>265</td><td>93</td><td>1</td><td>0</td><td>&quot;&quot;</td><td>&quot;H4sIAAAAAAAAAG1VCZLDMAgTmP-_eY…</td><td>0</td><td>11928377</td><td>0</td><td>1637933545</td><td>0</td><td>&quot;035abb48f912aaaf3c1707615d4729…</td></tr><tr><td>&quot;b79af9b79e4348b2063c2b5cbde2cd…</td><td>10000</td><td>5</td><td>2080</td><td>616</td><td>3527</td><td>237</td><td>567</td><td>81</td><td>64</td><td>3</td><td>0</td><td>112</td><td>52</td><td>87</td><td>7287</td><td>293</td><td>318</td><td>1</td><td>1</td><td>&quot;&quot;</td><td>&quot;&quot;</td><td>0</td><td>-1</td><td>0</td><td>1637933716</td><td>0</td><td>&quot;035ed013cba927f265e5d1436889f5…</td></tr><tr><td>&hellip;</td><td>&hellip;</td><td>&hellip;</td><td>&hellip;</td><td>&hellip;</td><td>&hellip;</td><td>&hellip;</td><td>&hellip;</td><td>&hellip;</td><td>&hellip;</td><td>&hellip;</td><td>&hellip;</td><td>&hellip;</td><td>&hellip;</td><td>&hellip;</td><td>&hellip;</td><td>&hellip;</td><td>&hellip;</td><td>&hellip;</td><td>&hellip;</td><td>&hellip;</td><td>&hellip;</td><td>&hellip;</td><td>&hellip;</td><td>&hellip;</td><td>&hellip;</td><td>&hellip;</td><td>&hellip;</td></tr><tr><td>&quot;b3fc1f29e96f3e55b36c704f331059…</td><td>0</td><td>8</td><td>651</td><td>335</td><td>169</td><td>19</td><td>0</td><td>1</td><td>0</td><td>0</td><td>0</td><td>0</td><td>0</td><td>1</td><td>1175</td><td>1175</td><td>1</td><td>2</td><td>2</td><td>&quot;rhH&quot;</td><td>&quot;H4sIAAAAAAAAAJVTCw7FIAizu_-hXz…</td><td>2</td><td>8728962</td><td>0</td><td>1677345203</td><td>0</td><td>&quot;03587777c6f332727bfbb93e76d934…</td></tr><tr><td>&quot;d54b64a402700f62e89ca855c20850…</td><td>0</td><td>6</td><td>469</td><td>377</td><td>131</td><td>88</td><td>12</td><td>29</td><td>3</td><td>2</td><td>1</td><td>5</td><td>3</td><td>11</td><td>1117</td><td>252</td><td>25</td><td>2</td><td>2</td><td>&quot;r&quot;</td><td>&quot;H4sIAAAAAAAAAIVTCRLEIAgj0f-_eZ…</td><td>2</td><td>11333781</td><td>0</td><td>1677345348</td><td>0</td><td>&quot;035c0b1763388585288b9439bfe0ab…</td></tr><tr><td>&quot;f6f46b059ec2ddf8d319a32a77a471…</td><td>0</td><td>6</td><td>693</td><td>493</td><td>491</td><td>263</td><td>56</td><td>33</td><td>4</td><td>1</td><td>0</td><td>11</td><td>1</td><td>22</td><td>2045</td><td>393</td><td>39</td><td>2</td><td>2</td><td>&quot;r&quot;</td><td>&quot;H4sIAAAAAAAAAHVVi3bFIAgD6v9_81…</td><td>2</td><td>15462513</td><td>0</td><td>1677345505</td><td>0</td><td>&quot;0352ddbff749505e3469b271078b1a…</td></tr><tr><td>&quot;a740a7325a4881b85a73a6e3fa9b2d…</td><td>0</td><td>4</td><td>577</td><td>527</td><td>236</td><td>336</td><td>31</td><td>72</td><td>18</td><td>1</td><td>0</td><td>28</td><td>7</td><td>19</td><td>1826</td><td>380</td><td>57</td><td>4</td><td>1</td><td>&quot;r&quot;</td><td>&quot;H4sIAAAAAAAAAIVUB5LEMAizMP9_8x…</td><td>2</td><td>8542623</td><td>0</td><td>1677345661</td><td>0</td><td>&quot;035dd1d2b967d3056b5bc98d98bc43…</td></tr><tr><td>&quot;e1b667324b7f132a79dfa22a7436dc…</td><td>0</td><td>6</td><td>435</td><td>250</td><td>435</td><td>171</td><td>120</td><td>46</td><td>10</td><td>1</td><td>0</td><td>26</td><td>3</td><td>27</td><td>1494</td><td>355</td><td>42</td><td>7</td><td>7</td><td>&quot;r&quot;</td><td>&quot;H4sIAAAAAAAAAHVUCYICMQgjGf7_5i…</td><td>2</td><td>9134797</td><td>0</td><td>1677345833</td><td>0</td><td>&quot;035dea93981a432122f48b408666b6…</td></tr></tbody></table></div>"
      ],
      "text/plain": [
       "shape: (3_159, 28)\n",
       "┌────────────────────┬───────┬───────┬──────┬───┬────────┬────────────┬───────┬────────────────────┐\n",
       "│ sha256             ┆ mode  ┆ clear ┆ epg  ┆ … ┆ random ┆ date       ┆ state ┆ scorehash          │\n",
       "│ ---                ┆ ---   ┆ ---   ┆ ---  ┆   ┆ ---    ┆ ---        ┆ ---   ┆ ---                │\n",
       "│ str                ┆ i64   ┆ i64   ┆ i64  ┆   ┆ i64    ┆ i64        ┆ i64   ┆ str                │\n",
       "╞════════════════════╪═══════╪═══════╪══════╪═══╪════════╪════════════╪═══════╪════════════════════╡\n",
       "│ 8898a2d68a3bd897a4 ┆ 10000 ┆ 5     ┆ 1887 ┆ … ┆ 0      ┆ 1637932337 ┆ 0     ┆ 0353f7737d7af27743 │\n",
       "│ fa960f68d617…      ┆       ┆       ┆      ┆   ┆        ┆            ┆       ┆ adc550286b07…      │\n",
       "│ 957c3f0eb8fabb4634 ┆ 10000 ┆ 5     ┆ 1704 ┆ … ┆ 0      ┆ 1637933020 ┆ 0     ┆ 0353f14641cd545969 │\n",
       "│ 85f105756056…      ┆       ┆       ┆      ┆   ┆        ┆            ┆       ┆ ee22a3010b21…      │\n",
       "│ b79af9b79e4348b206 ┆ 0     ┆ 0     ┆ 480  ┆ … ┆ 0      ┆ 1637933185 ┆ 0     ┆ 03534193fedf0cf574 │\n",
       "│ 3c2b5cbde2cd…      ┆       ┆       ┆      ┆   ┆        ┆            ┆       ┆ 18695a6bc5e4…      │\n",
       "│ e82afff32da8b2a991 ┆ 0     ┆ 0     ┆ 632  ┆ … ┆ 0      ┆ 1637933545 ┆ 0     ┆ 035abb48f912aaaf3c │\n",
       "│ f9c7ef268c2f…      ┆       ┆       ┆      ┆   ┆        ┆            ┆       ┆ 1707615d4729…      │\n",
       "│ b79af9b79e4348b206 ┆ 10000 ┆ 5     ┆ 2080 ┆ … ┆ 0      ┆ 1637933716 ┆ 0     ┆ 035ed013cba927f265 │\n",
       "│ 3c2b5cbde2cd…      ┆       ┆       ┆      ┆   ┆        ┆            ┆       ┆ e5d1436889f5…      │\n",
       "│ …                  ┆ …     ┆ …     ┆ …    ┆ … ┆ …      ┆ …          ┆ …     ┆ …                  │\n",
       "│ b3fc1f29e96f3e55b3 ┆ 0     ┆ 8     ┆ 651  ┆ … ┆ 0      ┆ 1677345203 ┆ 0     ┆ 03587777c6f332727b │\n",
       "│ 6c704f331059…      ┆       ┆       ┆      ┆   ┆        ┆            ┆       ┆ fbb93e76d934…      │\n",
       "│ d54b64a402700f62e8 ┆ 0     ┆ 6     ┆ 469  ┆ … ┆ 0      ┆ 1677345348 ┆ 0     ┆ 035c0b176338858528 │\n",
       "│ 9ca855c20850…      ┆       ┆       ┆      ┆   ┆        ┆            ┆       ┆ 8b9439bfe0ab…      │\n",
       "│ f6f46b059ec2ddf8d3 ┆ 0     ┆ 6     ┆ 693  ┆ … ┆ 0      ┆ 1677345505 ┆ 0     ┆ 0352ddbff749505e34 │\n",
       "│ 19a32a77a471…      ┆       ┆       ┆      ┆   ┆        ┆            ┆       ┆ 69b271078b1a…      │\n",
       "│ a740a7325a4881b85a ┆ 0     ┆ 4     ┆ 577  ┆ … ┆ 0      ┆ 1677345661 ┆ 0     ┆ 035dd1d2b967d3056b │\n",
       "│ 73a6e3fa9b2d…      ┆       ┆       ┆      ┆   ┆        ┆            ┆       ┆ 5bc98d98bc43…      │\n",
       "│ e1b667324b7f132a79 ┆ 0     ┆ 6     ┆ 435  ┆ … ┆ 0      ┆ 1677345833 ┆ 0     ┆ 035dea93981a432122 │\n",
       "│ dfa22a7436dc…      ┆       ┆       ┆      ┆   ┆        ┆            ┆       ┆ f48b408666b6…      │\n",
       "└────────────────────┴───────┴───────┴──────┴───┴────────┴────────────┴───────┴────────────────────┘"
      ]
     },
     "execution_count": 3,
     "metadata": {},
     "output_type": "execute_result"
    }
   ],
   "source": [
    "df_score = pl.read_database(\n",
    "    query=\"SELECT * FROM score\", \n",
    "    connection=conn,\n",
    ")  \n",
    "df_score"
   ]
  },
  {
   "cell_type": "code",
   "execution_count": 4,
   "metadata": {},
   "outputs": [
    {
     "name": "stdout",
     "output_type": "stream",
     "text": [
      "Tables: [('scorelog',)]\n"
     ]
    }
   ],
   "source": [
    "db_path = 'scorelog.db'\n",
    "\n",
    "# データベースに接続\n",
    "conn = sqlite3.connect(db_path)\n",
    "cursor = conn.cursor()\n",
    "\n",
    "# テーブル一覧の表示\n",
    "cursor.execute(\"SELECT name FROM sqlite_master WHERE type='table';\")\n",
    "tables = cursor.fetchall()\n",
    "print(\"Tables:\", tables)"
   ]
  },
  {
   "cell_type": "code",
   "execution_count": 5,
   "metadata": {},
   "outputs": [
    {
     "data": {
      "text/html": [
       "<div><style>\n",
       ".dataframe > thead > tr,\n",
       ".dataframe > tbody > tr {\n",
       "  text-align: right;\n",
       "  white-space: pre-wrap;\n",
       "}\n",
       "</style>\n",
       "<small>shape: (9_185, 11)</small><table border=\"1\" class=\"dataframe\"><thead><tr><th>sha256</th><th>mode</th><th>clear</th><th>oldclear</th><th>score</th><th>oldscore</th><th>combo</th><th>oldcombo</th><th>minbp</th><th>oldminbp</th><th>date</th></tr><tr><td>str</td><td>i64</td><td>i64</td><td>i64</td><td>i64</td><td>i64</td><td>i64</td><td>i64</td><td>i64</td><td>i64</td><td>i64</td></tr></thead><tbody><tr><td>&quot;ba62f32610506181446b8d11f987b8…</td><td>0</td><td>7</td><td>0</td><td>843</td><td>0</td><td>158</td><td>0</td><td>13</td><td>2147483647</td><td>1637926600</td></tr><tr><td>&quot;ba62f32610506181446b8d11f987b8…</td><td>0</td><td>7</td><td>7</td><td>1017</td><td>843</td><td>469</td><td>158</td><td>9</td><td>13</td><td>1637927355</td></tr><tr><td>&quot;e48fbbea8c8338a3f1133f248d0153…</td><td>0</td><td>7</td><td>0</td><td>2491</td><td>0</td><td>677</td><td>0</td><td>8</td><td>2147483647</td><td>1637927711</td></tr><tr><td>&quot;6fe7097b04f54878351396bbacdcf4…</td><td>0</td><td>8</td><td>0</td><td>686</td><td>0</td><td>376</td><td>0</td><td>0</td><td>2147483647</td><td>1637927950</td></tr><tr><td>&quot;5f5ead4d23986482784fb9305e8a84…</td><td>0</td><td>9</td><td>0</td><td>998</td><td>0</td><td>543</td><td>0</td><td>0</td><td>2147483647</td><td>1637928135</td></tr><tr><td>&hellip;</td><td>&hellip;</td><td>&hellip;</td><td>&hellip;</td><td>&hellip;</td><td>&hellip;</td><td>&hellip;</td><td>&hellip;</td><td>&hellip;</td><td>&hellip;</td><td>&hellip;</td></tr><tr><td>&quot;e9eb1421e01445a74c7160bf3588c2…</td><td>0</td><td>7</td><td>7</td><td>2502</td><td>2437</td><td>764</td><td>764</td><td>13</td><td>13</td><td>1670077810</td></tr><tr><td>&quot;b3fc1f29e96f3e55b36c704f331059…</td><td>0</td><td>8</td><td>7</td><td>2160</td><td>2003</td><td>1175</td><td>390</td><td>1</td><td>6</td><td>1677345203</td></tr><tr><td>&quot;f6f46b059ec2ddf8d319a32a77a471…</td><td>0</td><td>6</td><td>6</td><td>3126</td><td>3101</td><td>393</td><td>371</td><td>39</td><td>45</td><td>1677345505</td></tr><tr><td>&quot;a740a7325a4881b85a73a6e3fa9b2d…</td><td>0</td><td>4</td><td>1</td><td>2780</td><td>2780</td><td>380</td><td>194</td><td>57</td><td>73</td><td>1677345661</td></tr><tr><td>&quot;e1b667324b7f132a79dfa22a7436dc…</td><td>0</td><td>6</td><td>6</td><td>1976</td><td>1838</td><td>355</td><td>355</td><td>42</td><td>42</td><td>1677345833</td></tr></tbody></table></div>"
      ],
      "text/plain": [
       "shape: (9_185, 11)\n",
       "┌───────────────────────┬──────┬───────┬──────────┬───┬──────────┬───────┬────────────┬────────────┐\n",
       "│ sha256                ┆ mode ┆ clear ┆ oldclear ┆ … ┆ oldcombo ┆ minbp ┆ oldminbp   ┆ date       │\n",
       "│ ---                   ┆ ---  ┆ ---   ┆ ---      ┆   ┆ ---      ┆ ---   ┆ ---        ┆ ---        │\n",
       "│ str                   ┆ i64  ┆ i64   ┆ i64      ┆   ┆ i64      ┆ i64   ┆ i64        ┆ i64        │\n",
       "╞═══════════════════════╪══════╪═══════╪══════════╪═══╪══════════╪═══════╪════════════╪════════════╡\n",
       "│ ba62f32610506181446b8 ┆ 0    ┆ 7     ┆ 0        ┆ … ┆ 0        ┆ 13    ┆ 2147483647 ┆ 1637926600 │\n",
       "│ d11f987b8…            ┆      ┆       ┆          ┆   ┆          ┆       ┆            ┆            │\n",
       "│ ba62f32610506181446b8 ┆ 0    ┆ 7     ┆ 7        ┆ … ┆ 158      ┆ 9     ┆ 13         ┆ 1637927355 │\n",
       "│ d11f987b8…            ┆      ┆       ┆          ┆   ┆          ┆       ┆            ┆            │\n",
       "│ e48fbbea8c8338a3f1133 ┆ 0    ┆ 7     ┆ 0        ┆ … ┆ 0        ┆ 8     ┆ 2147483647 ┆ 1637927711 │\n",
       "│ f248d0153…            ┆      ┆       ┆          ┆   ┆          ┆       ┆            ┆            │\n",
       "│ 6fe7097b04f5487835139 ┆ 0    ┆ 8     ┆ 0        ┆ … ┆ 0        ┆ 0     ┆ 2147483647 ┆ 1637927950 │\n",
       "│ 6bbacdcf4…            ┆      ┆       ┆          ┆   ┆          ┆       ┆            ┆            │\n",
       "│ 5f5ead4d23986482784fb ┆ 0    ┆ 9     ┆ 0        ┆ … ┆ 0        ┆ 0     ┆ 2147483647 ┆ 1637928135 │\n",
       "│ 9305e8a84…            ┆      ┆       ┆          ┆   ┆          ┆       ┆            ┆            │\n",
       "│ …                     ┆ …    ┆ …     ┆ …        ┆ … ┆ …        ┆ …     ┆ …          ┆ …          │\n",
       "│ e9eb1421e01445a74c716 ┆ 0    ┆ 7     ┆ 7        ┆ … ┆ 764      ┆ 13    ┆ 13         ┆ 1670077810 │\n",
       "│ 0bf3588c2…            ┆      ┆       ┆          ┆   ┆          ┆       ┆            ┆            │\n",
       "│ b3fc1f29e96f3e55b36c7 ┆ 0    ┆ 8     ┆ 7        ┆ … ┆ 390      ┆ 1     ┆ 6          ┆ 1677345203 │\n",
       "│ 04f331059…            ┆      ┆       ┆          ┆   ┆          ┆       ┆            ┆            │\n",
       "│ f6f46b059ec2ddf8d319a ┆ 0    ┆ 6     ┆ 6        ┆ … ┆ 371      ┆ 39    ┆ 45         ┆ 1677345505 │\n",
       "│ 32a77a471…            ┆      ┆       ┆          ┆   ┆          ┆       ┆            ┆            │\n",
       "│ a740a7325a4881b85a73a ┆ 0    ┆ 4     ┆ 1        ┆ … ┆ 194      ┆ 57    ┆ 73         ┆ 1677345661 │\n",
       "│ 6e3fa9b2d…            ┆      ┆       ┆          ┆   ┆          ┆       ┆            ┆            │\n",
       "│ e1b667324b7f132a79dfa ┆ 0    ┆ 6     ┆ 6        ┆ … ┆ 355      ┆ 42    ┆ 42         ┆ 1677345833 │\n",
       "│ 22a7436dc…            ┆      ┆       ┆          ┆   ┆          ┆       ┆            ┆            │\n",
       "└───────────────────────┴──────┴───────┴──────────┴───┴──────────┴───────┴────────────┴────────────┘"
      ]
     },
     "execution_count": 5,
     "metadata": {},
     "output_type": "execute_result"
    }
   ],
   "source": [
    "df_scorelog = pl.read_database(\n",
    "    query=\"SELECT * FROM scorelog\", \n",
    "    connection=conn,\n",
    ")  \n",
    "df_scorelog"
   ]
  },
  {
   "cell_type": "code",
   "execution_count": 228,
   "metadata": {},
   "outputs": [
    {
     "name": "stdout",
     "output_type": "stream",
     "text": [
      "Tables: [('folder',), ('song',)]\n"
     ]
    }
   ],
   "source": [
    "db_path = 'songdata.db'\n",
    "\n",
    "# データベースに接続\n",
    "conn = sqlite3.connect(db_path)\n",
    "cursor = conn.cursor()\n",
    "\n",
    "# テーブル一覧の表示\n",
    "cursor.execute(\"SELECT name FROM sqlite_master WHERE type='table';\")\n",
    "tables = cursor.fetchall()\n",
    "print(\"Tables:\", tables)"
   ]
  },
  {
   "cell_type": "code",
   "execution_count": 230,
   "metadata": {},
   "outputs": [
    {
     "data": {
      "text/html": [
       "<div><style>\n",
       ".dataframe > thead > tr,\n",
       ".dataframe > tbody > tr {\n",
       "  text-align: right;\n",
       "  white-space: pre-wrap;\n",
       "}\n",
       "</style>\n",
       "<small>shape: (33_487, 29)</small><table border=\"1\" class=\"dataframe\"><thead><tr><th>md5</th><th>sha256</th><th>title</th><th>subtitle</th><th>genre</th><th>artist</th><th>subartist</th><th>tag</th><th>path</th><th>folder</th><th>stagefile</th><th>banner</th><th>backbmp</th><th>preview</th><th>parent</th><th>level</th><th>difficulty</th><th>maxbpm</th><th>minbpm</th><th>length</th><th>mode</th><th>judge</th><th>feature</th><th>content</th><th>date</th><th>favorite</th><th>adddate</th><th>notes</th><th>charthash</th></tr><tr><td>str</td><td>str</td><td>str</td><td>str</td><td>str</td><td>str</td><td>str</td><td>str</td><td>str</td><td>str</td><td>str</td><td>str</td><td>str</td><td>str</td><td>str</td><td>i64</td><td>i64</td><td>i64</td><td>i64</td><td>i64</td><td>i64</td><td>i64</td><td>i64</td><td>i64</td><td>i64</td><td>i64</td><td>i64</td><td>i64</td><td>str</td></tr></thead><tbody><tr><td>&quot;70a521bec4c041a3a5007156439547…</td><td>&quot;d84db8acc6545e87e347f031773f70…</td><td>&quot;Cynic(another)&quot;</td><td>&quot;&quot;</td><td>&quot;techno&quot;</td><td>&quot;6yen / G&quot;</td><td>&quot;&quot;</td><td>&quot;&quot;</td><td>&quot;E:\\bms\\songs\\_spackage\\[6yen]c…</td><td>&quot;755f3a31&quot;</td><td>&quot;G-title.bmp&quot;</td><td>&quot;&quot;</td><td>&quot;&quot;</td><td>&quot;&quot;</td><td>&quot;28bbb737&quot;</td><td>13</td><td>4</td><td>158</td><td>158</td><td>101950</td><td>7</td><td>100</td><td>0</td><td>3</td><td>1028033014</td><td>0</td><td>1731072669</td><td>1418</td><td>&quot;2a20d2e3a19db020fa74581633b38e…</td></tr><tr><td>&quot;f6593e9e47fd3f8f636f4652e26704…</td><td>&quot;aafccaf9224eb80c25846fdfa19176…</td><td>&quot;macaron (ANOTHER)&quot;</td><td>&quot;&quot;</td><td>&quot;HAPPY&quot;</td><td>&quot;Est&quot;</td><td>&quot;&quot;</td><td>&quot;&quot;</td><td>&quot;E:\\bms\\songs\\others\\est050_mac…</td><td>&quot;b5aa3925&quot;</td><td>&quot;title.bmp&quot;</td><td>&quot;&quot;</td><td>&quot;back.bmp&quot;</td><td>&quot;&quot;</td><td>&quot;3ee3383a&quot;</td><td>10</td><td>4</td><td>190</td><td>190</td><td>102315</td><td>7</td><td>100</td><td>64</td><td>3</td><td>1187441524</td><td>0</td><td>1731072669</td><td>990</td><td>&quot;9428f06c6e6dce12ec0d9d230e897d…</td></tr><tr><td>&quot;c6599ccca27e0055b4575145309577…</td><td>&quot;ea781ae2f69da2a5849021539b14f7…</td><td>&quot;-+&quot;</td><td>&quot;&quot;</td><td>&quot;Dirt Art&quot;</td><td>&quot;daisan&quot;</td><td>&quot;&quot;</td><td>&quot;&quot;</td><td>&quot;E:\\bms\\songs\\sl12\\-+\\-+_A.bme&quot;</td><td>&quot;44cf5fae&quot;</td><td>&quot;&quot;</td><td>&quot;&quot;</td><td>&quot;&quot;</td><td>&quot;&quot;</td><td>&quot;1b763f38&quot;</td><td>12</td><td>4</td><td>185</td><td>185</td><td>123283</td><td>7</td><td>100</td><td>1</td><td>3</td><td>1376059342</td><td>0</td><td>1731072669</td><td>1851</td><td>&quot;12060aac461cd074c20f81f88d0f90…</td></tr><tr><td>&quot;26a8f7dc5fb045987c4f2dbe2d262f…</td><td>&quot;4e0b5510c24e4874a9b968a79206ba…</td><td>&quot;-+&quot;</td><td>&quot;&quot;</td><td>&quot;Dirt Art&quot;</td><td>&quot;daisan&quot;</td><td>&quot;&quot;</td><td>&quot;&quot;</td><td>&quot;E:\\bms\\songs\\sl12\\-+\\-+_B.bme&quot;</td><td>&quot;44cf5fae&quot;</td><td>&quot;&quot;</td><td>&quot;&quot;</td><td>&quot;&quot;</td><td>&quot;&quot;</td><td>&quot;1b763f38&quot;</td><td>3</td><td>1</td><td>185</td><td>185</td><td>123283</td><td>7</td><td>100</td><td>0</td><td>3</td><td>1376059354</td><td>0</td><td>1731072669</td><td>194</td><td>&quot;704a71a900835dabde0bf2e9d1d406…</td></tr><tr><td>&quot;353501e3fc1b6945121ce96a0995d6…</td><td>&quot;f462e89553e6fea97dcf3b59e3ea09…</td><td>&quot;macaron (HYPER)&quot;</td><td>&quot;&quot;</td><td>&quot;HAPPY&quot;</td><td>&quot;Est&quot;</td><td>&quot;&quot;</td><td>&quot;&quot;</td><td>&quot;E:\\bms\\songs\\others\\est050_mac…</td><td>&quot;b5aa3925&quot;</td><td>&quot;title.bmp&quot;</td><td>&quot;&quot;</td><td>&quot;back.bmp&quot;</td><td>&quot;&quot;</td><td>&quot;3ee3383a&quot;</td><td>6</td><td>3</td><td>190</td><td>190</td><td>102315</td><td>7</td><td>100</td><td>64</td><td>3</td><td>1187441445</td><td>0</td><td>1731072669</td><td>638</td><td>&quot;3139674ddfbacb9faa30ff1f81facf…</td></tr><tr><td>&hellip;</td><td>&hellip;</td><td>&hellip;</td><td>&hellip;</td><td>&hellip;</td><td>&hellip;</td><td>&hellip;</td><td>&hellip;</td><td>&hellip;</td><td>&hellip;</td><td>&hellip;</td><td>&hellip;</td><td>&hellip;</td><td>&hellip;</td><td>&hellip;</td><td>&hellip;</td><td>&hellip;</td><td>&hellip;</td><td>&hellip;</td><td>&hellip;</td><td>&hellip;</td><td>&hellip;</td><td>&hellip;</td><td>&hellip;</td><td>&hellip;</td><td>&hellip;</td><td>&hellip;</td><td>&hellip;</td><td>&hellip;</td></tr><tr><td>&quot;a025de6f81e79a6d965e9a590ecd9e…</td><td>&quot;8d0b8e193c9ca4151cf7c9732059fc…</td><td>&quot;Lonely Cat[雨模様]&quot;</td><td>&quot;&quot;</td><td>&quot;HOUSE&quot;</td><td>&quot;* (Asterisk)&quot;</td><td>&quot;前川みく×多田李衣菜 / obj:monaka&quot;</td><td>&quot;&quot;</td><td>&quot;E:\\bms\\songs\\ultimate\\[＊ (Aste…</td><td>&quot;d7073a27&quot;</td><td>&quot;lonelycat_34.png&quot;</td><td>&quot;&quot;</td><td>&quot;&quot;</td><td>&quot;&quot;</td><td>&quot;52661d4d&quot;</td><td>12</td><td>4</td><td>128</td><td>128</td><td>150703</td><td>7</td><td>100</td><td>1</td><td>3</td><td>1476666512</td><td>0</td><td>1731072669</td><td>2190</td><td>&quot;35175005d51d8f9dbe9b7ceabdb088…</td></tr><tr><td>&quot;7745f1e720cbc677fb403a5e64d178…</td><td>&quot;1c4ad4dc05f21e6505a6301c783eb7…</td><td>&quot;Lonely Cat [Snother]&quot;</td><td>&quot;&quot;</td><td>&quot;HOUSE&quot;</td><td>&quot;* (Asterisk) / obj:スノート&quot;</td><td>&quot;前川みく×多田李衣菜&quot;</td><td>&quot;&quot;</td><td>&quot;E:\\bms\\songs\\ultimate\\[＊ (Aste…</td><td>&quot;d7073a27&quot;</td><td>&quot;lonelycat_34.png&quot;</td><td>&quot;&quot;</td><td>&quot;&quot;</td><td>&quot;&quot;</td><td>&quot;52661d4d&quot;</td><td>2</td><td>5</td><td>128</td><td>128</td><td>150703</td><td>7</td><td>100</td><td>1</td><td>3</td><td>1583995364</td><td>0</td><td>1731072669</td><td>2158</td><td>&quot;e3b8db3cbb463dfe5c6aed2c6ed06a…</td></tr><tr><td>&quot;872af952fb819d52bb11cefa25d615…</td><td>&quot;08a080cba48901300ffd39a6ca0a38…</td><td>&quot;Lonely Cat [雨]&quot;</td><td>&quot;&quot;</td><td>&quot;HOUSE&quot;</td><td>&quot;* (Asterisk) / obj:スノート&quot;</td><td>&quot;前川みく×多田李衣菜&quot;</td><td>&quot;&quot;</td><td>&quot;E:\\bms\\songs\\ultimate\\[＊ (Aste…</td><td>&quot;d7073a27&quot;</td><td>&quot;lonelycat_34.png&quot;</td><td>&quot;&quot;</td><td>&quot;&quot;</td><td>&quot;&quot;</td><td>&quot;52661d4d&quot;</td><td>16</td><td>5</td><td>128</td><td>128</td><td>150703</td><td>7</td><td>100</td><td>1</td><td>3</td><td>1583995178</td><td>0</td><td>1731072669</td><td>2749</td><td>&quot;cde467c737e2d4ce9d17ce4e1a971e…</td></tr><tr><td>&quot;3ac4bfca957201d374673f737f3aef…</td><td>&quot;8e0abe550375f7068f7691ae9dee49…</td><td>&quot;Lonely Cat [大雨注意報]&quot;</td><td>&quot;&quot;</td><td>&quot;HOUSE&quot;</td><td>&quot;* (Asterisk) / obj:スノート&quot;</td><td>&quot;前川みく×多田李衣菜&quot;</td><td>&quot;&quot;</td><td>&quot;E:\\bms\\songs\\ultimate\\[＊ (Aste…</td><td>&quot;d7073a27&quot;</td><td>&quot;lonelycat_34.png&quot;</td><td>&quot;&quot;</td><td>&quot;&quot;</td><td>&quot;&quot;</td><td>&quot;52661d4d&quot;</td><td>24</td><td>5</td><td>128</td><td>128</td><td>150703</td><td>7</td><td>100</td><td>1</td><td>3</td><td>1583995214</td><td>0</td><td>1731072669</td><td>3356</td><td>&quot;1eed4f56d012894d6616d8da7e531a…</td></tr><tr><td>&quot;fcadc3dc1d52b063d55996790cddf4…</td><td>&quot;7ee745676ee791b5ed9bec4cc141a1…</td><td>&quot;C.E. Days [yumether]&quot;</td><td>&quot;&quot;</td><td>&quot;eurobeat&quot;</td><td>&quot;Ｃｒｅｓ / obj:夢瑠&quot;</td><td>&quot;&quot;</td><td>&quot;&quot;</td><td>&quot;E:\\bms\\songs\\ultimate\\[Ｃｒｅｓ ／ …</td><td>&quot;871c0119&quot;</td><td>&quot;&quot;</td><td>&quot;&quot;</td><td>&quot;&quot;</td><td>&quot;&quot;</td><td>&quot;52661d4d&quot;</td><td>9</td><td>4</td><td>160</td><td>160</td><td>102937</td><td>7</td><td>100</td><td>0</td><td>0</td><td>1282942712</td><td>0</td><td>1731072669</td><td>1520</td><td>&quot;04fb5e80d857598b493c544fb02040…</td></tr></tbody></table></div>"
      ],
      "text/plain": [
       "shape: (33_487, 29)\n",
       "┌────────────┬────────────┬────────────┬──────────┬───┬──────────┬────────────┬───────┬────────────┐\n",
       "│ md5        ┆ sha256     ┆ title      ┆ subtitle ┆ … ┆ favorite ┆ adddate    ┆ notes ┆ charthash  │\n",
       "│ ---        ┆ ---        ┆ ---        ┆ ---      ┆   ┆ ---      ┆ ---        ┆ ---   ┆ ---        │\n",
       "│ str        ┆ str        ┆ str        ┆ str      ┆   ┆ i64      ┆ i64        ┆ i64   ┆ str        │\n",
       "╞════════════╪════════════╪════════════╪══════════╪═══╪══════════╪════════════╪═══════╪════════════╡\n",
       "│ 70a521bec4 ┆ d84db8acc6 ┆ Cynic(anot ┆          ┆ … ┆ 0        ┆ 1731072669 ┆ 1418  ┆ 2a20d2e3a1 │\n",
       "│ c041a3a500 ┆ 545e87e347 ┆ her)       ┆          ┆   ┆          ┆            ┆       ┆ 9db020fa74 │\n",
       "│ 7156439547 ┆ f031773f70 ┆            ┆          ┆   ┆          ┆            ┆       ┆ 581633b38e │\n",
       "│ …          ┆ …          ┆            ┆          ┆   ┆          ┆            ┆       ┆ …          │\n",
       "│ f6593e9e47 ┆ aafccaf922 ┆ macaron    ┆          ┆ … ┆ 0        ┆ 1731072669 ┆ 990   ┆ 9428f06c6e │\n",
       "│ fd3f8f636f ┆ 4eb80c2584 ┆ (ANOTHER)  ┆          ┆   ┆          ┆            ┆       ┆ 6dce12ec0d │\n",
       "│ 4652e26704 ┆ 6fdfa19176 ┆            ┆          ┆   ┆          ┆            ┆       ┆ 9d230e897d │\n",
       "│ …          ┆ …          ┆            ┆          ┆   ┆          ┆            ┆       ┆ …          │\n",
       "│ c6599ccca2 ┆ ea781ae2f6 ┆ -+         ┆          ┆ … ┆ 0        ┆ 1731072669 ┆ 1851  ┆ 12060aac46 │\n",
       "│ 7e0055b457 ┆ 9da2a58490 ┆            ┆          ┆   ┆          ┆            ┆       ┆ 1cd074c20f │\n",
       "│ 5145309577 ┆ 21539b14f7 ┆            ┆          ┆   ┆          ┆            ┆       ┆ 81f88d0f90 │\n",
       "│ …          ┆ …          ┆            ┆          ┆   ┆          ┆            ┆       ┆ …          │\n",
       "│ 26a8f7dc5f ┆ 4e0b5510c2 ┆ -+         ┆          ┆ … ┆ 0        ┆ 1731072669 ┆ 194   ┆ 704a71a900 │\n",
       "│ b045987c4f ┆ 4e4874a9b9 ┆            ┆          ┆   ┆          ┆            ┆       ┆ 835dabde0b │\n",
       "│ 2dbe2d262f ┆ 68a79206ba ┆            ┆          ┆   ┆          ┆            ┆       ┆ f2e9d1d406 │\n",
       "│ …          ┆ …          ┆            ┆          ┆   ┆          ┆            ┆       ┆ …          │\n",
       "│ 353501e3fc ┆ f462e89553 ┆ macaron    ┆          ┆ … ┆ 0        ┆ 1731072669 ┆ 638   ┆ 3139674ddf │\n",
       "│ 1b6945121c ┆ e6fea97dcf ┆ (HYPER)    ┆          ┆   ┆          ┆            ┆       ┆ bacb9faa30 │\n",
       "│ e96a0995d6 ┆ 3b59e3ea09 ┆            ┆          ┆   ┆          ┆            ┆       ┆ ff1f81facf │\n",
       "│ …          ┆ …          ┆            ┆          ┆   ┆          ┆            ┆       ┆ …          │\n",
       "│ …          ┆ …          ┆ …          ┆ …        ┆ … ┆ …        ┆ …          ┆ …     ┆ …          │\n",
       "│ a025de6f81 ┆ 8d0b8e193c ┆ Lonely Cat ┆          ┆ … ┆ 0        ┆ 1731072669 ┆ 2190  ┆ 35175005d5 │\n",
       "│ e79a6d965e ┆ 9ca4151cf7 ┆ [雨模様]   ┆          ┆   ┆          ┆            ┆       ┆ 1d8f9dbe9b │\n",
       "│ 9a590ecd9e ┆ c9732059fc ┆            ┆          ┆   ┆          ┆            ┆       ┆ 7ceabdb088 │\n",
       "│ …          ┆ …          ┆            ┆          ┆   ┆          ┆            ┆       ┆ …          │\n",
       "│ 7745f1e720 ┆ 1c4ad4dc05 ┆ Lonely Cat ┆          ┆ … ┆ 0        ┆ 1731072669 ┆ 2158  ┆ e3b8db3cbb │\n",
       "│ cbc677fb40 ┆ f21e6505a6 ┆ [Snother]  ┆          ┆   ┆          ┆            ┆       ┆ 463dfe5c6a │\n",
       "│ 3a5e64d178 ┆ 301c783eb7 ┆            ┆          ┆   ┆          ┆            ┆       ┆ ed2c6ed06a │\n",
       "│ …          ┆ …          ┆            ┆          ┆   ┆          ┆            ┆       ┆ …          │\n",
       "│ 872af952fb ┆ 08a080cba4 ┆ Lonely Cat ┆          ┆ … ┆ 0        ┆ 1731072669 ┆ 2749  ┆ cde467c737 │\n",
       "│ 819d52bb11 ┆ 8901300ffd ┆ [雨]       ┆          ┆   ┆          ┆            ┆       ┆ e2d4ce9d17 │\n",
       "│ cefa25d615 ┆ 39a6ca0a38 ┆            ┆          ┆   ┆          ┆            ┆       ┆ ce4e1a971e │\n",
       "│ …          ┆ …          ┆            ┆          ┆   ┆          ┆            ┆       ┆ …          │\n",
       "│ 3ac4bfca95 ┆ 8e0abe5503 ┆ Lonely Cat ┆          ┆ … ┆ 0        ┆ 1731072669 ┆ 3356  ┆ 1eed4f56d0 │\n",
       "│ 7201d37467 ┆ 75f7068f76 ┆ [大雨注意  ┆          ┆   ┆          ┆            ┆       ┆ 12894d6616 │\n",
       "│ 3f737f3aef ┆ 91ae9dee49 ┆ 報]        ┆          ┆   ┆          ┆            ┆       ┆ d8da7e531a │\n",
       "│ …          ┆ …          ┆            ┆          ┆   ┆          ┆            ┆       ┆ …          │\n",
       "│ fcadc3dc1d ┆ 7ee745676e ┆ C.E. Days  ┆          ┆ … ┆ 0        ┆ 1731072669 ┆ 1520  ┆ 04fb5e80d8 │\n",
       "│ 52b063d559 ┆ e791b5ed9b ┆ [yumether] ┆          ┆   ┆          ┆            ┆       ┆ 57598b493c │\n",
       "│ 96790cddf4 ┆ ec4cc141a1 ┆            ┆          ┆   ┆          ┆            ┆       ┆ 544fb02040 │\n",
       "│ …          ┆ …          ┆            ┆          ┆   ┆          ┆            ┆       ┆ …          │\n",
       "└────────────┴────────────┴────────────┴──────────┴───┴──────────┴────────────┴───────┴────────────┘"
      ]
     },
     "execution_count": 230,
     "metadata": {},
     "output_type": "execute_result"
    }
   ],
   "source": [
    "df_song = pl.read_database(\n",
    "    query=\"SELECT * FROM song\", \n",
    "    connection=conn,\n",
    ")  \n",
    "df_song.write_ipc(\"songdata.ipc\")\n",
    "df_song\n"
   ]
  },
  {
   "cell_type": "code",
   "execution_count": 232,
   "metadata": {},
   "outputs": [
    {
     "name": "stdout",
     "output_type": "stream",
     "text": [
      "Tables: [('information',)]\n"
     ]
    }
   ],
   "source": [
    "db_path = 'songinfo.db'\n",
    "\n",
    "# データベースに接続\n",
    "conn = sqlite3.connect(db_path)\n",
    "cursor = conn.cursor()\n",
    "\n",
    "# テーブル一覧の表示\n",
    "cursor.execute(\"SELECT name FROM sqlite_master WHERE type='table';\")\n",
    "tables = cursor.fetchall()\n",
    "print(\"Tables:\", tables)"
   ]
  },
  {
   "cell_type": "code",
   "execution_count": 233,
   "metadata": {},
   "outputs": [
    {
     "data": {
      "text/html": [
       "<div><style>\n",
       ".dataframe > thead > tr,\n",
       ".dataframe > tbody > tr {\n",
       "  text-align: right;\n",
       "  white-space: pre-wrap;\n",
       "}\n",
       "</style>\n",
       "<small>shape: (29_792, 13)</small><table border=\"1\" class=\"dataframe\"><thead><tr><th>sha256</th><th>n</th><th>ln</th><th>s</th><th>ls</th><th>total</th><th>density</th><th>peakdensity</th><th>enddensity</th><th>mainbpm</th><th>distribution</th><th>speedchange</th><th>lanenotes</th></tr><tr><td>str</td><td>i64</td><td>i64</td><td>i64</td><td>i64</td><td>f64</td><td>f64</td><td>f64</td><td>f64</td><td>f64</td><td>str</td><td>str</td><td>str</td></tr></thead><tbody><tr><td>&quot;db80690d56ac8823bd945b19ea4603…</td><td>2166</td><td>0</td><td>46</td><td>0</td><td>444.0</td><td>18.193277</td><td>36.0</td><td>29.2</td><td>170.0</td><td>&quot;#00000000000000000000000003000…</td><td>&quot;170.0,0.0,170.0,136941.0&quot;</td><td>&quot;348,0,0,285,0,0,333,0,0,285,0,…</td></tr><tr><td>&quot;dc2da813c0d4a78f9615d5993810c6…</td><td>209</td><td>0</td><td>30</td><td>0</td><td>250.0</td><td>8.535714</td><td>23.0</td><td>13.2</td><td>145.0</td><td>&quot;#0000010000020000000100000b000…</td><td>&quot;145.0,0.0,145.0,29508.0&quot;</td><td>&quot;51,0,0,11,0,0,26,0,0,17,0,0,23…</td></tr><tr><td>&quot;62a7733b246f12a3aa2fc1b3fac94e…</td><td>306</td><td>0</td><td>30</td><td>0</td><td>275.0</td><td>12.0</td><td>53.0</td><td>25.6</td><td>145.0</td><td>&quot;#0000010000020000000100000b000…</td><td>&quot;145.0,0.0,145.0,29508.0&quot;</td><td>&quot;52,0,0,54,0,0,28,0,0,34,0,0,21…</td></tr><tr><td>&quot;9a548614b3e7a7ca8b5de04e0f4686…</td><td>111</td><td>0</td><td>30</td><td>0</td><td>225.0</td><td>5.035714</td><td>13.0</td><td>7.6</td><td>145.0</td><td>&quot;#00000100000100000001000006000…</td><td>&quot;145.0,0.0,145.0,29508.0&quot;</td><td>&quot;38,0,0,21,0,0,4,0,0,11,0,0,13,…</td></tr><tr><td>&quot;228751d9910d61c3641a5820ca5182…</td><td>52</td><td>0</td><td>30</td><td>0</td><td>200.0</td><td>2.645161</td><td>13.0</td><td>6.4</td><td>145.0</td><td>&quot;#00000100000000000001000000000…</td><td>&quot;145.0,0.0,145.0,29508.0&quot;</td><td>&quot;3,0,0,5,0,0,17,0,0,4,0,0,17,0,…</td></tr><tr><td>&hellip;</td><td>&hellip;</td><td>&hellip;</td><td>&hellip;</td><td>&hellip;</td><td>&hellip;</td><td>&hellip;</td><td>&hellip;</td><td>&hellip;</td><td>&hellip;</td><td>&hellip;</td><td>&hellip;</td><td>&hellip;</td></tr><tr><td>&quot;8d0b8e193c9ca4151cf7c9732059fc…</td><td>2171</td><td>1</td><td>17</td><td>1</td><td>455.0</td><td>15.145833</td><td>28.0</td><td>24.6</td><td>128.0</td><td>&quot;#00000000000000000000000001000…</td><td>&quot;128.0,0.0,128.0,150703.0&quot;</td><td>&quot;265,0,0,281,0,0,317,0,0,327,1,…</td></tr><tr><td>&quot;1c4ad4dc05f21e6505a6301c783eb7…</td><td>2135</td><td>0</td><td>22</td><td>1</td><td>410.0</td><td>14.653061</td><td>28.0</td><td>21.0</td><td>128.0</td><td>&quot;#00000000000000000000000001000…</td><td>&quot;128.0,0.0,128.0,150703.0&quot;</td><td>&quot;329,0,0,310,0,0,295,0,0,311,0,…</td></tr><tr><td>&quot;08a080cba48901300ffd39a6ca0a38…</td><td>2726</td><td>0</td><td>22</td><td>1</td><td>560.0</td><td>19.111888</td><td>31.0</td><td>28.8</td><td>128.0</td><td>&quot;#00000000000000000000000001000…</td><td>&quot;128.0,0.0,128.0,150703.0&quot;</td><td>&quot;391,0,0,397,0,0,376,0,0,407,0,…</td></tr><tr><td>&quot;8e0abe550375f7068f7691ae9dee49…</td><td>3333</td><td>0</td><td>22</td><td>1</td><td>600.0</td><td>23.913669</td><td>41.0</td><td>36.6</td><td>128.0</td><td>&quot;#00000000000000000000000001000…</td><td>&quot;128.0,0.0,128.0,150703.0&quot;</td><td>&quot;490,0,0,470,0,0,459,0,0,491,0,…</td></tr><tr><td>&quot;7ee745676ee791b5ed9bec4cc141a1…</td><td>1462</td><td>0</td><td>58</td><td>0</td><td>250.0</td><td>15.957895</td><td>25.0</td><td>20.8</td><td>160.0</td><td>&quot;#00000000000000000000000000000…</td><td>&quot;160.0,0.0,160.0,102937.0&quot;</td><td>&quot;186,0,0,209,0,0,201,0,0,233,0,…</td></tr></tbody></table></div>"
      ],
      "text/plain": [
       "shape: (29_792, 13)\n",
       "┌────────────────┬──────┬─────┬─────┬───┬─────────┬────────────────┬───────────────┬───────────────┐\n",
       "│ sha256         ┆ n    ┆ ln  ┆ s   ┆ … ┆ mainbpm ┆ distribution   ┆ speedchange   ┆ lanenotes     │\n",
       "│ ---            ┆ ---  ┆ --- ┆ --- ┆   ┆ ---     ┆ ---            ┆ ---           ┆ ---           │\n",
       "│ str            ┆ i64  ┆ i64 ┆ i64 ┆   ┆ f64     ┆ str            ┆ str           ┆ str           │\n",
       "╞════════════════╪══════╪═════╪═════╪═══╪═════════╪════════════════╪═══════════════╪═══════════════╡\n",
       "│ db80690d56ac88 ┆ 2166 ┆ 0   ┆ 46  ┆ … ┆ 170.0   ┆ #0000000000000 ┆ 170.0,0.0,170 ┆ 348,0,0,285,0 │\n",
       "│ 23bd945b19ea46 ┆      ┆     ┆     ┆   ┆         ┆ 00000000000030 ┆ .0,136941.0   ┆ ,0,333,0,0,28 │\n",
       "│ 03…            ┆      ┆     ┆     ┆   ┆         ┆ 00…            ┆               ┆ 5,0,…         │\n",
       "│ dc2da813c0d4a7 ┆ 209  ┆ 0   ┆ 30  ┆ … ┆ 145.0   ┆ #0000010000020 ┆ 145.0,0.0,145 ┆ 51,0,0,11,0,0 │\n",
       "│ 8f9615d5993810 ┆      ┆     ┆     ┆   ┆         ┆ 000000100000b0 ┆ .0,29508.0    ┆ ,26,0,0,17,0, │\n",
       "│ c6…            ┆      ┆     ┆     ┆   ┆         ┆ 00…            ┆               ┆ 0,23…         │\n",
       "│ 62a7733b246f12 ┆ 306  ┆ 0   ┆ 30  ┆ … ┆ 145.0   ┆ #0000010000020 ┆ 145.0,0.0,145 ┆ 52,0,0,54,0,0 │\n",
       "│ a3aa2fc1b3fac9 ┆      ┆     ┆     ┆   ┆         ┆ 000000100000b0 ┆ .0,29508.0    ┆ ,28,0,0,34,0, │\n",
       "│ 4e…            ┆      ┆     ┆     ┆   ┆         ┆ 00…            ┆               ┆ 0,21…         │\n",
       "│ 9a548614b3e7a7 ┆ 111  ┆ 0   ┆ 30  ┆ … ┆ 145.0   ┆ #0000010000010 ┆ 145.0,0.0,145 ┆ 38,0,0,21,0,0 │\n",
       "│ ca8b5de04e0f46 ┆      ┆     ┆     ┆   ┆         ┆ 00000010000060 ┆ .0,29508.0    ┆ ,4,0,0,11,0,0 │\n",
       "│ 86…            ┆      ┆     ┆     ┆   ┆         ┆ 00…            ┆               ┆ ,13,…         │\n",
       "│ 228751d9910d61 ┆ 52   ┆ 0   ┆ 30  ┆ … ┆ 145.0   ┆ #0000010000000 ┆ 145.0,0.0,145 ┆ 3,0,0,5,0,0,1 │\n",
       "│ c3641a5820ca51 ┆      ┆     ┆     ┆   ┆         ┆ 00000010000000 ┆ .0,29508.0    ┆ 7,0,0,4,0,0,1 │\n",
       "│ 82…            ┆      ┆     ┆     ┆   ┆         ┆ 00…            ┆               ┆ 7,0,…         │\n",
       "│ …              ┆ …    ┆ …   ┆ …   ┆ … ┆ …       ┆ …              ┆ …             ┆ …             │\n",
       "│ 8d0b8e193c9ca4 ┆ 2171 ┆ 1   ┆ 17  ┆ … ┆ 128.0   ┆ #0000000000000 ┆ 128.0,0.0,128 ┆ 265,0,0,281,0 │\n",
       "│ 151cf7c9732059 ┆      ┆     ┆     ┆   ┆         ┆ 00000000000010 ┆ .0,150703.0   ┆ ,0,317,0,0,32 │\n",
       "│ fc…            ┆      ┆     ┆     ┆   ┆         ┆ 00…            ┆               ┆ 7,1,…         │\n",
       "│ 1c4ad4dc05f21e ┆ 2135 ┆ 0   ┆ 22  ┆ … ┆ 128.0   ┆ #0000000000000 ┆ 128.0,0.0,128 ┆ 329,0,0,310,0 │\n",
       "│ 6505a6301c783e ┆      ┆     ┆     ┆   ┆         ┆ 00000000000010 ┆ .0,150703.0   ┆ ,0,295,0,0,31 │\n",
       "│ b7…            ┆      ┆     ┆     ┆   ┆         ┆ 00…            ┆               ┆ 1,0,…         │\n",
       "│ 08a080cba48901 ┆ 2726 ┆ 0   ┆ 22  ┆ … ┆ 128.0   ┆ #0000000000000 ┆ 128.0,0.0,128 ┆ 391,0,0,397,0 │\n",
       "│ 300ffd39a6ca0a ┆      ┆     ┆     ┆   ┆         ┆ 00000000000010 ┆ .0,150703.0   ┆ ,0,376,0,0,40 │\n",
       "│ 38…            ┆      ┆     ┆     ┆   ┆         ┆ 00…            ┆               ┆ 7,0,…         │\n",
       "│ 8e0abe550375f7 ┆ 3333 ┆ 0   ┆ 22  ┆ … ┆ 128.0   ┆ #0000000000000 ┆ 128.0,0.0,128 ┆ 490,0,0,470,0 │\n",
       "│ 068f7691ae9dee ┆      ┆     ┆     ┆   ┆         ┆ 00000000000010 ┆ .0,150703.0   ┆ ,0,459,0,0,49 │\n",
       "│ 49…            ┆      ┆     ┆     ┆   ┆         ┆ 00…            ┆               ┆ 1,0,…         │\n",
       "│ 7ee745676ee791 ┆ 1462 ┆ 0   ┆ 58  ┆ … ┆ 160.0   ┆ #0000000000000 ┆ 160.0,0.0,160 ┆ 186,0,0,209,0 │\n",
       "│ b5ed9bec4cc141 ┆      ┆     ┆     ┆   ┆         ┆ 00000000000000 ┆ .0,102937.0   ┆ ,0,201,0,0,23 │\n",
       "│ a1…            ┆      ┆     ┆     ┆   ┆         ┆ 00…            ┆               ┆ 3,0,…         │\n",
       "└────────────────┴──────┴─────┴─────┴───┴─────────┴────────────────┴───────────────┴───────────────┘"
      ]
     },
     "execution_count": 233,
     "metadata": {},
     "output_type": "execute_result"
    }
   ],
   "source": [
    "df_information = pl.read_database(\n",
    "    query=\"SELECT * FROM information\", \n",
    "    connection=conn,\n",
    ")  \n",
    "df_information.write_ipc(\"songinfo.ipc\")\n",
    "df_information"
   ]
  },
  {
   "cell_type": "markdown",
   "metadata": {},
   "source": [
    "## 難易度表\n",
    "tableフォルダ以下．bmtファイルはgzip化したjsonの模様"
   ]
  },
  {
   "cell_type": "code",
   "execution_count": 128,
   "metadata": {},
   "outputs": [
    {
     "data": {
      "text/html": [
       "<div><style>\n",
       ".dataframe > thead > tr,\n",
       ".dataframe > tbody > tr {\n",
       "  text-align: right;\n",
       "  white-space: pre-wrap;\n",
       "}\n",
       "</style>\n",
       "<small>shape: (26_846, 8)</small><table border=\"1\" class=\"dataframe\"><thead><tr><th>table_url</th><th>table_name</th><th>table_tag</th><th>folder_class</th><th>folder_name</th><th>song_class</th><th>title</th><th>md5</th></tr><tr><td>str</td><td>str</td><td>str</td><td>str</td><td>str</td><td>str</td><td>str</td><td>str</td></tr></thead><tbody><tr><td>&quot;http://walkure.net/hakkyou/for…</td><td>&quot;発狂BMS難度推定表 EASY&quot;</td><td>&quot;E★&quot;</td><td>&quot;bms.player.beatoraja.TableData…</td><td>&quot;E★...0.00&quot;</td><td>&quot;bms.player.beatoraja.song.Song…</td><td>&quot;Canon (blazing summer mix) [EX…</td><td>&quot;4b2ef6fdb08c645bf82e5ee1c78737…</td></tr><tr><td>&quot;http://walkure.net/hakkyou/for…</td><td>&quot;発狂BMS難度推定表 EASY&quot;</td><td>&quot;E★&quot;</td><td>&quot;bms.player.beatoraja.TableData…</td><td>&quot;E★...0.00&quot;</td><td>&quot;bms.player.beatoraja.song.Song…</td><td>&quot;Crossover (Chain mix)&quot;</td><td>&quot;8104bc6b3580ec33e2f8a425488f0d…</td></tr><tr><td>&quot;http://walkure.net/hakkyou/for…</td><td>&quot;発狂BMS難度推定表 EASY&quot;</td><td>&quot;E★&quot;</td><td>&quot;bms.player.beatoraja.TableData…</td><td>&quot;E★...0.00&quot;</td><td>&quot;bms.player.beatoraja.song.Song…</td><td>&quot;Dream Rocket* [for Rea&#x27;ju]&quot;</td><td>&quot;9a802d829114988fa78264f428a660…</td></tr><tr><td>&quot;http://walkure.net/hakkyou/for…</td><td>&quot;発狂BMS難度推定表 EASY&quot;</td><td>&quot;E★&quot;</td><td>&quot;bms.player.beatoraja.TableData…</td><td>&quot;E★...0.00&quot;</td><td>&quot;bms.player.beatoraja.song.Song…</td><td>&quot;Elina (feat. Reislaufer) [HARD…</td><td>&quot;6d5b9c4409daada59c8968f9129cb7…</td></tr><tr><td>&quot;http://walkure.net/hakkyou/for…</td><td>&quot;発狂BMS難度推定表 EASY&quot;</td><td>&quot;E★&quot;</td><td>&quot;bms.player.beatoraja.TableData…</td><td>&quot;E★...0.00&quot;</td><td>&quot;bms.player.beatoraja.song.Song…</td><td>&quot;Lucid Dreaming [ExHard]&quot;</td><td>&quot;215ddf8b7907896693a6b6e4163d02…</td></tr><tr><td>&hellip;</td><td>&hellip;</td><td>&hellip;</td><td>&hellip;</td><td>&hellip;</td><td>&hellip;</td><td>&hellip;</td><td>&hellip;</td></tr><tr><td>&quot;http://minddnim.web.fc2.com/sa…</td><td>&quot;皿難易度表(3rd)&quot;</td><td>&quot;h◎&quot;</td><td>&quot;bms.player.beatoraja.TableData…</td><td>&quot;h◎16&quot;</td><td>&quot;bms.player.beatoraja.song.Song…</td><td>&quot;ダークサンバランド 闇に染まった皿&quot;</td><td>&quot;bebb4376697a7182aed3ca4947ad15…</td></tr><tr><td>&quot;http://minddnim.web.fc2.com/sa…</td><td>&quot;皿難易度表(3rd)&quot;</td><td>&quot;h◎&quot;</td><td>&quot;bms.player.beatoraja.TableData…</td><td>&quot;h◎16&quot;</td><td>&quot;bms.player.beatoraja.song.Song…</td><td>&quot;人　身　事　故　で　高　速　皿&quot;</td><td>&quot;a8b3b8af39f0d09d8a175fa973ff37…</td></tr><tr><td>&quot;http://minddnim.web.fc2.com/sa…</td><td>&quot;皿難易度表(3rd)&quot;</td><td>&quot;h◎&quot;</td><td>&quot;bms.player.beatoraja.TableData…</td><td>&quot;h◎16&quot;</td><td>&quot;bms.player.beatoraja.song.Song…</td><td>&quot;年中夢中な好奇心[USC◎] &quot;</td><td>&quot;ae3e471dc42b93f7a6fadfaccdee05…</td></tr><tr><td>&quot;http://minddnim.web.fc2.com/sa…</td><td>&quot;皿難易度表(3rd)&quot;</td><td>&quot;h◎&quot;</td><td>&quot;bms.player.beatoraja.TableData…</td><td>&quot;h◎16&quot;</td><td>&quot;bms.player.beatoraja.song.Song…</td><td>&quot;必然死の運命論&quot;</td><td>&quot;f11050396cb3fd3156d4804edeece1…</td></tr><tr><td>&quot;http://minddnim.web.fc2.com/sa…</td><td>&quot;皿難易度表(3rd)&quot;</td><td>&quot;h◎&quot;</td><td>&quot;bms.player.beatoraja.TableData…</td><td>&quot;h◎16&quot;</td><td>&quot;bms.player.beatoraja.song.Song…</td><td>&quot;戦歌「オルグサラリヤ」&quot;</td><td>&quot;0e3cad75b8c5087a2017f0c4a0cd79…</td></tr></tbody></table></div>"
      ],
      "text/plain": [
       "shape: (26_846, 8)\n",
       "┌────────────┬────────────┬───────────┬────────────┬───────────┬───────────┬───────────┬───────────┐\n",
       "│ table_url  ┆ table_name ┆ table_tag ┆ folder_cla ┆ folder_na ┆ song_clas ┆ title     ┆ md5       │\n",
       "│ ---        ┆ ---        ┆ ---       ┆ ss         ┆ me        ┆ s         ┆ ---       ┆ ---       │\n",
       "│ str        ┆ str        ┆ str       ┆ ---        ┆ ---       ┆ ---       ┆ str       ┆ str       │\n",
       "│            ┆            ┆           ┆ str        ┆ str       ┆ str       ┆           ┆           │\n",
       "╞════════════╪════════════╪═══════════╪════════════╪═══════════╪═══════════╪═══════════╪═══════════╡\n",
       "│ http://wal ┆ 発狂BMS難  ┆ E★        ┆ bms.player ┆ E★...0.00 ┆ bms.playe ┆ Canon     ┆ 4b2ef6fdb │\n",
       "│ kure.net/h ┆ 度推定表   ┆           ┆ .beatoraja ┆           ┆ r.beatora ┆ (blazing  ┆ 08c645bf8 │\n",
       "│ akkyou/for ┆ EASY       ┆           ┆ .TableData ┆           ┆ ja.song.S ┆ summer    ┆ 2e5ee1c78 │\n",
       "│ …          ┆            ┆           ┆ …          ┆           ┆ ong…      ┆ mix) [EX… ┆ 737…      │\n",
       "│ http://wal ┆ 発狂BMS難  ┆ E★        ┆ bms.player ┆ E★...0.00 ┆ bms.playe ┆ Crossover ┆ 8104bc6b3 │\n",
       "│ kure.net/h ┆ 度推定表   ┆           ┆ .beatoraja ┆           ┆ r.beatora ┆ (Chain    ┆ 580ec33e2 │\n",
       "│ akkyou/for ┆ EASY       ┆           ┆ .TableData ┆           ┆ ja.song.S ┆ mix)      ┆ f8a425488 │\n",
       "│ …          ┆            ┆           ┆ …          ┆           ┆ ong…      ┆           ┆ f0d…      │\n",
       "│ http://wal ┆ 発狂BMS難  ┆ E★        ┆ bms.player ┆ E★...0.00 ┆ bms.playe ┆ Dream     ┆ 9a802d829 │\n",
       "│ kure.net/h ┆ 度推定表   ┆           ┆ .beatoraja ┆           ┆ r.beatora ┆ Rocket*   ┆ 114988fa7 │\n",
       "│ akkyou/for ┆ EASY       ┆           ┆ .TableData ┆           ┆ ja.song.S ┆ [for      ┆ 8264f428a │\n",
       "│ …          ┆            ┆           ┆ …          ┆           ┆ ong…      ┆ Rea'ju]   ┆ 660…      │\n",
       "│ http://wal ┆ 発狂BMS難  ┆ E★        ┆ bms.player ┆ E★...0.00 ┆ bms.playe ┆ Elina     ┆ 6d5b9c440 │\n",
       "│ kure.net/h ┆ 度推定表   ┆           ┆ .beatoraja ┆           ┆ r.beatora ┆ (feat.    ┆ 9daada59c │\n",
       "│ akkyou/for ┆ EASY       ┆           ┆ .TableData ┆           ┆ ja.song.S ┆ Reislaufe ┆ 8968f9129 │\n",
       "│ …          ┆            ┆           ┆ …          ┆           ┆ ong…      ┆ r) [HARD… ┆ cb7…      │\n",
       "│ http://wal ┆ 発狂BMS難  ┆ E★        ┆ bms.player ┆ E★...0.00 ┆ bms.playe ┆ Lucid     ┆ 215ddf8b7 │\n",
       "│ kure.net/h ┆ 度推定表   ┆           ┆ .beatoraja ┆           ┆ r.beatora ┆ Dreaming  ┆ 907896693 │\n",
       "│ akkyou/for ┆ EASY       ┆           ┆ .TableData ┆           ┆ ja.song.S ┆ [ExHard]  ┆ a6b6e4163 │\n",
       "│ …          ┆            ┆           ┆ …          ┆           ┆ ong…      ┆           ┆ d02…      │\n",
       "│ …          ┆ …          ┆ …         ┆ …          ┆ …         ┆ …         ┆ …         ┆ …         │\n",
       "│ http://min ┆ 皿難易度表 ┆ h◎        ┆ bms.player ┆ h◎16      ┆ bms.playe ┆ ダークサ  ┆ bebb43766 │\n",
       "│ ddnim.web. ┆ (3rd)      ┆           ┆ .beatoraja ┆           ┆ r.beatora ┆ ンバラン  ┆ 97a7182ae │\n",
       "│ fc2.com/sa ┆            ┆           ┆ .TableData ┆           ┆ ja.song.S ┆ ド 闇に染 ┆ d3ca4947a │\n",
       "│ …          ┆            ┆           ┆ …          ┆           ┆ ong…      ┆ まった皿  ┆ d15…      │\n",
       "│ http://min ┆ 皿難易度表 ┆ h◎        ┆ bms.player ┆ h◎16      ┆ bms.playe ┆ 人　身　  ┆ a8b3b8af3 │\n",
       "│ ddnim.web. ┆ (3rd)      ┆           ┆ .beatoraja ┆           ┆ r.beatora ┆ 事　故　  ┆ 9f0d09d8a │\n",
       "│ fc2.com/sa ┆            ┆           ┆ .TableData ┆           ┆ ja.song.S ┆ で　高　  ┆ 175fa973f │\n",
       "│ …          ┆            ┆           ┆ …          ┆           ┆ ong…      ┆ 速　皿    ┆ f37…      │\n",
       "│ http://min ┆ 皿難易度表 ┆ h◎        ┆ bms.player ┆ h◎16      ┆ bms.playe ┆ 年中夢中  ┆ ae3e471dc │\n",
       "│ ddnim.web. ┆ (3rd)      ┆           ┆ .beatoraja ┆           ┆ r.beatora ┆ な好奇心[ ┆ 42b93f7a6 │\n",
       "│ fc2.com/sa ┆            ┆           ┆ .TableData ┆           ┆ ja.song.S ┆ USC◎]     ┆ fadfaccde │\n",
       "│ …          ┆            ┆           ┆ …          ┆           ┆ ong…      ┆           ┆ e05…      │\n",
       "│ http://min ┆ 皿難易度表 ┆ h◎        ┆ bms.player ┆ h◎16      ┆ bms.playe ┆ 必然死の  ┆ f11050396 │\n",
       "│ ddnim.web. ┆ (3rd)      ┆           ┆ .beatoraja ┆           ┆ r.beatora ┆ 運命論    ┆ cb3fd3156 │\n",
       "│ fc2.com/sa ┆            ┆           ┆ .TableData ┆           ┆ ja.song.S ┆           ┆ d4804edee │\n",
       "│ …          ┆            ┆           ┆ …          ┆           ┆ ong…      ┆           ┆ ce1…      │\n",
       "│ http://min ┆ 皿難易度表 ┆ h◎        ┆ bms.player ┆ h◎16      ┆ bms.playe ┆ 戦歌「オ  ┆ 0e3cad75b │\n",
       "│ ddnim.web. ┆ (3rd)      ┆           ┆ .beatoraja ┆           ┆ r.beatora ┆ ルグサラ  ┆ 8c5087a20 │\n",
       "│ fc2.com/sa ┆            ┆           ┆ .TableData ┆           ┆ ja.song.S ┆ リヤ」    ┆ 17f0c4a0c │\n",
       "│ …          ┆            ┆           ┆ …          ┆           ┆ ong…      ┆           ┆ d79…      │\n",
       "└────────────┴────────────┴───────────┴────────────┴───────────┴───────────┴───────────┴───────────┘"
      ]
     },
     "execution_count": 128,
     "metadata": {},
     "output_type": "execute_result"
    }
   ],
   "source": [
    "import gzip\n",
    "import json\n",
    "from pathlib import Path\n",
    "from typing import Optional\n",
    "from pydantic import BaseModel, Field\n",
    "\n",
    "class Song(BaseModel):\n",
    "    class_: str = Field(..., alias='class')\n",
    "    title: str\n",
    "    md5: Optional[str] = None\n",
    "\n",
    "class Folder(BaseModel):\n",
    "    class_: str = Field(..., alias='class')\n",
    "    name: str\n",
    "    songs: list[Song]\n",
    "    \n",
    "\n",
    "class Table(BaseModel):\n",
    "    url: Optional[str] = None\n",
    "    name: str\n",
    "    tag: Optional[str] = None\n",
    "    folder: list[Folder]\n",
    "\n",
    "rows = []\n",
    "table_path = Path(\"table\")\n",
    "\n",
    "for a_table_path in table_path.glob(\"*.bmt\"):\n",
    "    with gzip.open(a_table_path, \"r\") as f:\n",
    "        content = json.load(f)\n",
    "    table = Table.model_validate(content)\n",
    "\n",
    "    table_url = table.url\n",
    "    table_name = table.name\n",
    "    table_tag = table.tag\n",
    "    for folder in table.folder:\n",
    "        folder_class = folder.class_\n",
    "        folder_name = folder.name\n",
    "        for song in folder.songs:\n",
    "            song_class = song.class_\n",
    "            title = song.title\n",
    "            md5 = song.md5\n",
    "            a_row = {\n",
    "                \"table_url\": table_url,\n",
    "                \"table_name\": table_name,\n",
    "                \"table_tag\": table_tag,\n",
    "                \"folder_class\": folder_class,\n",
    "                \"folder_name\": folder_name,\n",
    "                \"song_class\": song_class,\n",
    "                \"title\": title,\n",
    "                \"md5\": md5\n",
    "            }\n",
    "            rows.append(a_row)\n",
    "df_tables = pl.DataFrame(rows)\n",
    "df_tables"
   ]
  },
  {
   "cell_type": "code",
   "execution_count": 242,
   "metadata": {},
   "outputs": [
    {
     "data": {
      "text/html": [
       "<div><style>\n",
       ".dataframe > thead > tr,\n",
       ".dataframe > tbody > tr {\n",
       "  text-align: right;\n",
       "  white-space: pre-wrap;\n",
       "}\n",
       "</style>\n",
       "<small>shape: (14_553, 2)</small><table border=\"1\" class=\"dataframe\"><thead><tr><th>md5</th><th>folder_name</th></tr><tr><td>str</td><td>list[str]</td></tr></thead><tbody><tr><td>&quot;b596e986bdae628e12b4f4130c4e7b…</td><td>[&quot;▽10&quot;, &quot;▽10&quot;]</td></tr><tr><td>&quot;3a99fe0320c50955dfe971634a6829…</td><td>[&quot;▽11+&quot;, &quot;▽11+&quot;]</td></tr><tr><td>&quot;54f49358eee5e93059fe63f4309b80…</td><td>[&quot;≡10&quot;]</td></tr><tr><td>&quot;b3d5d615f66d891f2a14e11fbe3062…</td><td>[&quot;st0&quot;]</td></tr><tr><td>&quot;93937361aa4b87b6aa31272511211f…</td><td>[&quot;st1&quot;]</td></tr><tr><td>&hellip;</td><td>&hellip;</td></tr><tr><td>&quot;cb92f92aa7868b6ce68df35c055068…</td><td>[&quot;▽7&quot;, &quot;▽7&quot;]</td></tr><tr><td>&quot;44d653a00bffcd471a1d0fa0a96334…</td><td>[&quot;st3&quot;]</td></tr><tr><td>&quot;4dc33afda02f2e2e31835e5b099c49…</td><td>[&quot;st8&quot;]</td></tr><tr><td>&quot;b5e51e9cb0687419839f0e8e249ec9…</td><td>[&quot;δ8&quot;]</td></tr><tr><td>&quot;76eb97720c7f088c2155af00064ac9…</td><td>[&quot;E★18.50...19.00&quot;, &quot;N★21.00...21.50&quot;, … &quot;F★26.50...27.00&quot;]</td></tr></tbody></table></div>"
      ],
      "text/plain": [
       "shape: (14_553, 2)\n",
       "┌─────────────────────────────────┬─────────────────────────────────┐\n",
       "│ md5                             ┆ folder_name                     │\n",
       "│ ---                             ┆ ---                             │\n",
       "│ str                             ┆ list[str]                       │\n",
       "╞═════════════════════════════════╪═════════════════════════════════╡\n",
       "│ b596e986bdae628e12b4f4130c4e7b… ┆ [\"▽10\", \"▽10\"]                  │\n",
       "│ 3a99fe0320c50955dfe971634a6829… ┆ [\"▽11+\", \"▽11+\"]                │\n",
       "│ 54f49358eee5e93059fe63f4309b80… ┆ [\"≡10\"]                         │\n",
       "│ b3d5d615f66d891f2a14e11fbe3062… ┆ [\"st0\"]                         │\n",
       "│ 93937361aa4b87b6aa31272511211f… ┆ [\"st1\"]                         │\n",
       "│ …                               ┆ …                               │\n",
       "│ cb92f92aa7868b6ce68df35c055068… ┆ [\"▽7\", \"▽7\"]                    │\n",
       "│ 44d653a00bffcd471a1d0fa0a96334… ┆ [\"st3\"]                         │\n",
       "│ 4dc33afda02f2e2e31835e5b099c49… ┆ [\"st8\"]                         │\n",
       "│ b5e51e9cb0687419839f0e8e249ec9… ┆ [\"δ8\"]                          │\n",
       "│ 76eb97720c7f088c2155af00064ac9… ┆ [\"E★18.50...19.00\", \"N★21.00..… │\n",
       "└─────────────────────────────────┴─────────────────────────────────┘"
      ]
     },
     "execution_count": 242,
     "metadata": {},
     "output_type": "execute_result"
    }
   ],
   "source": [
    "df_tag = df_tables[[\"md5\", \"folder_name\"]].group_by(\"md5\").agg(pl.col(\"folder_name\"))\n",
    "df_tag"
   ]
  },
  {
   "cell_type": "code",
   "execution_count": 118,
   "metadata": {},
   "outputs": [
    {
     "data": {
      "text/plain": [
       "{'class': 'bms.player.beatoraja.TableData$TableFolder',\n",
       " 'name': 'E★...0.00',\n",
       " 'songs': [{'class': 'bms.player.beatoraja.song.SongData',\n",
       "   'title': 'Canon (blazing summer mix) [EXTRA]',\n",
       "   'md5': '4b2ef6fdb08c645bf82e5ee1c78737ae'},\n",
       "  {'class': 'bms.player.beatoraja.song.SongData',\n",
       "   'title': 'Crossover (Chain mix)',\n",
       "   'md5': '8104bc6b3580ec33e2f8a425488f0d5f'},\n",
       "  {'class': 'bms.player.beatoraja.song.SongData',\n",
       "   'title': \"Dream Rocket* [for Rea'ju]\",\n",
       "   'md5': '9a802d829114988fa78264f428a660f4'},\n",
       "  {'class': 'bms.player.beatoraja.song.SongData',\n",
       "   'title': 'Elina (feat. Reislaufer) [HARD]',\n",
       "   'md5': '6d5b9c4409daada59c8968f9129cb789'},\n",
       "  {'class': 'bms.player.beatoraja.song.SongData',\n",
       "   'title': 'Lucid Dreaming [ExHard]',\n",
       "   'md5': '215ddf8b7907896693a6b6e4163d02d1'},\n",
       "  {'class': 'bms.player.beatoraja.song.SongData',\n",
       "   'title': 'NewGamePlus [Good old game]',\n",
       "   'md5': '1b4566b508cb58387480a0406d87cb1b'},\n",
       "  {'class': 'bms.player.beatoraja.song.SongData',\n",
       "   'title': 'Valedict',\n",
       "   'md5': 'a69797e5735be285a032d519788f2424'},\n",
       "  {'class': 'bms.player.beatoraja.song.SongData',\n",
       "   'title': '僕たちの旅とエピローグ。',\n",
       "   'md5': 'e5de5ecec3da46cf9beb08fe103b2e3d'},\n",
       "  {'class': 'bms.player.beatoraja.song.SongData',\n",
       "   'title': '点、線、面、立体 [SP ANOTHER+]',\n",
       "   'md5': '36611f2dbd11d859463efb6b4df59823'}]}"
      ]
     },
     "execution_count": 118,
     "metadata": {},
     "output_type": "execute_result"
    }
   ],
   "source": [
    "content[\"folder\"]\n",
    "content[\"folder\"][0]"
   ]
  },
  {
   "cell_type": "markdown",
   "metadata": {},
   "source": [
    "# ノーツ数集計"
   ]
  },
  {
   "cell_type": "markdown",
   "metadata": {},
   "source": [
    "df_playerのdate(unixtime)を横軸に，epg~lprの和をtotal notesとして縦軸にプロットする"
   ]
  },
  {
   "cell_type": "code",
   "execution_count": 6,
   "metadata": {},
   "outputs": [
    {
     "data": {
      "text/html": [
       "<div><style>\n",
       ".dataframe > thead > tr,\n",
       ".dataframe > tbody > tr {\n",
       "  text-align: right;\n",
       "  white-space: pre-wrap;\n",
       "}\n",
       "</style>\n",
       "<small>shape: (281, 17)</small><table border=\"1\" class=\"dataframe\"><thead><tr><th>date</th><th>playcount</th><th>clear</th><th>epg</th><th>lpg</th><th>egr</th><th>lgr</th><th>egd</th><th>lgd</th><th>ebd</th><th>lbd</th><th>epr</th><th>lpr</th><th>ems</th><th>lms</th><th>playtime</th><th>maxcombo</th></tr><tr><td>i64</td><td>i64</td><td>i64</td><td>i64</td><td>i64</td><td>i64</td><td>i64</td><td>i64</td><td>i64</td><td>i64</td><td>i64</td><td>i64</td><td>i64</td><td>i64</td><td>i64</td><td>i64</td><td>i64</td></tr></thead><tbody><tr><td>0</td><td>0</td><td>0</td><td>0</td><td>0</td><td>0</td><td>0</td><td>0</td><td>0</td><td>0</td><td>0</td><td>0</td><td>0</td><td>0</td><td>0</td><td>0</td><td>0</td></tr><tr><td>1637852400</td><td>55</td><td>36</td><td>23360</td><td>8366</td><td>32612</td><td>2638</td><td>4200</td><td>623</td><td>376</td><td>50</td><td>3</td><td>785</td><td>410</td><td>541</td><td>6828</td><td>0</td></tr><tr><td>1637938800</td><td>66</td><td>46</td><td>27829</td><td>9855</td><td>41441</td><td>3272</td><td>5626</td><td>843</td><td>491</td><td>62</td><td>3</td><td>1022</td><td>550</td><td>671</td><td>8180</td><td>0</td></tr><tr><td>1638025200</td><td>104</td><td>81</td><td>47433</td><td>18588</td><td>57991</td><td>5712</td><td>7572</td><td>1416</td><td>710</td><td>111</td><td>5</td><td>1489</td><td>801</td><td>1032</td><td>12811</td><td>0</td></tr><tr><td>1638111600</td><td>139</td><td>111</td><td>62906</td><td>25400</td><td>76239</td><td>8199</td><td>11213</td><td>2271</td><td>1266</td><td>164</td><td>6</td><td>2439</td><td>1297</td><td>1689</td><td>16929</td><td>0</td></tr><tr><td>&hellip;</td><td>&hellip;</td><td>&hellip;</td><td>&hellip;</td><td>&hellip;</td><td>&hellip;</td><td>&hellip;</td><td>&hellip;</td><td>&hellip;</td><td>&hellip;</td><td>&hellip;</td><td>&hellip;</td><td>&hellip;</td><td>&hellip;</td><td>&hellip;</td><td>&hellip;</td><td>&hellip;</td></tr><tr><td>1669388400</td><td>12001</td><td>5341</td><td>7620796</td><td>4241598</td><td>7599645</td><td>2417746</td><td>1538313</td><td>1108013</td><td>370721</td><td>23550</td><td>2702</td><td>681538</td><td>191121</td><td>339405</td><td>1499110</td><td>0</td></tr><tr><td>1669474800</td><td>12049</td><td>5354</td><td>7651876</td><td>4265403</td><td>7618648</td><td>2433071</td><td>1543058</td><td>1113917</td><td>372353</td><td>23718</td><td>2733</td><td>684995</td><td>191908</td><td>341000</td><td>1504968</td><td>0</td></tr><tr><td>1669561200</td><td>12094</td><td>5380</td><td>7680274</td><td>4286662</td><td>7631640</td><td>2443884</td><td>1545466</td><td>1117516</td><td>373214</td><td>23815</td><td>2739</td><td>686727</td><td>192318</td><td>341954</td><td>1510596</td><td>0</td></tr><tr><td>1669993200</td><td>12121</td><td>5402</td><td>7697802</td><td>4295454</td><td>7642622</td><td>2446534</td><td>1546416</td><td>1117989</td><td>373332</td><td>23826</td><td>2739</td><td>687038</td><td>192407</td><td>342204</td><td>1513701</td><td>0</td></tr><tr><td>1677337200</td><td>12127</td><td>5408</td><td>7700679</td><td>4297235</td><td>7644397</td><td>2447292</td><td>1546680</td><td>1118125</td><td>373367</td><td>23829</td><td>2739</td><td>687103</td><td>192421</td><td>342288</td><td>1514298</td><td>0</td></tr></tbody></table></div>"
      ],
      "text/plain": [
       "shape: (281, 17)\n",
       "┌────────────┬───────────┬───────┬─────────┬───┬────────┬────────┬──────────┬──────────┐\n",
       "│ date       ┆ playcount ┆ clear ┆ epg     ┆ … ┆ ems    ┆ lms    ┆ playtime ┆ maxcombo │\n",
       "│ ---        ┆ ---       ┆ ---   ┆ ---     ┆   ┆ ---    ┆ ---    ┆ ---      ┆ ---      │\n",
       "│ i64        ┆ i64       ┆ i64   ┆ i64     ┆   ┆ i64    ┆ i64    ┆ i64      ┆ i64      │\n",
       "╞════════════╪═══════════╪═══════╪═════════╪═══╪════════╪════════╪══════════╪══════════╡\n",
       "│ 0          ┆ 0         ┆ 0     ┆ 0       ┆ … ┆ 0      ┆ 0      ┆ 0        ┆ 0        │\n",
       "│ 1637852400 ┆ 55        ┆ 36    ┆ 23360   ┆ … ┆ 410    ┆ 541    ┆ 6828     ┆ 0        │\n",
       "│ 1637938800 ┆ 66        ┆ 46    ┆ 27829   ┆ … ┆ 550    ┆ 671    ┆ 8180     ┆ 0        │\n",
       "│ 1638025200 ┆ 104       ┆ 81    ┆ 47433   ┆ … ┆ 801    ┆ 1032   ┆ 12811    ┆ 0        │\n",
       "│ 1638111600 ┆ 139       ┆ 111   ┆ 62906   ┆ … ┆ 1297   ┆ 1689   ┆ 16929    ┆ 0        │\n",
       "│ …          ┆ …         ┆ …     ┆ …       ┆ … ┆ …      ┆ …      ┆ …        ┆ …        │\n",
       "│ 1669388400 ┆ 12001     ┆ 5341  ┆ 7620796 ┆ … ┆ 191121 ┆ 339405 ┆ 1499110  ┆ 0        │\n",
       "│ 1669474800 ┆ 12049     ┆ 5354  ┆ 7651876 ┆ … ┆ 191908 ┆ 341000 ┆ 1504968  ┆ 0        │\n",
       "│ 1669561200 ┆ 12094     ┆ 5380  ┆ 7680274 ┆ … ┆ 192318 ┆ 341954 ┆ 1510596  ┆ 0        │\n",
       "│ 1669993200 ┆ 12121     ┆ 5402  ┆ 7697802 ┆ … ┆ 192407 ┆ 342204 ┆ 1513701  ┆ 0        │\n",
       "│ 1677337200 ┆ 12127     ┆ 5408  ┆ 7700679 ┆ … ┆ 192421 ┆ 342288 ┆ 1514298  ┆ 0        │\n",
       "└────────────┴───────────┴───────┴─────────┴───┴────────┴────────┴──────────┴──────────┘"
      ]
     },
     "execution_count": 6,
     "metadata": {},
     "output_type": "execute_result"
    }
   ],
   "source": [
    "df_player"
   ]
  },
  {
   "cell_type": "code",
   "execution_count": 23,
   "metadata": {},
   "outputs": [
    {
     "data": {
      "text/html": [
       "<div><style>\n",
       ".dataframe > thead > tr,\n",
       ".dataframe > tbody > tr {\n",
       "  text-align: right;\n",
       "  white-space: pre-wrap;\n",
       "}\n",
       "</style>\n",
       "<small>shape: (279, 3)</small><table border=\"1\" class=\"dataframe\"><thead><tr><th>date</th><th>notes</th><th>increase</th></tr><tr><td>datetime[μs]</td><td>i64</td><td>i64</td></tr></thead><tbody><tr><td>2021-11-25 15:00:00</td><td>73013</td><td>73013</td></tr><tr><td>2021-11-26 15:00:00</td><td>90444</td><td>17431</td></tr><tr><td>2021-11-27 15:00:00</td><td>141027</td><td>50583</td></tr><tr><td>2021-11-28 15:00:00</td><td>190103</td><td>49076</td></tr><tr><td>2021-11-29 15:00:00</td><td>227117</td><td>37014</td></tr><tr><td>&hellip;</td><td>&hellip;</td><td>&hellip;</td></tr><tr><td>2022-11-24 15:00:00</td><td>25578405</td><td>117318</td></tr><tr><td>2022-11-25 15:00:00</td><td>25604622</td><td>26217</td></tr><tr><td>2022-11-26 15:00:00</td><td>25709772</td><td>105150</td></tr><tr><td>2022-11-27 15:00:00</td><td>25791937</td><td>82165</td></tr><tr><td>2022-12-02 15:00:00</td><td>25833752</td><td>41815</td></tr></tbody></table></div>"
      ],
      "text/plain": [
       "shape: (279, 3)\n",
       "┌─────────────────────┬──────────┬──────────┐\n",
       "│ date                ┆ notes    ┆ increase │\n",
       "│ ---                 ┆ ---      ┆ ---      │\n",
       "│ datetime[μs]        ┆ i64      ┆ i64      │\n",
       "╞═════════════════════╪══════════╪══════════╡\n",
       "│ 2021-11-25 15:00:00 ┆ 73013    ┆ 73013    │\n",
       "│ 2021-11-26 15:00:00 ┆ 90444    ┆ 17431    │\n",
       "│ 2021-11-27 15:00:00 ┆ 141027   ┆ 50583    │\n",
       "│ 2021-11-28 15:00:00 ┆ 190103   ┆ 49076    │\n",
       "│ 2021-11-29 15:00:00 ┆ 227117   ┆ 37014    │\n",
       "│ …                   ┆ …        ┆ …        │\n",
       "│ 2022-11-24 15:00:00 ┆ 25578405 ┆ 117318   │\n",
       "│ 2022-11-25 15:00:00 ┆ 25604622 ┆ 26217    │\n",
       "│ 2022-11-26 15:00:00 ┆ 25709772 ┆ 105150   │\n",
       "│ 2022-11-27 15:00:00 ┆ 25791937 ┆ 82165    │\n",
       "│ 2022-12-02 15:00:00 ┆ 25833752 ┆ 41815    │\n",
       "└─────────────────────┴──────────┴──────────┘"
      ]
     },
     "execution_count": 23,
     "metadata": {},
     "output_type": "execute_result"
    }
   ],
   "source": [
    "date = pl.from_epoch(df_player[\"date\"], time_unit='s')\n",
    "notes = df_player[\"epg\"] + df_player[\"lpg\"] + df_player[\"egr\"] + df_player[\"lgr\"] + df_player[\"egd\"] + df_player[\"lgd\"] + df_player[\"ebd\"] + df_player[\"lbd\"] + df_player[\"epr\"] + df_player[\"lpr\"] \n",
    "df_notes = pl.DataFrame({\n",
    "    \"date\": date[1:-1],\n",
    "    \"notes\": notes[1:-1],\n",
    "    \"increase\": (notes - notes.shift(1))[1:-1],\n",
    "})\n",
    "df_notes"
   ]
  },
  {
   "cell_type": "code",
   "execution_count": 32,
   "metadata": {},
   "outputs": [
    {
     "data": {
      "application/vnd.plotly.v1+json": {
       "config": {
        "plotlyServerURL": "https://plot.ly"
       },
       "data": [
        {
         "name": "Increase in Notes",
         "opacity": 0.5,
         "type": "bar",
         "x": [
          "2021-11-25T15:00:00",
          "2021-11-26T15:00:00",
          "2021-11-27T15:00:00",
          "2021-11-28T15:00:00",
          "2021-11-29T15:00:00",
          "2021-11-30T15:00:00",
          "2021-12-01T15:00:00",
          "2021-12-02T15:00:00",
          "2021-12-06T15:00:00",
          "2021-12-07T15:00:00",
          "2021-12-08T15:00:00",
          "2021-12-09T15:00:00",
          "2021-12-10T15:00:00",
          "2021-12-12T15:00:00",
          "2021-12-13T15:00:00",
          "2021-12-14T15:00:00",
          "2021-12-15T15:00:00",
          "2021-12-16T15:00:00",
          "2021-12-17T15:00:00",
          "2021-12-18T15:00:00",
          "2021-12-19T15:00:00",
          "2021-12-20T15:00:00",
          "2021-12-21T15:00:00",
          "2021-12-23T15:00:00",
          "2021-12-24T15:00:00",
          "2021-12-25T15:00:00",
          "2021-12-27T15:00:00",
          "2021-12-28T15:00:00",
          "2022-01-02T15:00:00",
          "2022-01-03T15:00:00",
          "2022-01-05T15:00:00",
          "2022-01-06T15:00:00",
          "2022-01-08T15:00:00",
          "2022-01-09T15:00:00",
          "2022-01-10T15:00:00",
          "2022-01-11T15:00:00",
          "2022-01-12T15:00:00",
          "2022-01-13T15:00:00",
          "2022-01-14T15:00:00",
          "2022-01-15T15:00:00",
          "2022-01-17T15:00:00",
          "2022-01-18T15:00:00",
          "2022-01-19T15:00:00",
          "2022-01-20T15:00:00",
          "2022-01-24T15:00:00",
          "2022-01-25T15:00:00",
          "2022-01-26T15:00:00",
          "2022-01-27T15:00:00",
          "2022-01-28T15:00:00",
          "2022-01-29T15:00:00",
          "2022-01-30T15:00:00",
          "2022-01-31T15:00:00",
          "2022-02-01T15:00:00",
          "2022-02-02T15:00:00",
          "2022-02-03T15:00:00",
          "2022-02-04T15:00:00",
          "2022-02-05T15:00:00",
          "2022-02-06T15:00:00",
          "2022-02-12T15:00:00",
          "2022-02-13T15:00:00",
          "2022-02-14T15:00:00",
          "2022-02-15T15:00:00",
          "2022-02-16T15:00:00",
          "2022-02-17T15:00:00",
          "2022-02-19T15:00:00",
          "2022-02-20T15:00:00",
          "2022-02-22T15:00:00",
          "2022-02-23T15:00:00",
          "2022-02-24T15:00:00",
          "2022-02-25T15:00:00",
          "2022-02-26T15:00:00",
          "2022-02-27T15:00:00",
          "2022-02-28T15:00:00",
          "2022-03-01T15:00:00",
          "2022-03-02T15:00:00",
          "2022-03-03T15:00:00",
          "2022-03-05T15:00:00",
          "2022-03-06T15:00:00",
          "2022-03-07T15:00:00",
          "2022-03-08T15:00:00",
          "2022-03-09T15:00:00",
          "2022-03-11T15:00:00",
          "2022-03-12T15:00:00",
          "2022-03-14T15:00:00",
          "2022-03-15T15:00:00",
          "2022-03-16T15:00:00",
          "2022-03-20T15:00:00",
          "2022-03-21T15:00:00",
          "2022-03-22T15:00:00",
          "2022-03-23T15:00:00",
          "2022-03-24T15:00:00",
          "2022-03-26T15:00:00",
          "2022-03-27T15:00:00",
          "2022-03-28T15:00:00",
          "2022-03-29T15:00:00",
          "2022-03-30T15:00:00",
          "2022-03-31T15:00:00",
          "2022-04-01T15:00:00",
          "2022-04-02T15:00:00",
          "2022-04-03T15:00:00",
          "2022-04-04T15:00:00",
          "2022-04-05T15:00:00",
          "2022-04-06T15:00:00",
          "2022-04-07T15:00:00",
          "2022-04-08T15:00:00",
          "2022-04-09T15:00:00",
          "2022-04-10T15:00:00",
          "2022-04-12T15:00:00",
          "2022-04-13T15:00:00",
          "2022-04-14T15:00:00",
          "2022-04-15T15:00:00",
          "2022-04-16T15:00:00",
          "2022-04-17T15:00:00",
          "2022-04-18T15:00:00",
          "2022-04-19T15:00:00",
          "2022-04-20T15:00:00",
          "2022-04-21T15:00:00",
          "2022-04-22T15:00:00",
          "2022-04-23T15:00:00",
          "2022-04-25T15:00:00",
          "2022-04-27T15:00:00",
          "2022-04-28T15:00:00",
          "2022-04-29T15:00:00",
          "2022-04-30T15:00:00",
          "2022-05-03T15:00:00",
          "2022-05-04T15:00:00",
          "2022-05-07T15:00:00",
          "2022-05-08T15:00:00",
          "2022-05-10T15:00:00",
          "2022-05-11T15:00:00",
          "2022-05-12T15:00:00",
          "2022-05-13T15:00:00",
          "2022-05-14T15:00:00",
          "2022-05-15T15:00:00",
          "2022-05-16T15:00:00",
          "2022-05-18T15:00:00",
          "2022-05-19T15:00:00",
          "2022-05-20T15:00:00",
          "2022-05-23T15:00:00",
          "2022-05-24T15:00:00",
          "2022-05-25T15:00:00",
          "2022-05-26T15:00:00",
          "2022-05-27T15:00:00",
          "2022-05-28T15:00:00",
          "2022-05-30T15:00:00",
          "2022-06-01T15:00:00",
          "2022-06-03T15:00:00",
          "2022-06-04T15:00:00",
          "2022-06-06T15:00:00",
          "2022-06-08T15:00:00",
          "2022-06-09T15:00:00",
          "2022-06-10T15:00:00",
          "2022-06-11T15:00:00",
          "2022-06-13T15:00:00",
          "2022-06-14T15:00:00",
          "2022-06-15T15:00:00",
          "2022-06-16T15:00:00",
          "2022-06-17T15:00:00",
          "2022-06-18T15:00:00",
          "2022-06-19T15:00:00",
          "2022-06-20T15:00:00",
          "2022-06-21T15:00:00",
          "2022-06-22T15:00:00",
          "2022-06-23T15:00:00",
          "2022-06-24T15:00:00",
          "2022-06-25T15:00:00",
          "2022-06-27T15:00:00",
          "2022-06-28T15:00:00",
          "2022-06-29T15:00:00",
          "2022-06-30T15:00:00",
          "2022-07-01T15:00:00",
          "2022-07-02T15:00:00",
          "2022-07-04T15:00:00",
          "2022-07-05T15:00:00",
          "2022-07-06T15:00:00",
          "2022-07-07T15:00:00",
          "2022-07-08T15:00:00",
          "2022-07-09T15:00:00",
          "2022-07-10T15:00:00",
          "2022-07-11T15:00:00",
          "2022-07-12T15:00:00",
          "2022-07-14T15:00:00",
          "2022-07-15T15:00:00",
          "2022-07-16T15:00:00",
          "2022-07-17T15:00:00",
          "2022-07-18T15:00:00",
          "2022-07-19T15:00:00",
          "2022-07-20T15:00:00",
          "2022-07-22T15:00:00",
          "2022-07-23T15:00:00",
          "2022-07-24T15:00:00",
          "2022-07-25T15:00:00",
          "2022-07-26T15:00:00",
          "2022-07-29T15:00:00",
          "2022-07-30T15:00:00",
          "2022-07-31T15:00:00",
          "2022-08-01T15:00:00",
          "2022-08-02T15:00:00",
          "2022-08-03T15:00:00",
          "2022-08-04T15:00:00",
          "2022-08-05T15:00:00",
          "2022-08-06T15:00:00",
          "2022-08-09T15:00:00",
          "2022-08-10T15:00:00",
          "2022-08-11T15:00:00",
          "2022-08-14T15:00:00",
          "2022-08-15T15:00:00",
          "2022-08-16T15:00:00",
          "2022-08-17T15:00:00",
          "2022-08-18T15:00:00",
          "2022-08-19T15:00:00",
          "2022-08-20T15:00:00",
          "2022-08-21T15:00:00",
          "2022-08-23T15:00:00",
          "2022-08-25T15:00:00",
          "2022-08-26T15:00:00",
          "2022-08-27T15:00:00",
          "2022-08-28T15:00:00",
          "2022-08-30T15:00:00",
          "2022-08-31T15:00:00",
          "2022-09-01T15:00:00",
          "2022-09-02T15:00:00",
          "2022-09-03T15:00:00",
          "2022-09-04T15:00:00",
          "2022-09-08T15:00:00",
          "2022-09-09T15:00:00",
          "2022-09-10T15:00:00",
          "2022-09-12T15:00:00",
          "2022-09-13T15:00:00",
          "2022-09-14T15:00:00",
          "2022-09-15T15:00:00",
          "2022-09-16T15:00:00",
          "2022-09-17T15:00:00",
          "2022-09-19T15:00:00",
          "2022-09-20T15:00:00",
          "2022-09-21T15:00:00",
          "2022-09-22T15:00:00",
          "2022-09-23T15:00:00",
          "2022-09-25T15:00:00",
          "2022-09-27T15:00:00",
          "2022-09-28T15:00:00",
          "2022-09-29T15:00:00",
          "2022-09-30T15:00:00",
          "2022-10-03T15:00:00",
          "2022-10-04T15:00:00",
          "2022-10-06T15:00:00",
          "2022-10-07T15:00:00",
          "2022-10-08T15:00:00",
          "2022-10-11T15:00:00",
          "2022-10-12T15:00:00",
          "2022-10-13T15:00:00",
          "2022-10-14T15:00:00",
          "2022-10-16T15:00:00",
          "2022-10-18T15:00:00",
          "2022-10-20T15:00:00",
          "2022-10-21T15:00:00",
          "2022-10-23T15:00:00",
          "2022-10-24T15:00:00",
          "2022-10-26T15:00:00",
          "2022-10-28T15:00:00",
          "2022-10-29T15:00:00",
          "2022-10-30T15:00:00",
          "2022-11-01T15:00:00",
          "2022-11-02T15:00:00",
          "2022-11-03T15:00:00",
          "2022-11-05T15:00:00",
          "2022-11-07T15:00:00",
          "2022-11-10T15:00:00",
          "2022-11-11T15:00:00",
          "2022-11-12T15:00:00",
          "2022-11-14T15:00:00",
          "2022-11-17T15:00:00",
          "2022-11-18T15:00:00",
          "2022-11-22T15:00:00",
          "2022-11-24T15:00:00",
          "2022-11-25T15:00:00",
          "2022-11-26T15:00:00",
          "2022-11-27T15:00:00",
          "2022-12-02T15:00:00"
         ],
         "y": [
          73013,
          17431,
          50583,
          49076,
          37014,
          38625,
          50897,
          25952,
          72857,
          82503,
          45820,
          57378,
          50446,
          95578,
          86385,
          132426,
          2374,
          93092,
          65617,
          43703,
          30261,
          45282,
          84326,
          35215,
          85223,
          72383,
          1401,
          85738,
          106338,
          82597,
          79202,
          88267,
          82243,
          124967,
          26745,
          43638,
          49396,
          84367,
          84428,
          13051,
          62107,
          22592,
          67361,
          25987,
          173531,
          127012,
          191466,
          110698,
          112933,
          102629,
          155173,
          125802,
          158545,
          139123,
          87960,
          220486,
          148959,
          2091,
          127847,
          132272,
          123112,
          124981,
          145997,
          102094,
          134266,
          113219,
          125162,
          127084,
          111195,
          33267,
          103703,
          101959,
          29701,
          113410,
          100877,
          38400,
          96462,
          119289,
          604,
          112794,
          113868,
          109286,
          118093,
          116792,
          123764,
          74664,
          133148,
          192875,
          18542,
          121942,
          103958,
          129530,
          105107,
          81364,
          103604,
          114997,
          110689,
          65685,
          92521,
          107871,
          131982,
          107688,
          122413,
          107216,
          80811,
          108981,
          108857,
          127008,
          12320,
          166384,
          141965,
          130925,
          85649,
          124779,
          10748,
          157375,
          133992,
          107090,
          129167,
          134310,
          86637,
          138272,
          124815,
          86255,
          90251,
          116879,
          41950,
          75881,
          136866,
          13699,
          136426,
          145952,
          130626,
          112301,
          115724,
          120135,
          37964,
          76737,
          95856,
          14051,
          156751,
          106361,
          116398,
          101381,
          111750,
          98796,
          117246,
          129437,
          132774,
          107844,
          114704,
          54035,
          139275,
          105240,
          11732,
          114474,
          119370,
          15632,
          176404,
          140527,
          133651,
          15842,
          108199,
          113314,
          17806,
          205330,
          49177,
          15123,
          33667,
          113824,
          106869,
          76629,
          91545,
          90524,
          2371,
          110116,
          88548,
          82652,
          4641,
          66942,
          148441,
          121168,
          2580,
          9981,
          97378,
          110996,
          11356,
          127275,
          155515,
          132918,
          4200,
          122875,
          125162,
          110330,
          25612,
          119254,
          115388,
          148688,
          107964,
          15146,
          120180,
          145386,
          113201,
          132549,
          90976,
          71628,
          140040,
          116097,
          104009,
          131349,
          12668,
          65815,
          134553,
          85651,
          91646,
          82675,
          80526,
          92402,
          94155,
          100518,
          100768,
          37040,
          104112,
          79402,
          114504,
          101328,
          84681,
          85436,
          117378,
          111829,
          105829,
          101246,
          97283,
          62696,
          38125,
          112397,
          91817,
          74685,
          100167,
          75929,
          78936,
          89037,
          84226,
          97237,
          98830,
          98055,
          95297,
          86961,
          87392,
          95171,
          94895,
          84350,
          95104,
          93693,
          97755,
          104203,
          128023,
          45731,
          124033,
          122646,
          111160,
          100590,
          19834,
          31374,
          148524,
          104528,
          101169,
          58212,
          112912,
          84621,
          101076,
          90756,
          90455,
          99272,
          117318,
          26217,
          105150,
          82165,
          41815
         ],
         "yaxis": "y2"
        },
        {
         "mode": "lines+markers",
         "name": "Notes Count",
         "type": "scatter",
         "x": [
          "2021-11-25T15:00:00",
          "2021-11-26T15:00:00",
          "2021-11-27T15:00:00",
          "2021-11-28T15:00:00",
          "2021-11-29T15:00:00",
          "2021-11-30T15:00:00",
          "2021-12-01T15:00:00",
          "2021-12-02T15:00:00",
          "2021-12-06T15:00:00",
          "2021-12-07T15:00:00",
          "2021-12-08T15:00:00",
          "2021-12-09T15:00:00",
          "2021-12-10T15:00:00",
          "2021-12-12T15:00:00",
          "2021-12-13T15:00:00",
          "2021-12-14T15:00:00",
          "2021-12-15T15:00:00",
          "2021-12-16T15:00:00",
          "2021-12-17T15:00:00",
          "2021-12-18T15:00:00",
          "2021-12-19T15:00:00",
          "2021-12-20T15:00:00",
          "2021-12-21T15:00:00",
          "2021-12-23T15:00:00",
          "2021-12-24T15:00:00",
          "2021-12-25T15:00:00",
          "2021-12-27T15:00:00",
          "2021-12-28T15:00:00",
          "2022-01-02T15:00:00",
          "2022-01-03T15:00:00",
          "2022-01-05T15:00:00",
          "2022-01-06T15:00:00",
          "2022-01-08T15:00:00",
          "2022-01-09T15:00:00",
          "2022-01-10T15:00:00",
          "2022-01-11T15:00:00",
          "2022-01-12T15:00:00",
          "2022-01-13T15:00:00",
          "2022-01-14T15:00:00",
          "2022-01-15T15:00:00",
          "2022-01-17T15:00:00",
          "2022-01-18T15:00:00",
          "2022-01-19T15:00:00",
          "2022-01-20T15:00:00",
          "2022-01-24T15:00:00",
          "2022-01-25T15:00:00",
          "2022-01-26T15:00:00",
          "2022-01-27T15:00:00",
          "2022-01-28T15:00:00",
          "2022-01-29T15:00:00",
          "2022-01-30T15:00:00",
          "2022-01-31T15:00:00",
          "2022-02-01T15:00:00",
          "2022-02-02T15:00:00",
          "2022-02-03T15:00:00",
          "2022-02-04T15:00:00",
          "2022-02-05T15:00:00",
          "2022-02-06T15:00:00",
          "2022-02-12T15:00:00",
          "2022-02-13T15:00:00",
          "2022-02-14T15:00:00",
          "2022-02-15T15:00:00",
          "2022-02-16T15:00:00",
          "2022-02-17T15:00:00",
          "2022-02-19T15:00:00",
          "2022-02-20T15:00:00",
          "2022-02-22T15:00:00",
          "2022-02-23T15:00:00",
          "2022-02-24T15:00:00",
          "2022-02-25T15:00:00",
          "2022-02-26T15:00:00",
          "2022-02-27T15:00:00",
          "2022-02-28T15:00:00",
          "2022-03-01T15:00:00",
          "2022-03-02T15:00:00",
          "2022-03-03T15:00:00",
          "2022-03-05T15:00:00",
          "2022-03-06T15:00:00",
          "2022-03-07T15:00:00",
          "2022-03-08T15:00:00",
          "2022-03-09T15:00:00",
          "2022-03-11T15:00:00",
          "2022-03-12T15:00:00",
          "2022-03-14T15:00:00",
          "2022-03-15T15:00:00",
          "2022-03-16T15:00:00",
          "2022-03-20T15:00:00",
          "2022-03-21T15:00:00",
          "2022-03-22T15:00:00",
          "2022-03-23T15:00:00",
          "2022-03-24T15:00:00",
          "2022-03-26T15:00:00",
          "2022-03-27T15:00:00",
          "2022-03-28T15:00:00",
          "2022-03-29T15:00:00",
          "2022-03-30T15:00:00",
          "2022-03-31T15:00:00",
          "2022-04-01T15:00:00",
          "2022-04-02T15:00:00",
          "2022-04-03T15:00:00",
          "2022-04-04T15:00:00",
          "2022-04-05T15:00:00",
          "2022-04-06T15:00:00",
          "2022-04-07T15:00:00",
          "2022-04-08T15:00:00",
          "2022-04-09T15:00:00",
          "2022-04-10T15:00:00",
          "2022-04-12T15:00:00",
          "2022-04-13T15:00:00",
          "2022-04-14T15:00:00",
          "2022-04-15T15:00:00",
          "2022-04-16T15:00:00",
          "2022-04-17T15:00:00",
          "2022-04-18T15:00:00",
          "2022-04-19T15:00:00",
          "2022-04-20T15:00:00",
          "2022-04-21T15:00:00",
          "2022-04-22T15:00:00",
          "2022-04-23T15:00:00",
          "2022-04-25T15:00:00",
          "2022-04-27T15:00:00",
          "2022-04-28T15:00:00",
          "2022-04-29T15:00:00",
          "2022-04-30T15:00:00",
          "2022-05-03T15:00:00",
          "2022-05-04T15:00:00",
          "2022-05-07T15:00:00",
          "2022-05-08T15:00:00",
          "2022-05-10T15:00:00",
          "2022-05-11T15:00:00",
          "2022-05-12T15:00:00",
          "2022-05-13T15:00:00",
          "2022-05-14T15:00:00",
          "2022-05-15T15:00:00",
          "2022-05-16T15:00:00",
          "2022-05-18T15:00:00",
          "2022-05-19T15:00:00",
          "2022-05-20T15:00:00",
          "2022-05-23T15:00:00",
          "2022-05-24T15:00:00",
          "2022-05-25T15:00:00",
          "2022-05-26T15:00:00",
          "2022-05-27T15:00:00",
          "2022-05-28T15:00:00",
          "2022-05-30T15:00:00",
          "2022-06-01T15:00:00",
          "2022-06-03T15:00:00",
          "2022-06-04T15:00:00",
          "2022-06-06T15:00:00",
          "2022-06-08T15:00:00",
          "2022-06-09T15:00:00",
          "2022-06-10T15:00:00",
          "2022-06-11T15:00:00",
          "2022-06-13T15:00:00",
          "2022-06-14T15:00:00",
          "2022-06-15T15:00:00",
          "2022-06-16T15:00:00",
          "2022-06-17T15:00:00",
          "2022-06-18T15:00:00",
          "2022-06-19T15:00:00",
          "2022-06-20T15:00:00",
          "2022-06-21T15:00:00",
          "2022-06-22T15:00:00",
          "2022-06-23T15:00:00",
          "2022-06-24T15:00:00",
          "2022-06-25T15:00:00",
          "2022-06-27T15:00:00",
          "2022-06-28T15:00:00",
          "2022-06-29T15:00:00",
          "2022-06-30T15:00:00",
          "2022-07-01T15:00:00",
          "2022-07-02T15:00:00",
          "2022-07-04T15:00:00",
          "2022-07-05T15:00:00",
          "2022-07-06T15:00:00",
          "2022-07-07T15:00:00",
          "2022-07-08T15:00:00",
          "2022-07-09T15:00:00",
          "2022-07-10T15:00:00",
          "2022-07-11T15:00:00",
          "2022-07-12T15:00:00",
          "2022-07-14T15:00:00",
          "2022-07-15T15:00:00",
          "2022-07-16T15:00:00",
          "2022-07-17T15:00:00",
          "2022-07-18T15:00:00",
          "2022-07-19T15:00:00",
          "2022-07-20T15:00:00",
          "2022-07-22T15:00:00",
          "2022-07-23T15:00:00",
          "2022-07-24T15:00:00",
          "2022-07-25T15:00:00",
          "2022-07-26T15:00:00",
          "2022-07-29T15:00:00",
          "2022-07-30T15:00:00",
          "2022-07-31T15:00:00",
          "2022-08-01T15:00:00",
          "2022-08-02T15:00:00",
          "2022-08-03T15:00:00",
          "2022-08-04T15:00:00",
          "2022-08-05T15:00:00",
          "2022-08-06T15:00:00",
          "2022-08-09T15:00:00",
          "2022-08-10T15:00:00",
          "2022-08-11T15:00:00",
          "2022-08-14T15:00:00",
          "2022-08-15T15:00:00",
          "2022-08-16T15:00:00",
          "2022-08-17T15:00:00",
          "2022-08-18T15:00:00",
          "2022-08-19T15:00:00",
          "2022-08-20T15:00:00",
          "2022-08-21T15:00:00",
          "2022-08-23T15:00:00",
          "2022-08-25T15:00:00",
          "2022-08-26T15:00:00",
          "2022-08-27T15:00:00",
          "2022-08-28T15:00:00",
          "2022-08-30T15:00:00",
          "2022-08-31T15:00:00",
          "2022-09-01T15:00:00",
          "2022-09-02T15:00:00",
          "2022-09-03T15:00:00",
          "2022-09-04T15:00:00",
          "2022-09-08T15:00:00",
          "2022-09-09T15:00:00",
          "2022-09-10T15:00:00",
          "2022-09-12T15:00:00",
          "2022-09-13T15:00:00",
          "2022-09-14T15:00:00",
          "2022-09-15T15:00:00",
          "2022-09-16T15:00:00",
          "2022-09-17T15:00:00",
          "2022-09-19T15:00:00",
          "2022-09-20T15:00:00",
          "2022-09-21T15:00:00",
          "2022-09-22T15:00:00",
          "2022-09-23T15:00:00",
          "2022-09-25T15:00:00",
          "2022-09-27T15:00:00",
          "2022-09-28T15:00:00",
          "2022-09-29T15:00:00",
          "2022-09-30T15:00:00",
          "2022-10-03T15:00:00",
          "2022-10-04T15:00:00",
          "2022-10-06T15:00:00",
          "2022-10-07T15:00:00",
          "2022-10-08T15:00:00",
          "2022-10-11T15:00:00",
          "2022-10-12T15:00:00",
          "2022-10-13T15:00:00",
          "2022-10-14T15:00:00",
          "2022-10-16T15:00:00",
          "2022-10-18T15:00:00",
          "2022-10-20T15:00:00",
          "2022-10-21T15:00:00",
          "2022-10-23T15:00:00",
          "2022-10-24T15:00:00",
          "2022-10-26T15:00:00",
          "2022-10-28T15:00:00",
          "2022-10-29T15:00:00",
          "2022-10-30T15:00:00",
          "2022-11-01T15:00:00",
          "2022-11-02T15:00:00",
          "2022-11-03T15:00:00",
          "2022-11-05T15:00:00",
          "2022-11-07T15:00:00",
          "2022-11-10T15:00:00",
          "2022-11-11T15:00:00",
          "2022-11-12T15:00:00",
          "2022-11-14T15:00:00",
          "2022-11-17T15:00:00",
          "2022-11-18T15:00:00",
          "2022-11-22T15:00:00",
          "2022-11-24T15:00:00",
          "2022-11-25T15:00:00",
          "2022-11-26T15:00:00",
          "2022-11-27T15:00:00",
          "2022-12-02T15:00:00"
         ],
         "y": [
          73013,
          90444,
          141027,
          190103,
          227117,
          265742,
          316639,
          342591,
          415448,
          497951,
          543771,
          601149,
          651595,
          747173,
          833558,
          965984,
          968358,
          1061450,
          1127067,
          1170770,
          1201031,
          1246313,
          1330639,
          1365854,
          1451077,
          1523460,
          1524861,
          1610599,
          1716937,
          1799534,
          1878736,
          1967003,
          2049246,
          2174213,
          2200958,
          2244596,
          2293992,
          2378359,
          2462787,
          2475838,
          2537945,
          2560537,
          2627898,
          2653885,
          2827416,
          2954428,
          3145894,
          3256592,
          3369525,
          3472154,
          3627327,
          3753129,
          3911674,
          4050797,
          4138757,
          4359243,
          4508202,
          4510293,
          4638140,
          4770412,
          4893524,
          5018505,
          5164502,
          5266596,
          5400862,
          5514081,
          5639243,
          5766327,
          5877522,
          5910789,
          6014492,
          6116451,
          6146152,
          6259562,
          6360439,
          6398839,
          6495301,
          6614590,
          6615194,
          6727988,
          6841856,
          6951142,
          7069235,
          7186027,
          7309791,
          7384455,
          7517603,
          7710478,
          7729020,
          7850962,
          7954920,
          8084450,
          8189557,
          8270921,
          8374525,
          8489522,
          8600211,
          8665896,
          8758417,
          8866288,
          8998270,
          9105958,
          9228371,
          9335587,
          9416398,
          9525379,
          9634236,
          9761244,
          9773564,
          9939948,
          10081913,
          10212838,
          10298487,
          10423266,
          10434014,
          10591389,
          10725381,
          10832471,
          10961638,
          11095948,
          11182585,
          11320857,
          11445672,
          11531927,
          11622178,
          11739057,
          11781007,
          11856888,
          11993754,
          12007453,
          12143879,
          12289831,
          12420457,
          12532758,
          12648482,
          12768617,
          12806581,
          12883318,
          12979174,
          12993225,
          13149976,
          13256337,
          13372735,
          13474116,
          13585866,
          13684662,
          13801908,
          13931345,
          14064119,
          14171963,
          14286667,
          14340702,
          14479977,
          14585217,
          14596949,
          14711423,
          14830793,
          14846425,
          15022829,
          15163356,
          15297007,
          15312849,
          15421048,
          15534362,
          15552168,
          15757498,
          15806675,
          15821798,
          15855465,
          15969289,
          16076158,
          16152787,
          16244332,
          16334856,
          16337227,
          16447343,
          16535891,
          16618543,
          16623184,
          16690126,
          16838567,
          16959735,
          16962315,
          16972296,
          17069674,
          17180670,
          17192026,
          17319301,
          17474816,
          17607734,
          17611934,
          17734809,
          17859971,
          17970301,
          17995913,
          18115167,
          18230555,
          18379243,
          18487207,
          18502353,
          18622533,
          18767919,
          18881120,
          19013669,
          19104645,
          19176273,
          19316313,
          19432410,
          19536419,
          19667768,
          19680436,
          19746251,
          19880804,
          19966455,
          20058101,
          20140776,
          20221302,
          20313704,
          20407859,
          20508377,
          20609145,
          20646185,
          20750297,
          20829699,
          20944203,
          21045531,
          21130212,
          21215648,
          21333026,
          21444855,
          21550684,
          21651930,
          21749213,
          21811909,
          21850034,
          21962431,
          22054248,
          22128933,
          22229100,
          22305029,
          22383965,
          22473002,
          22557228,
          22654465,
          22753295,
          22851350,
          22946647,
          23033608,
          23121000,
          23216171,
          23311066,
          23395416,
          23490520,
          23584213,
          23681968,
          23786171,
          23914194,
          23959925,
          24083958,
          24206604,
          24317764,
          24418354,
          24438188,
          24469562,
          24618086,
          24722614,
          24823783,
          24881995,
          24994907,
          25079528,
          25180604,
          25271360,
          25361815,
          25461087,
          25578405,
          25604622,
          25709772,
          25791937,
          25833752
         ],
         "yaxis": "y"
        }
       ],
       "layout": {
        "template": {
         "data": {
          "bar": [
           {
            "error_x": {
             "color": "#2a3f5f"
            },
            "error_y": {
             "color": "#2a3f5f"
            },
            "marker": {
             "line": {
              "color": "#E5ECF6",
              "width": 0.5
             },
             "pattern": {
              "fillmode": "overlay",
              "size": 10,
              "solidity": 0.2
             }
            },
            "type": "bar"
           }
          ],
          "barpolar": [
           {
            "marker": {
             "line": {
              "color": "#E5ECF6",
              "width": 0.5
             },
             "pattern": {
              "fillmode": "overlay",
              "size": 10,
              "solidity": 0.2
             }
            },
            "type": "barpolar"
           }
          ],
          "carpet": [
           {
            "aaxis": {
             "endlinecolor": "#2a3f5f",
             "gridcolor": "white",
             "linecolor": "white",
             "minorgridcolor": "white",
             "startlinecolor": "#2a3f5f"
            },
            "baxis": {
             "endlinecolor": "#2a3f5f",
             "gridcolor": "white",
             "linecolor": "white",
             "minorgridcolor": "white",
             "startlinecolor": "#2a3f5f"
            },
            "type": "carpet"
           }
          ],
          "choropleth": [
           {
            "colorbar": {
             "outlinewidth": 0,
             "ticks": ""
            },
            "type": "choropleth"
           }
          ],
          "contour": [
           {
            "colorbar": {
             "outlinewidth": 0,
             "ticks": ""
            },
            "colorscale": [
             [
              0,
              "#0d0887"
             ],
             [
              0.1111111111111111,
              "#46039f"
             ],
             [
              0.2222222222222222,
              "#7201a8"
             ],
             [
              0.3333333333333333,
              "#9c179e"
             ],
             [
              0.4444444444444444,
              "#bd3786"
             ],
             [
              0.5555555555555556,
              "#d8576b"
             ],
             [
              0.6666666666666666,
              "#ed7953"
             ],
             [
              0.7777777777777778,
              "#fb9f3a"
             ],
             [
              0.8888888888888888,
              "#fdca26"
             ],
             [
              1,
              "#f0f921"
             ]
            ],
            "type": "contour"
           }
          ],
          "contourcarpet": [
           {
            "colorbar": {
             "outlinewidth": 0,
             "ticks": ""
            },
            "type": "contourcarpet"
           }
          ],
          "heatmap": [
           {
            "colorbar": {
             "outlinewidth": 0,
             "ticks": ""
            },
            "colorscale": [
             [
              0,
              "#0d0887"
             ],
             [
              0.1111111111111111,
              "#46039f"
             ],
             [
              0.2222222222222222,
              "#7201a8"
             ],
             [
              0.3333333333333333,
              "#9c179e"
             ],
             [
              0.4444444444444444,
              "#bd3786"
             ],
             [
              0.5555555555555556,
              "#d8576b"
             ],
             [
              0.6666666666666666,
              "#ed7953"
             ],
             [
              0.7777777777777778,
              "#fb9f3a"
             ],
             [
              0.8888888888888888,
              "#fdca26"
             ],
             [
              1,
              "#f0f921"
             ]
            ],
            "type": "heatmap"
           }
          ],
          "heatmapgl": [
           {
            "colorbar": {
             "outlinewidth": 0,
             "ticks": ""
            },
            "colorscale": [
             [
              0,
              "#0d0887"
             ],
             [
              0.1111111111111111,
              "#46039f"
             ],
             [
              0.2222222222222222,
              "#7201a8"
             ],
             [
              0.3333333333333333,
              "#9c179e"
             ],
             [
              0.4444444444444444,
              "#bd3786"
             ],
             [
              0.5555555555555556,
              "#d8576b"
             ],
             [
              0.6666666666666666,
              "#ed7953"
             ],
             [
              0.7777777777777778,
              "#fb9f3a"
             ],
             [
              0.8888888888888888,
              "#fdca26"
             ],
             [
              1,
              "#f0f921"
             ]
            ],
            "type": "heatmapgl"
           }
          ],
          "histogram": [
           {
            "marker": {
             "pattern": {
              "fillmode": "overlay",
              "size": 10,
              "solidity": 0.2
             }
            },
            "type": "histogram"
           }
          ],
          "histogram2d": [
           {
            "colorbar": {
             "outlinewidth": 0,
             "ticks": ""
            },
            "colorscale": [
             [
              0,
              "#0d0887"
             ],
             [
              0.1111111111111111,
              "#46039f"
             ],
             [
              0.2222222222222222,
              "#7201a8"
             ],
             [
              0.3333333333333333,
              "#9c179e"
             ],
             [
              0.4444444444444444,
              "#bd3786"
             ],
             [
              0.5555555555555556,
              "#d8576b"
             ],
             [
              0.6666666666666666,
              "#ed7953"
             ],
             [
              0.7777777777777778,
              "#fb9f3a"
             ],
             [
              0.8888888888888888,
              "#fdca26"
             ],
             [
              1,
              "#f0f921"
             ]
            ],
            "type": "histogram2d"
           }
          ],
          "histogram2dcontour": [
           {
            "colorbar": {
             "outlinewidth": 0,
             "ticks": ""
            },
            "colorscale": [
             [
              0,
              "#0d0887"
             ],
             [
              0.1111111111111111,
              "#46039f"
             ],
             [
              0.2222222222222222,
              "#7201a8"
             ],
             [
              0.3333333333333333,
              "#9c179e"
             ],
             [
              0.4444444444444444,
              "#bd3786"
             ],
             [
              0.5555555555555556,
              "#d8576b"
             ],
             [
              0.6666666666666666,
              "#ed7953"
             ],
             [
              0.7777777777777778,
              "#fb9f3a"
             ],
             [
              0.8888888888888888,
              "#fdca26"
             ],
             [
              1,
              "#f0f921"
             ]
            ],
            "type": "histogram2dcontour"
           }
          ],
          "mesh3d": [
           {
            "colorbar": {
             "outlinewidth": 0,
             "ticks": ""
            },
            "type": "mesh3d"
           }
          ],
          "parcoords": [
           {
            "line": {
             "colorbar": {
              "outlinewidth": 0,
              "ticks": ""
             }
            },
            "type": "parcoords"
           }
          ],
          "pie": [
           {
            "automargin": true,
            "type": "pie"
           }
          ],
          "scatter": [
           {
            "fillpattern": {
             "fillmode": "overlay",
             "size": 10,
             "solidity": 0.2
            },
            "type": "scatter"
           }
          ],
          "scatter3d": [
           {
            "line": {
             "colorbar": {
              "outlinewidth": 0,
              "ticks": ""
             }
            },
            "marker": {
             "colorbar": {
              "outlinewidth": 0,
              "ticks": ""
             }
            },
            "type": "scatter3d"
           }
          ],
          "scattercarpet": [
           {
            "marker": {
             "colorbar": {
              "outlinewidth": 0,
              "ticks": ""
             }
            },
            "type": "scattercarpet"
           }
          ],
          "scattergeo": [
           {
            "marker": {
             "colorbar": {
              "outlinewidth": 0,
              "ticks": ""
             }
            },
            "type": "scattergeo"
           }
          ],
          "scattergl": [
           {
            "marker": {
             "colorbar": {
              "outlinewidth": 0,
              "ticks": ""
             }
            },
            "type": "scattergl"
           }
          ],
          "scattermapbox": [
           {
            "marker": {
             "colorbar": {
              "outlinewidth": 0,
              "ticks": ""
             }
            },
            "type": "scattermapbox"
           }
          ],
          "scatterpolar": [
           {
            "marker": {
             "colorbar": {
              "outlinewidth": 0,
              "ticks": ""
             }
            },
            "type": "scatterpolar"
           }
          ],
          "scatterpolargl": [
           {
            "marker": {
             "colorbar": {
              "outlinewidth": 0,
              "ticks": ""
             }
            },
            "type": "scatterpolargl"
           }
          ],
          "scatterternary": [
           {
            "marker": {
             "colorbar": {
              "outlinewidth": 0,
              "ticks": ""
             }
            },
            "type": "scatterternary"
           }
          ],
          "surface": [
           {
            "colorbar": {
             "outlinewidth": 0,
             "ticks": ""
            },
            "colorscale": [
             [
              0,
              "#0d0887"
             ],
             [
              0.1111111111111111,
              "#46039f"
             ],
             [
              0.2222222222222222,
              "#7201a8"
             ],
             [
              0.3333333333333333,
              "#9c179e"
             ],
             [
              0.4444444444444444,
              "#bd3786"
             ],
             [
              0.5555555555555556,
              "#d8576b"
             ],
             [
              0.6666666666666666,
              "#ed7953"
             ],
             [
              0.7777777777777778,
              "#fb9f3a"
             ],
             [
              0.8888888888888888,
              "#fdca26"
             ],
             [
              1,
              "#f0f921"
             ]
            ],
            "type": "surface"
           }
          ],
          "table": [
           {
            "cells": {
             "fill": {
              "color": "#EBF0F8"
             },
             "line": {
              "color": "white"
             }
            },
            "header": {
             "fill": {
              "color": "#C8D4E3"
             },
             "line": {
              "color": "white"
             }
            },
            "type": "table"
           }
          ]
         },
         "layout": {
          "annotationdefaults": {
           "arrowcolor": "#2a3f5f",
           "arrowhead": 0,
           "arrowwidth": 1
          },
          "autotypenumbers": "strict",
          "coloraxis": {
           "colorbar": {
            "outlinewidth": 0,
            "ticks": ""
           }
          },
          "colorscale": {
           "diverging": [
            [
             0,
             "#8e0152"
            ],
            [
             0.1,
             "#c51b7d"
            ],
            [
             0.2,
             "#de77ae"
            ],
            [
             0.3,
             "#f1b6da"
            ],
            [
             0.4,
             "#fde0ef"
            ],
            [
             0.5,
             "#f7f7f7"
            ],
            [
             0.6,
             "#e6f5d0"
            ],
            [
             0.7,
             "#b8e186"
            ],
            [
             0.8,
             "#7fbc41"
            ],
            [
             0.9,
             "#4d9221"
            ],
            [
             1,
             "#276419"
            ]
           ],
           "sequential": [
            [
             0,
             "#0d0887"
            ],
            [
             0.1111111111111111,
             "#46039f"
            ],
            [
             0.2222222222222222,
             "#7201a8"
            ],
            [
             0.3333333333333333,
             "#9c179e"
            ],
            [
             0.4444444444444444,
             "#bd3786"
            ],
            [
             0.5555555555555556,
             "#d8576b"
            ],
            [
             0.6666666666666666,
             "#ed7953"
            ],
            [
             0.7777777777777778,
             "#fb9f3a"
            ],
            [
             0.8888888888888888,
             "#fdca26"
            ],
            [
             1,
             "#f0f921"
            ]
           ],
           "sequentialminus": [
            [
             0,
             "#0d0887"
            ],
            [
             0.1111111111111111,
             "#46039f"
            ],
            [
             0.2222222222222222,
             "#7201a8"
            ],
            [
             0.3333333333333333,
             "#9c179e"
            ],
            [
             0.4444444444444444,
             "#bd3786"
            ],
            [
             0.5555555555555556,
             "#d8576b"
            ],
            [
             0.6666666666666666,
             "#ed7953"
            ],
            [
             0.7777777777777778,
             "#fb9f3a"
            ],
            [
             0.8888888888888888,
             "#fdca26"
            ],
            [
             1,
             "#f0f921"
            ]
           ]
          },
          "colorway": [
           "#636efa",
           "#EF553B",
           "#00cc96",
           "#ab63fa",
           "#FFA15A",
           "#19d3f3",
           "#FF6692",
           "#B6E880",
           "#FF97FF",
           "#FECB52"
          ],
          "font": {
           "color": "#2a3f5f"
          },
          "geo": {
           "bgcolor": "white",
           "lakecolor": "white",
           "landcolor": "#E5ECF6",
           "showlakes": true,
           "showland": true,
           "subunitcolor": "white"
          },
          "hoverlabel": {
           "align": "left"
          },
          "hovermode": "closest",
          "mapbox": {
           "style": "light"
          },
          "paper_bgcolor": "white",
          "plot_bgcolor": "#E5ECF6",
          "polar": {
           "angularaxis": {
            "gridcolor": "white",
            "linecolor": "white",
            "ticks": ""
           },
           "bgcolor": "#E5ECF6",
           "radialaxis": {
            "gridcolor": "white",
            "linecolor": "white",
            "ticks": ""
           }
          },
          "scene": {
           "xaxis": {
            "backgroundcolor": "#E5ECF6",
            "gridcolor": "white",
            "gridwidth": 2,
            "linecolor": "white",
            "showbackground": true,
            "ticks": "",
            "zerolinecolor": "white"
           },
           "yaxis": {
            "backgroundcolor": "#E5ECF6",
            "gridcolor": "white",
            "gridwidth": 2,
            "linecolor": "white",
            "showbackground": true,
            "ticks": "",
            "zerolinecolor": "white"
           },
           "zaxis": {
            "backgroundcolor": "#E5ECF6",
            "gridcolor": "white",
            "gridwidth": 2,
            "linecolor": "white",
            "showbackground": true,
            "ticks": "",
            "zerolinecolor": "white"
           }
          },
          "shapedefaults": {
           "line": {
            "color": "#2a3f5f"
           }
          },
          "ternary": {
           "aaxis": {
            "gridcolor": "white",
            "linecolor": "white",
            "ticks": ""
           },
           "baxis": {
            "gridcolor": "white",
            "linecolor": "white",
            "ticks": ""
           },
           "bgcolor": "#E5ECF6",
           "caxis": {
            "gridcolor": "white",
            "linecolor": "white",
            "ticks": ""
           }
          },
          "title": {
           "x": 0.05
          },
          "xaxis": {
           "automargin": true,
           "gridcolor": "white",
           "linecolor": "white",
           "ticks": "",
           "title": {
            "standoff": 15
           },
           "zerolinecolor": "white",
           "zerolinewidth": 2
          },
          "yaxis": {
           "automargin": true,
           "gridcolor": "white",
           "linecolor": "white",
           "ticks": "",
           "title": {
            "standoff": 15
           },
           "zerolinecolor": "white",
           "zerolinewidth": 2
          }
         }
        },
        "title": {
         "text": "Date vs Notes Count with Increase"
        },
        "xaxis": {
         "title": {
          "text": "Date"
         }
        },
        "yaxis": {
         "side": "left",
         "title": {
          "text": "Count of Notes"
         }
        },
        "yaxis2": {
         "overlaying": "y",
         "range": [
          0,
          220486
         ],
         "side": "right",
         "title": {
          "text": "Increase in Notes"
         }
        }
       }
      },
      "text/html": [
       "<div>                            <div id=\"eed56b8b-dc52-4d0f-ba08-609eaf73b8d9\" class=\"plotly-graph-div\" style=\"height:525px; width:100%;\"></div>            <script type=\"text/javascript\">                require([\"plotly\"], function(Plotly) {                    window.PLOTLYENV=window.PLOTLYENV || {};                                    if (document.getElementById(\"eed56b8b-dc52-4d0f-ba08-609eaf73b8d9\")) {                    Plotly.newPlot(                        \"eed56b8b-dc52-4d0f-ba08-609eaf73b8d9\",                        [{\"name\":\"Increase in Notes\",\"opacity\":0.5,\"x\":[\"2021-11-25T15:00:00\",\"2021-11-26T15:00:00\",\"2021-11-27T15:00:00\",\"2021-11-28T15:00:00\",\"2021-11-29T15:00:00\",\"2021-11-30T15:00:00\",\"2021-12-01T15:00:00\",\"2021-12-02T15:00:00\",\"2021-12-06T15:00:00\",\"2021-12-07T15:00:00\",\"2021-12-08T15:00:00\",\"2021-12-09T15:00:00\",\"2021-12-10T15:00:00\",\"2021-12-12T15:00:00\",\"2021-12-13T15:00:00\",\"2021-12-14T15:00:00\",\"2021-12-15T15:00:00\",\"2021-12-16T15:00:00\",\"2021-12-17T15:00:00\",\"2021-12-18T15:00:00\",\"2021-12-19T15:00:00\",\"2021-12-20T15:00:00\",\"2021-12-21T15:00:00\",\"2021-12-23T15:00:00\",\"2021-12-24T15:00:00\",\"2021-12-25T15:00:00\",\"2021-12-27T15:00:00\",\"2021-12-28T15:00:00\",\"2022-01-02T15:00:00\",\"2022-01-03T15:00:00\",\"2022-01-05T15:00:00\",\"2022-01-06T15:00:00\",\"2022-01-08T15:00:00\",\"2022-01-09T15:00:00\",\"2022-01-10T15:00:00\",\"2022-01-11T15:00:00\",\"2022-01-12T15:00:00\",\"2022-01-13T15:00:00\",\"2022-01-14T15:00:00\",\"2022-01-15T15:00:00\",\"2022-01-17T15:00:00\",\"2022-01-18T15:00:00\",\"2022-01-19T15:00:00\",\"2022-01-20T15:00:00\",\"2022-01-24T15:00:00\",\"2022-01-25T15:00:00\",\"2022-01-26T15:00:00\",\"2022-01-27T15:00:00\",\"2022-01-28T15:00:00\",\"2022-01-29T15:00:00\",\"2022-01-30T15:00:00\",\"2022-01-31T15:00:00\",\"2022-02-01T15:00:00\",\"2022-02-02T15:00:00\",\"2022-02-03T15:00:00\",\"2022-02-04T15:00:00\",\"2022-02-05T15:00:00\",\"2022-02-06T15:00:00\",\"2022-02-12T15:00:00\",\"2022-02-13T15:00:00\",\"2022-02-14T15:00:00\",\"2022-02-15T15:00:00\",\"2022-02-16T15:00:00\",\"2022-02-17T15:00:00\",\"2022-02-19T15:00:00\",\"2022-02-20T15:00:00\",\"2022-02-22T15:00:00\",\"2022-02-23T15:00:00\",\"2022-02-24T15:00:00\",\"2022-02-25T15:00:00\",\"2022-02-26T15:00:00\",\"2022-02-27T15:00:00\",\"2022-02-28T15:00:00\",\"2022-03-01T15:00:00\",\"2022-03-02T15:00:00\",\"2022-03-03T15:00:00\",\"2022-03-05T15:00:00\",\"2022-03-06T15:00:00\",\"2022-03-07T15:00:00\",\"2022-03-08T15:00:00\",\"2022-03-09T15:00:00\",\"2022-03-11T15:00:00\",\"2022-03-12T15:00:00\",\"2022-03-14T15:00:00\",\"2022-03-15T15:00:00\",\"2022-03-16T15:00:00\",\"2022-03-20T15:00:00\",\"2022-03-21T15:00:00\",\"2022-03-22T15:00:00\",\"2022-03-23T15:00:00\",\"2022-03-24T15:00:00\",\"2022-03-26T15:00:00\",\"2022-03-27T15:00:00\",\"2022-03-28T15:00:00\",\"2022-03-29T15:00:00\",\"2022-03-30T15:00:00\",\"2022-03-31T15:00:00\",\"2022-04-01T15:00:00\",\"2022-04-02T15:00:00\",\"2022-04-03T15:00:00\",\"2022-04-04T15:00:00\",\"2022-04-05T15:00:00\",\"2022-04-06T15:00:00\",\"2022-04-07T15:00:00\",\"2022-04-08T15:00:00\",\"2022-04-09T15:00:00\",\"2022-04-10T15:00:00\",\"2022-04-12T15:00:00\",\"2022-04-13T15:00:00\",\"2022-04-14T15:00:00\",\"2022-04-15T15:00:00\",\"2022-04-16T15:00:00\",\"2022-04-17T15:00:00\",\"2022-04-18T15:00:00\",\"2022-04-19T15:00:00\",\"2022-04-20T15:00:00\",\"2022-04-21T15:00:00\",\"2022-04-22T15:00:00\",\"2022-04-23T15:00:00\",\"2022-04-25T15:00:00\",\"2022-04-27T15:00:00\",\"2022-04-28T15:00:00\",\"2022-04-29T15:00:00\",\"2022-04-30T15:00:00\",\"2022-05-03T15:00:00\",\"2022-05-04T15:00:00\",\"2022-05-07T15:00:00\",\"2022-05-08T15:00:00\",\"2022-05-10T15:00:00\",\"2022-05-11T15:00:00\",\"2022-05-12T15:00:00\",\"2022-05-13T15:00:00\",\"2022-05-14T15:00:00\",\"2022-05-15T15:00:00\",\"2022-05-16T15:00:00\",\"2022-05-18T15:00:00\",\"2022-05-19T15:00:00\",\"2022-05-20T15:00:00\",\"2022-05-23T15:00:00\",\"2022-05-24T15:00:00\",\"2022-05-25T15:00:00\",\"2022-05-26T15:00:00\",\"2022-05-27T15:00:00\",\"2022-05-28T15:00:00\",\"2022-05-30T15:00:00\",\"2022-06-01T15:00:00\",\"2022-06-03T15:00:00\",\"2022-06-04T15:00:00\",\"2022-06-06T15:00:00\",\"2022-06-08T15:00:00\",\"2022-06-09T15:00:00\",\"2022-06-10T15:00:00\",\"2022-06-11T15:00:00\",\"2022-06-13T15:00:00\",\"2022-06-14T15:00:00\",\"2022-06-15T15:00:00\",\"2022-06-16T15:00:00\",\"2022-06-17T15:00:00\",\"2022-06-18T15:00:00\",\"2022-06-19T15:00:00\",\"2022-06-20T15:00:00\",\"2022-06-21T15:00:00\",\"2022-06-22T15:00:00\",\"2022-06-23T15:00:00\",\"2022-06-24T15:00:00\",\"2022-06-25T15:00:00\",\"2022-06-27T15:00:00\",\"2022-06-28T15:00:00\",\"2022-06-29T15:00:00\",\"2022-06-30T15:00:00\",\"2022-07-01T15:00:00\",\"2022-07-02T15:00:00\",\"2022-07-04T15:00:00\",\"2022-07-05T15:00:00\",\"2022-07-06T15:00:00\",\"2022-07-07T15:00:00\",\"2022-07-08T15:00:00\",\"2022-07-09T15:00:00\",\"2022-07-10T15:00:00\",\"2022-07-11T15:00:00\",\"2022-07-12T15:00:00\",\"2022-07-14T15:00:00\",\"2022-07-15T15:00:00\",\"2022-07-16T15:00:00\",\"2022-07-17T15:00:00\",\"2022-07-18T15:00:00\",\"2022-07-19T15:00:00\",\"2022-07-20T15:00:00\",\"2022-07-22T15:00:00\",\"2022-07-23T15:00:00\",\"2022-07-24T15:00:00\",\"2022-07-25T15:00:00\",\"2022-07-26T15:00:00\",\"2022-07-29T15:00:00\",\"2022-07-30T15:00:00\",\"2022-07-31T15:00:00\",\"2022-08-01T15:00:00\",\"2022-08-02T15:00:00\",\"2022-08-03T15:00:00\",\"2022-08-04T15:00:00\",\"2022-08-05T15:00:00\",\"2022-08-06T15:00:00\",\"2022-08-09T15:00:00\",\"2022-08-10T15:00:00\",\"2022-08-11T15:00:00\",\"2022-08-14T15:00:00\",\"2022-08-15T15:00:00\",\"2022-08-16T15:00:00\",\"2022-08-17T15:00:00\",\"2022-08-18T15:00:00\",\"2022-08-19T15:00:00\",\"2022-08-20T15:00:00\",\"2022-08-21T15:00:00\",\"2022-08-23T15:00:00\",\"2022-08-25T15:00:00\",\"2022-08-26T15:00:00\",\"2022-08-27T15:00:00\",\"2022-08-28T15:00:00\",\"2022-08-30T15:00:00\",\"2022-08-31T15:00:00\",\"2022-09-01T15:00:00\",\"2022-09-02T15:00:00\",\"2022-09-03T15:00:00\",\"2022-09-04T15:00:00\",\"2022-09-08T15:00:00\",\"2022-09-09T15:00:00\",\"2022-09-10T15:00:00\",\"2022-09-12T15:00:00\",\"2022-09-13T15:00:00\",\"2022-09-14T15:00:00\",\"2022-09-15T15:00:00\",\"2022-09-16T15:00:00\",\"2022-09-17T15:00:00\",\"2022-09-19T15:00:00\",\"2022-09-20T15:00:00\",\"2022-09-21T15:00:00\",\"2022-09-22T15:00:00\",\"2022-09-23T15:00:00\",\"2022-09-25T15:00:00\",\"2022-09-27T15:00:00\",\"2022-09-28T15:00:00\",\"2022-09-29T15:00:00\",\"2022-09-30T15:00:00\",\"2022-10-03T15:00:00\",\"2022-10-04T15:00:00\",\"2022-10-06T15:00:00\",\"2022-10-07T15:00:00\",\"2022-10-08T15:00:00\",\"2022-10-11T15:00:00\",\"2022-10-12T15:00:00\",\"2022-10-13T15:00:00\",\"2022-10-14T15:00:00\",\"2022-10-16T15:00:00\",\"2022-10-18T15:00:00\",\"2022-10-20T15:00:00\",\"2022-10-21T15:00:00\",\"2022-10-23T15:00:00\",\"2022-10-24T15:00:00\",\"2022-10-26T15:00:00\",\"2022-10-28T15:00:00\",\"2022-10-29T15:00:00\",\"2022-10-30T15:00:00\",\"2022-11-01T15:00:00\",\"2022-11-02T15:00:00\",\"2022-11-03T15:00:00\",\"2022-11-05T15:00:00\",\"2022-11-07T15:00:00\",\"2022-11-10T15:00:00\",\"2022-11-11T15:00:00\",\"2022-11-12T15:00:00\",\"2022-11-14T15:00:00\",\"2022-11-17T15:00:00\",\"2022-11-18T15:00:00\",\"2022-11-22T15:00:00\",\"2022-11-24T15:00:00\",\"2022-11-25T15:00:00\",\"2022-11-26T15:00:00\",\"2022-11-27T15:00:00\",\"2022-12-02T15:00:00\"],\"y\":[73013,17431,50583,49076,37014,38625,50897,25952,72857,82503,45820,57378,50446,95578,86385,132426,2374,93092,65617,43703,30261,45282,84326,35215,85223,72383,1401,85738,106338,82597,79202,88267,82243,124967,26745,43638,49396,84367,84428,13051,62107,22592,67361,25987,173531,127012,191466,110698,112933,102629,155173,125802,158545,139123,87960,220486,148959,2091,127847,132272,123112,124981,145997,102094,134266,113219,125162,127084,111195,33267,103703,101959,29701,113410,100877,38400,96462,119289,604,112794,113868,109286,118093,116792,123764,74664,133148,192875,18542,121942,103958,129530,105107,81364,103604,114997,110689,65685,92521,107871,131982,107688,122413,107216,80811,108981,108857,127008,12320,166384,141965,130925,85649,124779,10748,157375,133992,107090,129167,134310,86637,138272,124815,86255,90251,116879,41950,75881,136866,13699,136426,145952,130626,112301,115724,120135,37964,76737,95856,14051,156751,106361,116398,101381,111750,98796,117246,129437,132774,107844,114704,54035,139275,105240,11732,114474,119370,15632,176404,140527,133651,15842,108199,113314,17806,205330,49177,15123,33667,113824,106869,76629,91545,90524,2371,110116,88548,82652,4641,66942,148441,121168,2580,9981,97378,110996,11356,127275,155515,132918,4200,122875,125162,110330,25612,119254,115388,148688,107964,15146,120180,145386,113201,132549,90976,71628,140040,116097,104009,131349,12668,65815,134553,85651,91646,82675,80526,92402,94155,100518,100768,37040,104112,79402,114504,101328,84681,85436,117378,111829,105829,101246,97283,62696,38125,112397,91817,74685,100167,75929,78936,89037,84226,97237,98830,98055,95297,86961,87392,95171,94895,84350,95104,93693,97755,104203,128023,45731,124033,122646,111160,100590,19834,31374,148524,104528,101169,58212,112912,84621,101076,90756,90455,99272,117318,26217,105150,82165,41815],\"yaxis\":\"y2\",\"type\":\"bar\"},{\"mode\":\"lines+markers\",\"name\":\"Notes Count\",\"x\":[\"2021-11-25T15:00:00\",\"2021-11-26T15:00:00\",\"2021-11-27T15:00:00\",\"2021-11-28T15:00:00\",\"2021-11-29T15:00:00\",\"2021-11-30T15:00:00\",\"2021-12-01T15:00:00\",\"2021-12-02T15:00:00\",\"2021-12-06T15:00:00\",\"2021-12-07T15:00:00\",\"2021-12-08T15:00:00\",\"2021-12-09T15:00:00\",\"2021-12-10T15:00:00\",\"2021-12-12T15:00:00\",\"2021-12-13T15:00:00\",\"2021-12-14T15:00:00\",\"2021-12-15T15:00:00\",\"2021-12-16T15:00:00\",\"2021-12-17T15:00:00\",\"2021-12-18T15:00:00\",\"2021-12-19T15:00:00\",\"2021-12-20T15:00:00\",\"2021-12-21T15:00:00\",\"2021-12-23T15:00:00\",\"2021-12-24T15:00:00\",\"2021-12-25T15:00:00\",\"2021-12-27T15:00:00\",\"2021-12-28T15:00:00\",\"2022-01-02T15:00:00\",\"2022-01-03T15:00:00\",\"2022-01-05T15:00:00\",\"2022-01-06T15:00:00\",\"2022-01-08T15:00:00\",\"2022-01-09T15:00:00\",\"2022-01-10T15:00:00\",\"2022-01-11T15:00:00\",\"2022-01-12T15:00:00\",\"2022-01-13T15:00:00\",\"2022-01-14T15:00:00\",\"2022-01-15T15:00:00\",\"2022-01-17T15:00:00\",\"2022-01-18T15:00:00\",\"2022-01-19T15:00:00\",\"2022-01-20T15:00:00\",\"2022-01-24T15:00:00\",\"2022-01-25T15:00:00\",\"2022-01-26T15:00:00\",\"2022-01-27T15:00:00\",\"2022-01-28T15:00:00\",\"2022-01-29T15:00:00\",\"2022-01-30T15:00:00\",\"2022-01-31T15:00:00\",\"2022-02-01T15:00:00\",\"2022-02-02T15:00:00\",\"2022-02-03T15:00:00\",\"2022-02-04T15:00:00\",\"2022-02-05T15:00:00\",\"2022-02-06T15:00:00\",\"2022-02-12T15:00:00\",\"2022-02-13T15:00:00\",\"2022-02-14T15:00:00\",\"2022-02-15T15:00:00\",\"2022-02-16T15:00:00\",\"2022-02-17T15:00:00\",\"2022-02-19T15:00:00\",\"2022-02-20T15:00:00\",\"2022-02-22T15:00:00\",\"2022-02-23T15:00:00\",\"2022-02-24T15:00:00\",\"2022-02-25T15:00:00\",\"2022-02-26T15:00:00\",\"2022-02-27T15:00:00\",\"2022-02-28T15:00:00\",\"2022-03-01T15:00:00\",\"2022-03-02T15:00:00\",\"2022-03-03T15:00:00\",\"2022-03-05T15:00:00\",\"2022-03-06T15:00:00\",\"2022-03-07T15:00:00\",\"2022-03-08T15:00:00\",\"2022-03-09T15:00:00\",\"2022-03-11T15:00:00\",\"2022-03-12T15:00:00\",\"2022-03-14T15:00:00\",\"2022-03-15T15:00:00\",\"2022-03-16T15:00:00\",\"2022-03-20T15:00:00\",\"2022-03-21T15:00:00\",\"2022-03-22T15:00:00\",\"2022-03-23T15:00:00\",\"2022-03-24T15:00:00\",\"2022-03-26T15:00:00\",\"2022-03-27T15:00:00\",\"2022-03-28T15:00:00\",\"2022-03-29T15:00:00\",\"2022-03-30T15:00:00\",\"2022-03-31T15:00:00\",\"2022-04-01T15:00:00\",\"2022-04-02T15:00:00\",\"2022-04-03T15:00:00\",\"2022-04-04T15:00:00\",\"2022-04-05T15:00:00\",\"2022-04-06T15:00:00\",\"2022-04-07T15:00:00\",\"2022-04-08T15:00:00\",\"2022-04-09T15:00:00\",\"2022-04-10T15:00:00\",\"2022-04-12T15:00:00\",\"2022-04-13T15:00:00\",\"2022-04-14T15:00:00\",\"2022-04-15T15:00:00\",\"2022-04-16T15:00:00\",\"2022-04-17T15:00:00\",\"2022-04-18T15:00:00\",\"2022-04-19T15:00:00\",\"2022-04-20T15:00:00\",\"2022-04-21T15:00:00\",\"2022-04-22T15:00:00\",\"2022-04-23T15:00:00\",\"2022-04-25T15:00:00\",\"2022-04-27T15:00:00\",\"2022-04-28T15:00:00\",\"2022-04-29T15:00:00\",\"2022-04-30T15:00:00\",\"2022-05-03T15:00:00\",\"2022-05-04T15:00:00\",\"2022-05-07T15:00:00\",\"2022-05-08T15:00:00\",\"2022-05-10T15:00:00\",\"2022-05-11T15:00:00\",\"2022-05-12T15:00:00\",\"2022-05-13T15:00:00\",\"2022-05-14T15:00:00\",\"2022-05-15T15:00:00\",\"2022-05-16T15:00:00\",\"2022-05-18T15:00:00\",\"2022-05-19T15:00:00\",\"2022-05-20T15:00:00\",\"2022-05-23T15:00:00\",\"2022-05-24T15:00:00\",\"2022-05-25T15:00:00\",\"2022-05-26T15:00:00\",\"2022-05-27T15:00:00\",\"2022-05-28T15:00:00\",\"2022-05-30T15:00:00\",\"2022-06-01T15:00:00\",\"2022-06-03T15:00:00\",\"2022-06-04T15:00:00\",\"2022-06-06T15:00:00\",\"2022-06-08T15:00:00\",\"2022-06-09T15:00:00\",\"2022-06-10T15:00:00\",\"2022-06-11T15:00:00\",\"2022-06-13T15:00:00\",\"2022-06-14T15:00:00\",\"2022-06-15T15:00:00\",\"2022-06-16T15:00:00\",\"2022-06-17T15:00:00\",\"2022-06-18T15:00:00\",\"2022-06-19T15:00:00\",\"2022-06-20T15:00:00\",\"2022-06-21T15:00:00\",\"2022-06-22T15:00:00\",\"2022-06-23T15:00:00\",\"2022-06-24T15:00:00\",\"2022-06-25T15:00:00\",\"2022-06-27T15:00:00\",\"2022-06-28T15:00:00\",\"2022-06-29T15:00:00\",\"2022-06-30T15:00:00\",\"2022-07-01T15:00:00\",\"2022-07-02T15:00:00\",\"2022-07-04T15:00:00\",\"2022-07-05T15:00:00\",\"2022-07-06T15:00:00\",\"2022-07-07T15:00:00\",\"2022-07-08T15:00:00\",\"2022-07-09T15:00:00\",\"2022-07-10T15:00:00\",\"2022-07-11T15:00:00\",\"2022-07-12T15:00:00\",\"2022-07-14T15:00:00\",\"2022-07-15T15:00:00\",\"2022-07-16T15:00:00\",\"2022-07-17T15:00:00\",\"2022-07-18T15:00:00\",\"2022-07-19T15:00:00\",\"2022-07-20T15:00:00\",\"2022-07-22T15:00:00\",\"2022-07-23T15:00:00\",\"2022-07-24T15:00:00\",\"2022-07-25T15:00:00\",\"2022-07-26T15:00:00\",\"2022-07-29T15:00:00\",\"2022-07-30T15:00:00\",\"2022-07-31T15:00:00\",\"2022-08-01T15:00:00\",\"2022-08-02T15:00:00\",\"2022-08-03T15:00:00\",\"2022-08-04T15:00:00\",\"2022-08-05T15:00:00\",\"2022-08-06T15:00:00\",\"2022-08-09T15:00:00\",\"2022-08-10T15:00:00\",\"2022-08-11T15:00:00\",\"2022-08-14T15:00:00\",\"2022-08-15T15:00:00\",\"2022-08-16T15:00:00\",\"2022-08-17T15:00:00\",\"2022-08-18T15:00:00\",\"2022-08-19T15:00:00\",\"2022-08-20T15:00:00\",\"2022-08-21T15:00:00\",\"2022-08-23T15:00:00\",\"2022-08-25T15:00:00\",\"2022-08-26T15:00:00\",\"2022-08-27T15:00:00\",\"2022-08-28T15:00:00\",\"2022-08-30T15:00:00\",\"2022-08-31T15:00:00\",\"2022-09-01T15:00:00\",\"2022-09-02T15:00:00\",\"2022-09-03T15:00:00\",\"2022-09-04T15:00:00\",\"2022-09-08T15:00:00\",\"2022-09-09T15:00:00\",\"2022-09-10T15:00:00\",\"2022-09-12T15:00:00\",\"2022-09-13T15:00:00\",\"2022-09-14T15:00:00\",\"2022-09-15T15:00:00\",\"2022-09-16T15:00:00\",\"2022-09-17T15:00:00\",\"2022-09-19T15:00:00\",\"2022-09-20T15:00:00\",\"2022-09-21T15:00:00\",\"2022-09-22T15:00:00\",\"2022-09-23T15:00:00\",\"2022-09-25T15:00:00\",\"2022-09-27T15:00:00\",\"2022-09-28T15:00:00\",\"2022-09-29T15:00:00\",\"2022-09-30T15:00:00\",\"2022-10-03T15:00:00\",\"2022-10-04T15:00:00\",\"2022-10-06T15:00:00\",\"2022-10-07T15:00:00\",\"2022-10-08T15:00:00\",\"2022-10-11T15:00:00\",\"2022-10-12T15:00:00\",\"2022-10-13T15:00:00\",\"2022-10-14T15:00:00\",\"2022-10-16T15:00:00\",\"2022-10-18T15:00:00\",\"2022-10-20T15:00:00\",\"2022-10-21T15:00:00\",\"2022-10-23T15:00:00\",\"2022-10-24T15:00:00\",\"2022-10-26T15:00:00\",\"2022-10-28T15:00:00\",\"2022-10-29T15:00:00\",\"2022-10-30T15:00:00\",\"2022-11-01T15:00:00\",\"2022-11-02T15:00:00\",\"2022-11-03T15:00:00\",\"2022-11-05T15:00:00\",\"2022-11-07T15:00:00\",\"2022-11-10T15:00:00\",\"2022-11-11T15:00:00\",\"2022-11-12T15:00:00\",\"2022-11-14T15:00:00\",\"2022-11-17T15:00:00\",\"2022-11-18T15:00:00\",\"2022-11-22T15:00:00\",\"2022-11-24T15:00:00\",\"2022-11-25T15:00:00\",\"2022-11-26T15:00:00\",\"2022-11-27T15:00:00\",\"2022-12-02T15:00:00\"],\"y\":[73013,90444,141027,190103,227117,265742,316639,342591,415448,497951,543771,601149,651595,747173,833558,965984,968358,1061450,1127067,1170770,1201031,1246313,1330639,1365854,1451077,1523460,1524861,1610599,1716937,1799534,1878736,1967003,2049246,2174213,2200958,2244596,2293992,2378359,2462787,2475838,2537945,2560537,2627898,2653885,2827416,2954428,3145894,3256592,3369525,3472154,3627327,3753129,3911674,4050797,4138757,4359243,4508202,4510293,4638140,4770412,4893524,5018505,5164502,5266596,5400862,5514081,5639243,5766327,5877522,5910789,6014492,6116451,6146152,6259562,6360439,6398839,6495301,6614590,6615194,6727988,6841856,6951142,7069235,7186027,7309791,7384455,7517603,7710478,7729020,7850962,7954920,8084450,8189557,8270921,8374525,8489522,8600211,8665896,8758417,8866288,8998270,9105958,9228371,9335587,9416398,9525379,9634236,9761244,9773564,9939948,10081913,10212838,10298487,10423266,10434014,10591389,10725381,10832471,10961638,11095948,11182585,11320857,11445672,11531927,11622178,11739057,11781007,11856888,11993754,12007453,12143879,12289831,12420457,12532758,12648482,12768617,12806581,12883318,12979174,12993225,13149976,13256337,13372735,13474116,13585866,13684662,13801908,13931345,14064119,14171963,14286667,14340702,14479977,14585217,14596949,14711423,14830793,14846425,15022829,15163356,15297007,15312849,15421048,15534362,15552168,15757498,15806675,15821798,15855465,15969289,16076158,16152787,16244332,16334856,16337227,16447343,16535891,16618543,16623184,16690126,16838567,16959735,16962315,16972296,17069674,17180670,17192026,17319301,17474816,17607734,17611934,17734809,17859971,17970301,17995913,18115167,18230555,18379243,18487207,18502353,18622533,18767919,18881120,19013669,19104645,19176273,19316313,19432410,19536419,19667768,19680436,19746251,19880804,19966455,20058101,20140776,20221302,20313704,20407859,20508377,20609145,20646185,20750297,20829699,20944203,21045531,21130212,21215648,21333026,21444855,21550684,21651930,21749213,21811909,21850034,21962431,22054248,22128933,22229100,22305029,22383965,22473002,22557228,22654465,22753295,22851350,22946647,23033608,23121000,23216171,23311066,23395416,23490520,23584213,23681968,23786171,23914194,23959925,24083958,24206604,24317764,24418354,24438188,24469562,24618086,24722614,24823783,24881995,24994907,25079528,25180604,25271360,25361815,25461087,25578405,25604622,25709772,25791937,25833752],\"yaxis\":\"y\",\"type\":\"scatter\"}],                        {\"template\":{\"data\":{\"histogram2dcontour\":[{\"type\":\"histogram2dcontour\",\"colorbar\":{\"outlinewidth\":0,\"ticks\":\"\"},\"colorscale\":[[0.0,\"#0d0887\"],[0.1111111111111111,\"#46039f\"],[0.2222222222222222,\"#7201a8\"],[0.3333333333333333,\"#9c179e\"],[0.4444444444444444,\"#bd3786\"],[0.5555555555555556,\"#d8576b\"],[0.6666666666666666,\"#ed7953\"],[0.7777777777777778,\"#fb9f3a\"],[0.8888888888888888,\"#fdca26\"],[1.0,\"#f0f921\"]]}],\"choropleth\":[{\"type\":\"choropleth\",\"colorbar\":{\"outlinewidth\":0,\"ticks\":\"\"}}],\"histogram2d\":[{\"type\":\"histogram2d\",\"colorbar\":{\"outlinewidth\":0,\"ticks\":\"\"},\"colorscale\":[[0.0,\"#0d0887\"],[0.1111111111111111,\"#46039f\"],[0.2222222222222222,\"#7201a8\"],[0.3333333333333333,\"#9c179e\"],[0.4444444444444444,\"#bd3786\"],[0.5555555555555556,\"#d8576b\"],[0.6666666666666666,\"#ed7953\"],[0.7777777777777778,\"#fb9f3a\"],[0.8888888888888888,\"#fdca26\"],[1.0,\"#f0f921\"]]}],\"heatmap\":[{\"type\":\"heatmap\",\"colorbar\":{\"outlinewidth\":0,\"ticks\":\"\"},\"colorscale\":[[0.0,\"#0d0887\"],[0.1111111111111111,\"#46039f\"],[0.2222222222222222,\"#7201a8\"],[0.3333333333333333,\"#9c179e\"],[0.4444444444444444,\"#bd3786\"],[0.5555555555555556,\"#d8576b\"],[0.6666666666666666,\"#ed7953\"],[0.7777777777777778,\"#fb9f3a\"],[0.8888888888888888,\"#fdca26\"],[1.0,\"#f0f921\"]]}],\"heatmapgl\":[{\"type\":\"heatmapgl\",\"colorbar\":{\"outlinewidth\":0,\"ticks\":\"\"},\"colorscale\":[[0.0,\"#0d0887\"],[0.1111111111111111,\"#46039f\"],[0.2222222222222222,\"#7201a8\"],[0.3333333333333333,\"#9c179e\"],[0.4444444444444444,\"#bd3786\"],[0.5555555555555556,\"#d8576b\"],[0.6666666666666666,\"#ed7953\"],[0.7777777777777778,\"#fb9f3a\"],[0.8888888888888888,\"#fdca26\"],[1.0,\"#f0f921\"]]}],\"contourcarpet\":[{\"type\":\"contourcarpet\",\"colorbar\":{\"outlinewidth\":0,\"ticks\":\"\"}}],\"contour\":[{\"type\":\"contour\",\"colorbar\":{\"outlinewidth\":0,\"ticks\":\"\"},\"colorscale\":[[0.0,\"#0d0887\"],[0.1111111111111111,\"#46039f\"],[0.2222222222222222,\"#7201a8\"],[0.3333333333333333,\"#9c179e\"],[0.4444444444444444,\"#bd3786\"],[0.5555555555555556,\"#d8576b\"],[0.6666666666666666,\"#ed7953\"],[0.7777777777777778,\"#fb9f3a\"],[0.8888888888888888,\"#fdca26\"],[1.0,\"#f0f921\"]]}],\"surface\":[{\"type\":\"surface\",\"colorbar\":{\"outlinewidth\":0,\"ticks\":\"\"},\"colorscale\":[[0.0,\"#0d0887\"],[0.1111111111111111,\"#46039f\"],[0.2222222222222222,\"#7201a8\"],[0.3333333333333333,\"#9c179e\"],[0.4444444444444444,\"#bd3786\"],[0.5555555555555556,\"#d8576b\"],[0.6666666666666666,\"#ed7953\"],[0.7777777777777778,\"#fb9f3a\"],[0.8888888888888888,\"#fdca26\"],[1.0,\"#f0f921\"]]}],\"mesh3d\":[{\"type\":\"mesh3d\",\"colorbar\":{\"outlinewidth\":0,\"ticks\":\"\"}}],\"scatter\":[{\"fillpattern\":{\"fillmode\":\"overlay\",\"size\":10,\"solidity\":0.2},\"type\":\"scatter\"}],\"parcoords\":[{\"type\":\"parcoords\",\"line\":{\"colorbar\":{\"outlinewidth\":0,\"ticks\":\"\"}}}],\"scatterpolargl\":[{\"type\":\"scatterpolargl\",\"marker\":{\"colorbar\":{\"outlinewidth\":0,\"ticks\":\"\"}}}],\"bar\":[{\"error_x\":{\"color\":\"#2a3f5f\"},\"error_y\":{\"color\":\"#2a3f5f\"},\"marker\":{\"line\":{\"color\":\"#E5ECF6\",\"width\":0.5},\"pattern\":{\"fillmode\":\"overlay\",\"size\":10,\"solidity\":0.2}},\"type\":\"bar\"}],\"scattergeo\":[{\"type\":\"scattergeo\",\"marker\":{\"colorbar\":{\"outlinewidth\":0,\"ticks\":\"\"}}}],\"scatterpolar\":[{\"type\":\"scatterpolar\",\"marker\":{\"colorbar\":{\"outlinewidth\":0,\"ticks\":\"\"}}}],\"histogram\":[{\"marker\":{\"pattern\":{\"fillmode\":\"overlay\",\"size\":10,\"solidity\":0.2}},\"type\":\"histogram\"}],\"scattergl\":[{\"type\":\"scattergl\",\"marker\":{\"colorbar\":{\"outlinewidth\":0,\"ticks\":\"\"}}}],\"scatter3d\":[{\"type\":\"scatter3d\",\"line\":{\"colorbar\":{\"outlinewidth\":0,\"ticks\":\"\"}},\"marker\":{\"colorbar\":{\"outlinewidth\":0,\"ticks\":\"\"}}}],\"scattermapbox\":[{\"type\":\"scattermapbox\",\"marker\":{\"colorbar\":{\"outlinewidth\":0,\"ticks\":\"\"}}}],\"scatterternary\":[{\"type\":\"scatterternary\",\"marker\":{\"colorbar\":{\"outlinewidth\":0,\"ticks\":\"\"}}}],\"scattercarpet\":[{\"type\":\"scattercarpet\",\"marker\":{\"colorbar\":{\"outlinewidth\":0,\"ticks\":\"\"}}}],\"carpet\":[{\"aaxis\":{\"endlinecolor\":\"#2a3f5f\",\"gridcolor\":\"white\",\"linecolor\":\"white\",\"minorgridcolor\":\"white\",\"startlinecolor\":\"#2a3f5f\"},\"baxis\":{\"endlinecolor\":\"#2a3f5f\",\"gridcolor\":\"white\",\"linecolor\":\"white\",\"minorgridcolor\":\"white\",\"startlinecolor\":\"#2a3f5f\"},\"type\":\"carpet\"}],\"table\":[{\"cells\":{\"fill\":{\"color\":\"#EBF0F8\"},\"line\":{\"color\":\"white\"}},\"header\":{\"fill\":{\"color\":\"#C8D4E3\"},\"line\":{\"color\":\"white\"}},\"type\":\"table\"}],\"barpolar\":[{\"marker\":{\"line\":{\"color\":\"#E5ECF6\",\"width\":0.5},\"pattern\":{\"fillmode\":\"overlay\",\"size\":10,\"solidity\":0.2}},\"type\":\"barpolar\"}],\"pie\":[{\"automargin\":true,\"type\":\"pie\"}]},\"layout\":{\"autotypenumbers\":\"strict\",\"colorway\":[\"#636efa\",\"#EF553B\",\"#00cc96\",\"#ab63fa\",\"#FFA15A\",\"#19d3f3\",\"#FF6692\",\"#B6E880\",\"#FF97FF\",\"#FECB52\"],\"font\":{\"color\":\"#2a3f5f\"},\"hovermode\":\"closest\",\"hoverlabel\":{\"align\":\"left\"},\"paper_bgcolor\":\"white\",\"plot_bgcolor\":\"#E5ECF6\",\"polar\":{\"bgcolor\":\"#E5ECF6\",\"angularaxis\":{\"gridcolor\":\"white\",\"linecolor\":\"white\",\"ticks\":\"\"},\"radialaxis\":{\"gridcolor\":\"white\",\"linecolor\":\"white\",\"ticks\":\"\"}},\"ternary\":{\"bgcolor\":\"#E5ECF6\",\"aaxis\":{\"gridcolor\":\"white\",\"linecolor\":\"white\",\"ticks\":\"\"},\"baxis\":{\"gridcolor\":\"white\",\"linecolor\":\"white\",\"ticks\":\"\"},\"caxis\":{\"gridcolor\":\"white\",\"linecolor\":\"white\",\"ticks\":\"\"}},\"coloraxis\":{\"colorbar\":{\"outlinewidth\":0,\"ticks\":\"\"}},\"colorscale\":{\"sequential\":[[0.0,\"#0d0887\"],[0.1111111111111111,\"#46039f\"],[0.2222222222222222,\"#7201a8\"],[0.3333333333333333,\"#9c179e\"],[0.4444444444444444,\"#bd3786\"],[0.5555555555555556,\"#d8576b\"],[0.6666666666666666,\"#ed7953\"],[0.7777777777777778,\"#fb9f3a\"],[0.8888888888888888,\"#fdca26\"],[1.0,\"#f0f921\"]],\"sequentialminus\":[[0.0,\"#0d0887\"],[0.1111111111111111,\"#46039f\"],[0.2222222222222222,\"#7201a8\"],[0.3333333333333333,\"#9c179e\"],[0.4444444444444444,\"#bd3786\"],[0.5555555555555556,\"#d8576b\"],[0.6666666666666666,\"#ed7953\"],[0.7777777777777778,\"#fb9f3a\"],[0.8888888888888888,\"#fdca26\"],[1.0,\"#f0f921\"]],\"diverging\":[[0,\"#8e0152\"],[0.1,\"#c51b7d\"],[0.2,\"#de77ae\"],[0.3,\"#f1b6da\"],[0.4,\"#fde0ef\"],[0.5,\"#f7f7f7\"],[0.6,\"#e6f5d0\"],[0.7,\"#b8e186\"],[0.8,\"#7fbc41\"],[0.9,\"#4d9221\"],[1,\"#276419\"]]},\"xaxis\":{\"gridcolor\":\"white\",\"linecolor\":\"white\",\"ticks\":\"\",\"title\":{\"standoff\":15},\"zerolinecolor\":\"white\",\"automargin\":true,\"zerolinewidth\":2},\"yaxis\":{\"gridcolor\":\"white\",\"linecolor\":\"white\",\"ticks\":\"\",\"title\":{\"standoff\":15},\"zerolinecolor\":\"white\",\"automargin\":true,\"zerolinewidth\":2},\"scene\":{\"xaxis\":{\"backgroundcolor\":\"#E5ECF6\",\"gridcolor\":\"white\",\"linecolor\":\"white\",\"showbackground\":true,\"ticks\":\"\",\"zerolinecolor\":\"white\",\"gridwidth\":2},\"yaxis\":{\"backgroundcolor\":\"#E5ECF6\",\"gridcolor\":\"white\",\"linecolor\":\"white\",\"showbackground\":true,\"ticks\":\"\",\"zerolinecolor\":\"white\",\"gridwidth\":2},\"zaxis\":{\"backgroundcolor\":\"#E5ECF6\",\"gridcolor\":\"white\",\"linecolor\":\"white\",\"showbackground\":true,\"ticks\":\"\",\"zerolinecolor\":\"white\",\"gridwidth\":2}},\"shapedefaults\":{\"line\":{\"color\":\"#2a3f5f\"}},\"annotationdefaults\":{\"arrowcolor\":\"#2a3f5f\",\"arrowhead\":0,\"arrowwidth\":1},\"geo\":{\"bgcolor\":\"white\",\"landcolor\":\"#E5ECF6\",\"subunitcolor\":\"white\",\"showland\":true,\"showlakes\":true,\"lakecolor\":\"white\"},\"title\":{\"x\":0.05},\"mapbox\":{\"style\":\"light\"}}},\"yaxis\":{\"title\":{\"text\":\"Count of Notes\"},\"side\":\"left\"},\"yaxis2\":{\"title\":{\"text\":\"Increase in Notes\"},\"side\":\"right\",\"overlaying\":\"y\",\"range\":[0,220486]},\"title\":{\"text\":\"Date vs Notes Count with Increase\"},\"xaxis\":{\"title\":{\"text\":\"Date\"}}},                        {\"responsive\": true}                    ).then(function(){\n",
       "                            \n",
       "var gd = document.getElementById('eed56b8b-dc52-4d0f-ba08-609eaf73b8d9');\n",
       "var x = new MutationObserver(function (mutations, observer) {{\n",
       "        var display = window.getComputedStyle(gd).display;\n",
       "        if (!display || display === 'none') {{\n",
       "            console.log([gd, 'removed!']);\n",
       "            Plotly.purge(gd);\n",
       "            observer.disconnect();\n",
       "        }}\n",
       "}});\n",
       "\n",
       "// Listen for the removal of the full notebook cells\n",
       "var notebookContainer = gd.closest('#notebook-container');\n",
       "if (notebookContainer) {{\n",
       "    x.observe(notebookContainer, {childList: true});\n",
       "}}\n",
       "\n",
       "// Listen for the clearing of the current output cell\n",
       "var outputEl = gd.closest('.output');\n",
       "if (outputEl) {{\n",
       "    x.observe(outputEl, {childList: true});\n",
       "}}\n",
       "\n",
       "                        })                };                });            </script>        </div>"
      ]
     },
     "metadata": {},
     "output_type": "display_data"
    }
   ],
   "source": [
    "import plotly.graph_objects as go\n",
    "\n",
    "# Pandasデータフレームに変換\n",
    "df_pandas = df_notes.to_pandas()\n",
    "\n",
    "# Plotlyグラフの作成\n",
    "fig = go.Figure()\n",
    "\n",
    "# 棒グラフ（notesの増加量）\n",
    "fig.add_trace(\n",
    "    go.Bar(\n",
    "        x=df_pandas['date'],\n",
    "        y=df_pandas['increase'],\n",
    "        name='Increase in Notes',\n",
    "        yaxis='y2',\n",
    "        opacity=0.5  # 不透明度を下げて折れ線グラフが目立つように\n",
    "    )\n",
    ")\n",
    "\n",
    "# 折れ線グラフ（元のnotes）\n",
    "fig.add_trace(\n",
    "    go.Scatter(\n",
    "        x=df_pandas['date'],\n",
    "        y=df_pandas['notes'],\n",
    "        mode='lines+markers',\n",
    "        name='Notes Count',\n",
    "        yaxis='y1'\n",
    "    )\n",
    ")\n",
    "\n",
    "# グラフのタイトルとレイアウトの設定\n",
    "fig.update_layout(\n",
    "    title='Date vs Notes Count with Increase',\n",
    "    xaxis_title='Date',\n",
    "    yaxis=dict(\n",
    "        title='Count of Notes',\n",
    "        side='left'\n",
    "    ),\n",
    "    yaxis2=dict(\n",
    "        title='Increase in Notes',\n",
    "        side='right',\n",
    "        overlaying='y',\n",
    "        range=[0, df_pandas['increase'].max()]  # increaseの最大値をy軸の最大に設定\n",
    "    )\n",
    ")\n",
    "\n",
    "# グラフの表示\n",
    "fig.show()"
   ]
  },
  {
   "cell_type": "markdown",
   "metadata": {},
   "source": [
    "## 楽曲対応付"
   ]
  },
  {
   "cell_type": "markdown",
   "metadata": {},
   "source": [
    "song と score_log で楽曲は対応付けられる．難易度表は df_tag． tagのうち重複や推定難易度表のがあれば除いておく．"
   ]
  },
  {
   "cell_type": "code",
   "execution_count": 185,
   "metadata": {},
   "outputs": [
    {
     "data": {
      "text/plain": [
       "['hoge']"
      ]
     },
     "execution_count": 185,
     "metadata": {},
     "output_type": "execute_result"
    }
   ],
   "source": [
    "list(filter(lambda x: not \"...\" in x, [\"hoge\", \"E★11.50...12.00\", \"N★13.00...13.50\", \"F★24.00...24.50\"]))"
   ]
  },
  {
   "cell_type": "code",
   "execution_count": 196,
   "metadata": {},
   "outputs": [
    {
     "name": "stderr",
     "output_type": "stream",
     "text": [
      "/tmp/ipykernel_2948693/3004529793.py:4: MapWithoutReturnDtypeWarning:\n",
      "\n",
      "Calling `map_elements` without specifying `return_dtype` can lead to unpredictable results. Specify `return_dtype` to silence this warning.\n",
      "\n"
     ]
    },
    {
     "data": {
      "text/html": [
       "<div><style>\n",
       ".dataframe > thead > tr,\n",
       ".dataframe > tbody > tr {\n",
       "  text-align: right;\n",
       "  white-space: pre-wrap;\n",
       "}\n",
       "</style>\n",
       "<small>shape: (14_553, 2)</small><table border=\"1\" class=\"dataframe\"><thead><tr><th>md5</th><th>folder_name</th></tr><tr><td>str</td><td>list[str]</td></tr></thead><tbody><tr><td>&quot;3661ecd6136f9a452b7914a02c9802…</td><td>[&quot;st4&quot;]</td></tr><tr><td>&quot;a0e534d02c919996fef1f2a83c44c4…</td><td>[&quot;st4&quot;]</td></tr><tr><td>&quot;fee930c6d6d3153402bb995d2b2ce5…</td><td>[&quot;▽12-&quot;]</td></tr><tr><td>&quot;4c2a85efe95c8ee2121effaa4627a0…</td><td>[&quot;★10&quot;]</td></tr><tr><td>&quot;a049d588d3f64ea85284ab38e1e437…</td><td>[&quot;◇8&quot;]</td></tr><tr><td>&hellip;</td><td>&hellip;</td></tr><tr><td>&quot;e12dbfdc2b25e315c9a4dbab8fc84c…</td><td>[&quot;st1&quot;]</td></tr><tr><td>&quot;d70f53cd5f08dfd10a9e11dad2325d…</td><td>[&quot;◆6&quot;]</td></tr><tr><td>&quot;bc2fc830f05f36608ed1b9720f9eb9…</td><td>[&quot;st5&quot;]</td></tr><tr><td>&quot;370be5fbe1eed1d47ea1645a5f4b6c…</td><td>[&quot;☆11&quot;]</td></tr><tr><td>&quot;70fe11d2dce993a95cb1151a02d7d6…</td><td>[&quot;▼22&quot;]</td></tr></tbody></table></div>"
      ],
      "text/plain": [
       "shape: (14_553, 2)\n",
       "┌─────────────────────────────────┬─────────────┐\n",
       "│ md5                             ┆ folder_name │\n",
       "│ ---                             ┆ ---         │\n",
       "│ str                             ┆ list[str]   │\n",
       "╞═════════════════════════════════╪═════════════╡\n",
       "│ 3661ecd6136f9a452b7914a02c9802… ┆ [\"st4\"]     │\n",
       "│ a0e534d02c919996fef1f2a83c44c4… ┆ [\"st4\"]     │\n",
       "│ fee930c6d6d3153402bb995d2b2ce5… ┆ [\"▽12-\"]    │\n",
       "│ 4c2a85efe95c8ee2121effaa4627a0… ┆ [\"★10\"]     │\n",
       "│ a049d588d3f64ea85284ab38e1e437… ┆ [\"◇8\"]      │\n",
       "│ …                               ┆ …           │\n",
       "│ e12dbfdc2b25e315c9a4dbab8fc84c… ┆ [\"st1\"]     │\n",
       "│ d70f53cd5f08dfd10a9e11dad2325d… ┆ [\"◆6\"]      │\n",
       "│ bc2fc830f05f36608ed1b9720f9eb9… ┆ [\"st5\"]     │\n",
       "│ 370be5fbe1eed1d47ea1645a5f4b6c… ┆ [\"☆11\"]     │\n",
       "│ 70fe11d2dce993a95cb1151a02d7d6… ┆ [\"▼22\"]     │\n",
       "└─────────────────────────────────┴─────────────┘"
      ]
     },
     "execution_count": 196,
     "metadata": {},
     "output_type": "execute_result"
    }
   ],
   "source": [
    "def mk_tags(xs: list[str]) -> str:\n",
    "    return list(dict.fromkeys(list(filter(lambda x: not \"...\" in x, xs))))\n",
    "\n",
    "df_tag_filtered = df_tag.with_columns(df_tag[\"folder_name\"].map_elements(mk_tags))\n",
    "df_tag_filtered"
   ]
  },
  {
   "cell_type": "code",
   "execution_count": 226,
   "metadata": {},
   "outputs": [],
   "source": [
    "# IPC形式で保存\n",
    "df_tag_filtered.write_ipc(\"tags.ipc\")\n",
    "\n",
    "# 別のスクリプトやセッションでの読み込み\n",
    "df_tag_filtered = pl.read_ipc(\"tags.ipc\")"
   ]
  },
  {
   "cell_type": "code",
   "execution_count": 197,
   "metadata": {},
   "outputs": [
    {
     "data": {
      "text/html": [
       "<div><style>\n",
       ".dataframe > thead > tr,\n",
       ".dataframe > tbody > tr {\n",
       "  text-align: right;\n",
       "  white-space: pre-wrap;\n",
       "}\n",
       "</style>\n",
       "<small>shape: (33_487, 30)</small><table border=\"1\" class=\"dataframe\"><thead><tr><th>md5</th><th>sha256</th><th>title</th><th>subtitle</th><th>genre</th><th>artist</th><th>subartist</th><th>tag</th><th>path</th><th>folder</th><th>stagefile</th><th>banner</th><th>backbmp</th><th>preview</th><th>parent</th><th>level</th><th>difficulty</th><th>maxbpm</th><th>minbpm</th><th>length</th><th>mode</th><th>judge</th><th>feature</th><th>content</th><th>date</th><th>favorite</th><th>adddate</th><th>notes</th><th>charthash</th><th>folder_name</th></tr><tr><td>str</td><td>str</td><td>str</td><td>str</td><td>str</td><td>str</td><td>str</td><td>str</td><td>str</td><td>str</td><td>str</td><td>str</td><td>str</td><td>str</td><td>str</td><td>i64</td><td>i64</td><td>i64</td><td>i64</td><td>i64</td><td>i64</td><td>i64</td><td>i64</td><td>i64</td><td>i64</td><td>i64</td><td>i64</td><td>i64</td><td>str</td><td>list[str]</td></tr></thead><tbody><tr><td>&quot;70a521bec4c041a3a5007156439547…</td><td>&quot;d84db8acc6545e87e347f031773f70…</td><td>&quot;Cynic(another)&quot;</td><td>&quot;&quot;</td><td>&quot;techno&quot;</td><td>&quot;6yen / G&quot;</td><td>&quot;&quot;</td><td>&quot;&quot;</td><td>&quot;E:\\bms\\songs\\_spackage\\[6yen]c…</td><td>&quot;755f3a31&quot;</td><td>&quot;G-title.bmp&quot;</td><td>&quot;&quot;</td><td>&quot;&quot;</td><td>&quot;&quot;</td><td>&quot;28bbb737&quot;</td><td>13</td><td>4</td><td>158</td><td>158</td><td>101950</td><td>7</td><td>100</td><td>0</td><td>3</td><td>1028033014</td><td>0</td><td>1731072669</td><td>1418</td><td>&quot;2a20d2e3a19db020fa74581633b38e…</td><td>[&quot;▽？&quot;]</td></tr><tr><td>&quot;f6593e9e47fd3f8f636f4652e26704…</td><td>&quot;aafccaf9224eb80c25846fdfa19176…</td><td>&quot;macaron (ANOTHER)&quot;</td><td>&quot;&quot;</td><td>&quot;HAPPY&quot;</td><td>&quot;Est&quot;</td><td>&quot;&quot;</td><td>&quot;&quot;</td><td>&quot;E:\\bms\\songs\\others\\est050_mac…</td><td>&quot;b5aa3925&quot;</td><td>&quot;title.bmp&quot;</td><td>&quot;&quot;</td><td>&quot;back.bmp&quot;</td><td>&quot;&quot;</td><td>&quot;3ee3383a&quot;</td><td>10</td><td>4</td><td>190</td><td>190</td><td>102315</td><td>7</td><td>100</td><td>64</td><td>3</td><td>1187441524</td><td>0</td><td>1731072669</td><td>990</td><td>&quot;9428f06c6e6dce12ec0d9d230e897d…</td><td>[&quot;▽11&quot;]</td></tr><tr><td>&quot;c6599ccca27e0055b4575145309577…</td><td>&quot;ea781ae2f69da2a5849021539b14f7…</td><td>&quot;-+&quot;</td><td>&quot;&quot;</td><td>&quot;Dirt Art&quot;</td><td>&quot;daisan&quot;</td><td>&quot;&quot;</td><td>&quot;&quot;</td><td>&quot;E:\\bms\\songs\\sl12\\-+\\-+_A.bme&quot;</td><td>&quot;44cf5fae&quot;</td><td>&quot;&quot;</td><td>&quot;&quot;</td><td>&quot;&quot;</td><td>&quot;&quot;</td><td>&quot;1b763f38&quot;</td><td>12</td><td>4</td><td>185</td><td>185</td><td>123283</td><td>7</td><td>100</td><td>1</td><td>3</td><td>1376059342</td><td>0</td><td>1731072669</td><td>1851</td><td>&quot;12060aac461cd074c20f81f88d0f90…</td><td>null</td></tr><tr><td>&quot;26a8f7dc5fb045987c4f2dbe2d262f…</td><td>&quot;4e0b5510c24e4874a9b968a79206ba…</td><td>&quot;-+&quot;</td><td>&quot;&quot;</td><td>&quot;Dirt Art&quot;</td><td>&quot;daisan&quot;</td><td>&quot;&quot;</td><td>&quot;&quot;</td><td>&quot;E:\\bms\\songs\\sl12\\-+\\-+_B.bme&quot;</td><td>&quot;44cf5fae&quot;</td><td>&quot;&quot;</td><td>&quot;&quot;</td><td>&quot;&quot;</td><td>&quot;&quot;</td><td>&quot;1b763f38&quot;</td><td>3</td><td>1</td><td>185</td><td>185</td><td>123283</td><td>7</td><td>100</td><td>0</td><td>3</td><td>1376059354</td><td>0</td><td>1731072669</td><td>194</td><td>&quot;704a71a900835dabde0bf2e9d1d406…</td><td>[&quot;▽2&quot;]</td></tr><tr><td>&quot;353501e3fc1b6945121ce96a0995d6…</td><td>&quot;f462e89553e6fea97dcf3b59e3ea09…</td><td>&quot;macaron (HYPER)&quot;</td><td>&quot;&quot;</td><td>&quot;HAPPY&quot;</td><td>&quot;Est&quot;</td><td>&quot;&quot;</td><td>&quot;&quot;</td><td>&quot;E:\\bms\\songs\\others\\est050_mac…</td><td>&quot;b5aa3925&quot;</td><td>&quot;title.bmp&quot;</td><td>&quot;&quot;</td><td>&quot;back.bmp&quot;</td><td>&quot;&quot;</td><td>&quot;3ee3383a&quot;</td><td>6</td><td>3</td><td>190</td><td>190</td><td>102315</td><td>7</td><td>100</td><td>64</td><td>3</td><td>1187441445</td><td>0</td><td>1731072669</td><td>638</td><td>&quot;3139674ddfbacb9faa30ff1f81facf…</td><td>[&quot;▽6&quot;]</td></tr><tr><td>&hellip;</td><td>&hellip;</td><td>&hellip;</td><td>&hellip;</td><td>&hellip;</td><td>&hellip;</td><td>&hellip;</td><td>&hellip;</td><td>&hellip;</td><td>&hellip;</td><td>&hellip;</td><td>&hellip;</td><td>&hellip;</td><td>&hellip;</td><td>&hellip;</td><td>&hellip;</td><td>&hellip;</td><td>&hellip;</td><td>&hellip;</td><td>&hellip;</td><td>&hellip;</td><td>&hellip;</td><td>&hellip;</td><td>&hellip;</td><td>&hellip;</td><td>&hellip;</td><td>&hellip;</td><td>&hellip;</td><td>&hellip;</td><td>&hellip;</td></tr><tr><td>&quot;a025de6f81e79a6d965e9a590ecd9e…</td><td>&quot;8d0b8e193c9ca4151cf7c9732059fc…</td><td>&quot;Lonely Cat[雨模様]&quot;</td><td>&quot;&quot;</td><td>&quot;HOUSE&quot;</td><td>&quot;* (Asterisk)&quot;</td><td>&quot;前川みく×多田李衣菜 / obj:monaka&quot;</td><td>&quot;&quot;</td><td>&quot;E:\\bms\\songs\\ultimate\\[＊ (Aste…</td><td>&quot;d7073a27&quot;</td><td>&quot;lonelycat_34.png&quot;</td><td>&quot;&quot;</td><td>&quot;&quot;</td><td>&quot;&quot;</td><td>&quot;52661d4d&quot;</td><td>12</td><td>4</td><td>128</td><td>128</td><td>150703</td><td>7</td><td>100</td><td>1</td><td>3</td><td>1476666512</td><td>0</td><td>1731072669</td><td>2190</td><td>&quot;35175005d51d8f9dbe9b7ceabdb088…</td><td>[&quot;sl5&quot;, &quot;▼7&quot;]</td></tr><tr><td>&quot;7745f1e720cbc677fb403a5e64d178…</td><td>&quot;1c4ad4dc05f21e6505a6301c783eb7…</td><td>&quot;Lonely Cat [Snother]&quot;</td><td>&quot;&quot;</td><td>&quot;HOUSE&quot;</td><td>&quot;* (Asterisk) / obj:スノート&quot;</td><td>&quot;前川みく×多田李衣菜&quot;</td><td>&quot;&quot;</td><td>&quot;E:\\bms\\songs\\ultimate\\[＊ (Aste…</td><td>&quot;d7073a27&quot;</td><td>&quot;lonelycat_34.png&quot;</td><td>&quot;&quot;</td><td>&quot;&quot;</td><td>&quot;&quot;</td><td>&quot;52661d4d&quot;</td><td>2</td><td>5</td><td>128</td><td>128</td><td>150703</td><td>7</td><td>100</td><td>1</td><td>3</td><td>1583995364</td><td>0</td><td>1731072669</td><td>2158</td><td>&quot;e3b8db3cbb463dfe5c6aed2c6ed06a…</td><td>[&quot;sl2&quot;]</td></tr><tr><td>&quot;872af952fb819d52bb11cefa25d615…</td><td>&quot;08a080cba48901300ffd39a6ca0a38…</td><td>&quot;Lonely Cat [雨]&quot;</td><td>&quot;&quot;</td><td>&quot;HOUSE&quot;</td><td>&quot;* (Asterisk) / obj:スノート&quot;</td><td>&quot;前川みく×多田李衣菜&quot;</td><td>&quot;&quot;</td><td>&quot;E:\\bms\\songs\\ultimate\\[＊ (Aste…</td><td>&quot;d7073a27&quot;</td><td>&quot;lonelycat_34.png&quot;</td><td>&quot;&quot;</td><td>&quot;&quot;</td><td>&quot;&quot;</td><td>&quot;52661d4d&quot;</td><td>16</td><td>5</td><td>128</td><td>128</td><td>150703</td><td>7</td><td>100</td><td>1</td><td>3</td><td>1583995178</td><td>0</td><td>1731072669</td><td>2749</td><td>&quot;cde467c737e2d4ce9d17ce4e1a971e…</td><td>[&quot;sl11&quot;]</td></tr><tr><td>&quot;3ac4bfca957201d374673f737f3aef…</td><td>&quot;8e0abe550375f7068f7691ae9dee49…</td><td>&quot;Lonely Cat [大雨注意報]&quot;</td><td>&quot;&quot;</td><td>&quot;HOUSE&quot;</td><td>&quot;* (Asterisk) / obj:スノート&quot;</td><td>&quot;前川みく×多田李衣菜&quot;</td><td>&quot;&quot;</td><td>&quot;E:\\bms\\songs\\ultimate\\[＊ (Aste…</td><td>&quot;d7073a27&quot;</td><td>&quot;lonelycat_34.png&quot;</td><td>&quot;&quot;</td><td>&quot;&quot;</td><td>&quot;&quot;</td><td>&quot;52661d4d&quot;</td><td>24</td><td>5</td><td>128</td><td>128</td><td>150703</td><td>7</td><td>100</td><td>1</td><td>3</td><td>1583995214</td><td>0</td><td>1731072669</td><td>3356</td><td>&quot;1eed4f56d012894d6616d8da7e531a…</td><td>[&quot;st5&quot;]</td></tr><tr><td>&quot;fcadc3dc1d52b063d55996790cddf4…</td><td>&quot;7ee745676ee791b5ed9bec4cc141a1…</td><td>&quot;C.E. Days [yumether]&quot;</td><td>&quot;&quot;</td><td>&quot;eurobeat&quot;</td><td>&quot;Ｃｒｅｓ / obj:夢瑠&quot;</td><td>&quot;&quot;</td><td>&quot;&quot;</td><td>&quot;E:\\bms\\songs\\ultimate\\[Ｃｒｅｓ ／ …</td><td>&quot;871c0119&quot;</td><td>&quot;&quot;</td><td>&quot;&quot;</td><td>&quot;&quot;</td><td>&quot;&quot;</td><td>&quot;52661d4d&quot;</td><td>9</td><td>4</td><td>160</td><td>160</td><td>102937</td><td>7</td><td>100</td><td>0</td><td>0</td><td>1282942712</td><td>0</td><td>1731072669</td><td>1520</td><td>&quot;04fb5e80d857598b493c544fb02040…</td><td>[&quot;▼2&quot;]</td></tr></tbody></table></div>"
      ],
      "text/plain": [
       "shape: (33_487, 30)\n",
       "┌────────────┬────────────┬────────────┬──────────┬───┬────────────┬───────┬───────────┬───────────┐\n",
       "│ md5        ┆ sha256     ┆ title      ┆ subtitle ┆ … ┆ adddate    ┆ notes ┆ charthash ┆ folder_na │\n",
       "│ ---        ┆ ---        ┆ ---        ┆ ---      ┆   ┆ ---        ┆ ---   ┆ ---       ┆ me        │\n",
       "│ str        ┆ str        ┆ str        ┆ str      ┆   ┆ i64        ┆ i64   ┆ str       ┆ ---       │\n",
       "│            ┆            ┆            ┆          ┆   ┆            ┆       ┆           ┆ list[str] │\n",
       "╞════════════╪════════════╪════════════╪══════════╪═══╪════════════╪═══════╪═══════════╪═══════════╡\n",
       "│ 70a521bec4 ┆ d84db8acc6 ┆ Cynic(anot ┆          ┆ … ┆ 1731072669 ┆ 1418  ┆ 2a20d2e3a ┆ [\"▽？\"]   │\n",
       "│ c041a3a500 ┆ 545e87e347 ┆ her)       ┆          ┆   ┆            ┆       ┆ 19db020fa ┆           │\n",
       "│ 7156439547 ┆ f031773f70 ┆            ┆          ┆   ┆            ┆       ┆ 74581633b ┆           │\n",
       "│ …          ┆ …          ┆            ┆          ┆   ┆            ┆       ┆ 38e…      ┆           │\n",
       "│ f6593e9e47 ┆ aafccaf922 ┆ macaron    ┆          ┆ … ┆ 1731072669 ┆ 990   ┆ 9428f06c6 ┆ [\"▽11\"]   │\n",
       "│ fd3f8f636f ┆ 4eb80c2584 ┆ (ANOTHER)  ┆          ┆   ┆            ┆       ┆ e6dce12ec ┆           │\n",
       "│ 4652e26704 ┆ 6fdfa19176 ┆            ┆          ┆   ┆            ┆       ┆ 0d9d230e8 ┆           │\n",
       "│ …          ┆ …          ┆            ┆          ┆   ┆            ┆       ┆ 97d…      ┆           │\n",
       "│ c6599ccca2 ┆ ea781ae2f6 ┆ -+         ┆          ┆ … ┆ 1731072669 ┆ 1851  ┆ 12060aac4 ┆ null      │\n",
       "│ 7e0055b457 ┆ 9da2a58490 ┆            ┆          ┆   ┆            ┆       ┆ 61cd074c2 ┆           │\n",
       "│ 5145309577 ┆ 21539b14f7 ┆            ┆          ┆   ┆            ┆       ┆ 0f81f88d0 ┆           │\n",
       "│ …          ┆ …          ┆            ┆          ┆   ┆            ┆       ┆ f90…      ┆           │\n",
       "│ 26a8f7dc5f ┆ 4e0b5510c2 ┆ -+         ┆          ┆ … ┆ 1731072669 ┆ 194   ┆ 704a71a90 ┆ [\"▽2\"]    │\n",
       "│ b045987c4f ┆ 4e4874a9b9 ┆            ┆          ┆   ┆            ┆       ┆ 0835dabde ┆           │\n",
       "│ 2dbe2d262f ┆ 68a79206ba ┆            ┆          ┆   ┆            ┆       ┆ 0bf2e9d1d ┆           │\n",
       "│ …          ┆ …          ┆            ┆          ┆   ┆            ┆       ┆ 406…      ┆           │\n",
       "│ 353501e3fc ┆ f462e89553 ┆ macaron    ┆          ┆ … ┆ 1731072669 ┆ 638   ┆ 3139674dd ┆ [\"▽6\"]    │\n",
       "│ 1b6945121c ┆ e6fea97dcf ┆ (HYPER)    ┆          ┆   ┆            ┆       ┆ fbacb9faa ┆           │\n",
       "│ e96a0995d6 ┆ 3b59e3ea09 ┆            ┆          ┆   ┆            ┆       ┆ 30ff1f81f ┆           │\n",
       "│ …          ┆ …          ┆            ┆          ┆   ┆            ┆       ┆ acf…      ┆           │\n",
       "│ …          ┆ …          ┆ …          ┆ …        ┆ … ┆ …          ┆ …     ┆ …         ┆ …         │\n",
       "│ a025de6f81 ┆ 8d0b8e193c ┆ Lonely Cat ┆          ┆ … ┆ 1731072669 ┆ 2190  ┆ 35175005d ┆ [\"sl5\",   │\n",
       "│ e79a6d965e ┆ 9ca4151cf7 ┆ [雨模様]   ┆          ┆   ┆            ┆       ┆ 51d8f9dbe ┆ \"▼7\"]     │\n",
       "│ 9a590ecd9e ┆ c9732059fc ┆            ┆          ┆   ┆            ┆       ┆ 9b7ceabdb ┆           │\n",
       "│ …          ┆ …          ┆            ┆          ┆   ┆            ┆       ┆ 088…      ┆           │\n",
       "│ 7745f1e720 ┆ 1c4ad4dc05 ┆ Lonely Cat ┆          ┆ … ┆ 1731072669 ┆ 2158  ┆ e3b8db3cb ┆ [\"sl2\"]   │\n",
       "│ cbc677fb40 ┆ f21e6505a6 ┆ [Snother]  ┆          ┆   ┆            ┆       ┆ b463dfe5c ┆           │\n",
       "│ 3a5e64d178 ┆ 301c783eb7 ┆            ┆          ┆   ┆            ┆       ┆ 6aed2c6ed ┆           │\n",
       "│ …          ┆ …          ┆            ┆          ┆   ┆            ┆       ┆ 06a…      ┆           │\n",
       "│ 872af952fb ┆ 08a080cba4 ┆ Lonely Cat ┆          ┆ … ┆ 1731072669 ┆ 2749  ┆ cde467c73 ┆ [\"sl11\"]  │\n",
       "│ 819d52bb11 ┆ 8901300ffd ┆ [雨]       ┆          ┆   ┆            ┆       ┆ 7e2d4ce9d ┆           │\n",
       "│ cefa25d615 ┆ 39a6ca0a38 ┆            ┆          ┆   ┆            ┆       ┆ 17ce4e1a9 ┆           │\n",
       "│ …          ┆ …          ┆            ┆          ┆   ┆            ┆       ┆ 71e…      ┆           │\n",
       "│ 3ac4bfca95 ┆ 8e0abe5503 ┆ Lonely Cat ┆          ┆ … ┆ 1731072669 ┆ 3356  ┆ 1eed4f56d ┆ [\"st5\"]   │\n",
       "│ 7201d37467 ┆ 75f7068f76 ┆ [大雨注意  ┆          ┆   ┆            ┆       ┆ 012894d66 ┆           │\n",
       "│ 3f737f3aef ┆ 91ae9dee49 ┆ 報]        ┆          ┆   ┆            ┆       ┆ 16d8da7e5 ┆           │\n",
       "│ …          ┆ …          ┆            ┆          ┆   ┆            ┆       ┆ 31a…      ┆           │\n",
       "│ fcadc3dc1d ┆ 7ee745676e ┆ C.E. Days  ┆          ┆ … ┆ 1731072669 ┆ 1520  ┆ 04fb5e80d ┆ [\"▼2\"]    │\n",
       "│ 52b063d559 ┆ e791b5ed9b ┆ [yumether] ┆          ┆   ┆            ┆       ┆ 857598b49 ┆           │\n",
       "│ 96790cddf4 ┆ ec4cc141a1 ┆            ┆          ┆   ┆            ┆       ┆ 3c544fb02 ┆           │\n",
       "│ …          ┆ …          ┆            ┆          ┆   ┆            ┆       ┆ 040…      ┆           │\n",
       "└────────────┴────────────┴────────────┴──────────┴───┴────────────┴───────┴───────────┴───────────┘"
      ]
     },
     "execution_count": 197,
     "metadata": {},
     "output_type": "execute_result"
    }
   ],
   "source": [
    "df_song_tag = df_song.join(df_tag_filtered, on=\"md5\", how=\"left\")\n",
    "df_song_tag"
   ]
  },
  {
   "cell_type": "code",
   "execution_count": 198,
   "metadata": {},
   "outputs": [
    {
     "data": {
      "text/html": [
       "<div><style>\n",
       ".dataframe > thead > tr,\n",
       ".dataframe > tbody > tr {\n",
       "  text-align: right;\n",
       "  white-space: pre-wrap;\n",
       "}\n",
       "</style>\n",
       "<small>shape: (11_703, 40)</small><table border=\"1\" class=\"dataframe\"><thead><tr><th>sha256</th><th>mode</th><th>clear</th><th>oldclear</th><th>score</th><th>oldscore</th><th>combo</th><th>oldcombo</th><th>minbp</th><th>oldminbp</th><th>date</th><th>md5</th><th>title</th><th>subtitle</th><th>genre</th><th>artist</th><th>subartist</th><th>tag</th><th>path</th><th>folder</th><th>stagefile</th><th>banner</th><th>backbmp</th><th>preview</th><th>parent</th><th>level</th><th>difficulty</th><th>maxbpm</th><th>minbpm</th><th>length</th><th>mode_right</th><th>judge</th><th>feature</th><th>content</th><th>date_right</th><th>favorite</th><th>adddate</th><th>notes</th><th>charthash</th><th>folder_name</th></tr><tr><td>str</td><td>i64</td><td>i64</td><td>i64</td><td>i64</td><td>i64</td><td>i64</td><td>i64</td><td>i64</td><td>i64</td><td>i64</td><td>str</td><td>str</td><td>str</td><td>str</td><td>str</td><td>str</td><td>str</td><td>str</td><td>str</td><td>str</td><td>str</td><td>str</td><td>str</td><td>str</td><td>i64</td><td>i64</td><td>i64</td><td>i64</td><td>i64</td><td>i64</td><td>i64</td><td>i64</td><td>i64</td><td>i64</td><td>i64</td><td>i64</td><td>i64</td><td>str</td><td>list[str]</td></tr></thead><tbody><tr><td>&quot;ba62f32610506181446b8d11f987b8…</td><td>0</td><td>7</td><td>0</td><td>843</td><td>0</td><td>158</td><td>0</td><td>13</td><td>2147483647</td><td>1637926600</td><td>&quot;7323d79931dd399cbb577d2a3e00b2…</td><td>&quot;Papyrus&quot;</td><td>&quot;&quot;</td><td>&quot;Grand Finale&quot;</td><td>&quot;papyrus&quot;</td><td>&quot;Movie: 浪漫映像制作倶楽部&quot;</td><td>&quot;&quot;</td><td>&quot;E:\\bms\\songs\\_spackage\\[Papyru…</td><td>&quot;a8af8249&quot;</td><td>&quot;papyrus_mainimg.bmp&quot;</td><td>&quot;&quot;</td><td>&quot;&quot;</td><td>&quot;&quot;</td><td>&quot;28bbb737&quot;</td><td>6</td><td>2</td><td>150</td><td>150</td><td>160300</td><td>7</td><td>75</td><td>0</td><td>3</td><td>1253972880</td><td>0</td><td>1731072669</td><td>600</td><td>&quot;4a37ead795667405da596bb1ee9691…</td><td>[&quot;▽5&quot;]</td></tr><tr><td>&quot;ba62f32610506181446b8d11f987b8…</td><td>0</td><td>7</td><td>0</td><td>843</td><td>0</td><td>158</td><td>0</td><td>13</td><td>2147483647</td><td>1637926600</td><td>&quot;7323d79931dd399cbb577d2a3e00b2…</td><td>&quot;Papyrus&quot;</td><td>&quot;&quot;</td><td>&quot;Grand Finale&quot;</td><td>&quot;papyrus&quot;</td><td>&quot;Movie: 浪漫映像制作倶楽部&quot;</td><td>&quot;&quot;</td><td>&quot;E:\\bms\\songs\\ultimate\\[papyrus…</td><td>&quot;33a6f311&quot;</td><td>&quot;papyrus_mainimg.bmp&quot;</td><td>&quot;&quot;</td><td>&quot;&quot;</td><td>&quot;&quot;</td><td>&quot;52661d4d&quot;</td><td>6</td><td>2</td><td>150</td><td>150</td><td>160300</td><td>7</td><td>75</td><td>0</td><td>3</td><td>1253972880</td><td>0</td><td>1731072669</td><td>600</td><td>&quot;4a37ead795667405da596bb1ee9691…</td><td>[&quot;▽5&quot;]</td></tr><tr><td>&quot;ba62f32610506181446b8d11f987b8…</td><td>0</td><td>7</td><td>7</td><td>1017</td><td>843</td><td>469</td><td>158</td><td>9</td><td>13</td><td>1637927355</td><td>&quot;7323d79931dd399cbb577d2a3e00b2…</td><td>&quot;Papyrus&quot;</td><td>&quot;&quot;</td><td>&quot;Grand Finale&quot;</td><td>&quot;papyrus&quot;</td><td>&quot;Movie: 浪漫映像制作倶楽部&quot;</td><td>&quot;&quot;</td><td>&quot;E:\\bms\\songs\\_spackage\\[Papyru…</td><td>&quot;a8af8249&quot;</td><td>&quot;papyrus_mainimg.bmp&quot;</td><td>&quot;&quot;</td><td>&quot;&quot;</td><td>&quot;&quot;</td><td>&quot;28bbb737&quot;</td><td>6</td><td>2</td><td>150</td><td>150</td><td>160300</td><td>7</td><td>75</td><td>0</td><td>3</td><td>1253972880</td><td>0</td><td>1731072669</td><td>600</td><td>&quot;4a37ead795667405da596bb1ee9691…</td><td>[&quot;▽5&quot;]</td></tr><tr><td>&quot;ba62f32610506181446b8d11f987b8…</td><td>0</td><td>7</td><td>7</td><td>1017</td><td>843</td><td>469</td><td>158</td><td>9</td><td>13</td><td>1637927355</td><td>&quot;7323d79931dd399cbb577d2a3e00b2…</td><td>&quot;Papyrus&quot;</td><td>&quot;&quot;</td><td>&quot;Grand Finale&quot;</td><td>&quot;papyrus&quot;</td><td>&quot;Movie: 浪漫映像制作倶楽部&quot;</td><td>&quot;&quot;</td><td>&quot;E:\\bms\\songs\\ultimate\\[papyrus…</td><td>&quot;33a6f311&quot;</td><td>&quot;papyrus_mainimg.bmp&quot;</td><td>&quot;&quot;</td><td>&quot;&quot;</td><td>&quot;&quot;</td><td>&quot;52661d4d&quot;</td><td>6</td><td>2</td><td>150</td><td>150</td><td>160300</td><td>7</td><td>75</td><td>0</td><td>3</td><td>1253972880</td><td>0</td><td>1731072669</td><td>600</td><td>&quot;4a37ead795667405da596bb1ee9691…</td><td>[&quot;▽5&quot;]</td></tr><tr><td>&quot;e48fbbea8c8338a3f1133f248d0153…</td><td>0</td><td>7</td><td>0</td><td>2491</td><td>0</td><td>677</td><td>0</td><td>8</td><td>2147483647</td><td>1637927711</td><td>&quot;bcfa34fc0bfbcd83eefd9b81bd3e3c…</td><td>&quot;G e n g a o z o&quot;</td><td>&quot;&quot;</td><td>&quot;P s y&quot;</td><td>&quot;455-38B&quot;</td><td>&quot;&quot;</td><td>&quot;&quot;</td><td>&quot;E:\\bms\\songs\\ultimate\\[455-38B…</td><td>&quot;3403f2fb&quot;</td><td>&quot;&quot;</td><td>&quot;&quot;</td><td>&quot;&quot;</td><td>&quot;&quot;</td><td>&quot;52661d4d&quot;</td><td>8</td><td>4</td><td>153</td><td>153</td><td>177254</td><td>7</td><td>75</td><td>0</td><td>3</td><td>1567691330</td><td>0</td><td>1731072669</td><td>1727</td><td>&quot;6fc61210987b1bcc9401e919e6dc7d…</td><td>[&quot;▽10&quot;]</td></tr><tr><td>&hellip;</td><td>&hellip;</td><td>&hellip;</td><td>&hellip;</td><td>&hellip;</td><td>&hellip;</td><td>&hellip;</td><td>&hellip;</td><td>&hellip;</td><td>&hellip;</td><td>&hellip;</td><td>&hellip;</td><td>&hellip;</td><td>&hellip;</td><td>&hellip;</td><td>&hellip;</td><td>&hellip;</td><td>&hellip;</td><td>&hellip;</td><td>&hellip;</td><td>&hellip;</td><td>&hellip;</td><td>&hellip;</td><td>&hellip;</td><td>&hellip;</td><td>&hellip;</td><td>&hellip;</td><td>&hellip;</td><td>&hellip;</td><td>&hellip;</td><td>&hellip;</td><td>&hellip;</td><td>&hellip;</td><td>&hellip;</td><td>&hellip;</td><td>&hellip;</td><td>&hellip;</td><td>&hellip;</td><td>&hellip;</td><td>&hellip;</td></tr><tr><td>&quot;e9eb1421e01445a74c7160bf3588c2…</td><td>0</td><td>7</td><td>7</td><td>2502</td><td>2437</td><td>764</td><td>764</td><td>13</td><td>13</td><td>1670077810</td><td>&quot;98f2a9a05b16db52f1260e3b681202…</td><td>&quot;Eleventh Hour (time limit soon…</td><td>&quot;&quot;</td><td>&quot;rock&quot;</td><td>&quot;hiro remixed by HOUJIROU / 29&quot;</td><td>&quot;&quot;</td><td>&quot;&quot;</td><td>&quot;E:\\bms\\songs\\ultimate\\[hiro re…</td><td>&quot;503f49a1&quot;</td><td>&quot;11_title.bmp&quot;</td><td>&quot;&quot;</td><td>&quot;&quot;</td><td>&quot;&quot;</td><td>&quot;52661d4d&quot;</td><td>12</td><td>4</td><td>155</td><td>155</td><td>130016</td><td>7</td><td>75</td><td>0</td><td>2</td><td>1176280348</td><td>0</td><td>1731072669</td><td>1610</td><td>&quot;738861836cf1303aee36be691c75a1…</td><td>[&quot;★1&quot;]</td></tr><tr><td>&quot;b3fc1f29e96f3e55b36c704f331059…</td><td>0</td><td>8</td><td>7</td><td>2160</td><td>2003</td><td>1175</td><td>390</td><td>1</td><td>6</td><td>1677345203</td><td>null</td><td>null</td><td>null</td><td>null</td><td>null</td><td>null</td><td>null</td><td>null</td><td>null</td><td>null</td><td>null</td><td>null</td><td>null</td><td>null</td><td>null</td><td>null</td><td>null</td><td>null</td><td>null</td><td>null</td><td>null</td><td>null</td><td>null</td><td>null</td><td>null</td><td>null</td><td>null</td><td>null</td><td>null</td></tr><tr><td>&quot;f6f46b059ec2ddf8d319a32a77a471…</td><td>0</td><td>6</td><td>6</td><td>3126</td><td>3101</td><td>393</td><td>371</td><td>39</td><td>45</td><td>1677345505</td><td>null</td><td>null</td><td>null</td><td>null</td><td>null</td><td>null</td><td>null</td><td>null</td><td>null</td><td>null</td><td>null</td><td>null</td><td>null</td><td>null</td><td>null</td><td>null</td><td>null</td><td>null</td><td>null</td><td>null</td><td>null</td><td>null</td><td>null</td><td>null</td><td>null</td><td>null</td><td>null</td><td>null</td><td>null</td></tr><tr><td>&quot;a740a7325a4881b85a73a6e3fa9b2d…</td><td>0</td><td>4</td><td>1</td><td>2780</td><td>2780</td><td>380</td><td>194</td><td>57</td><td>73</td><td>1677345661</td><td>null</td><td>null</td><td>null</td><td>null</td><td>null</td><td>null</td><td>null</td><td>null</td><td>null</td><td>null</td><td>null</td><td>null</td><td>null</td><td>null</td><td>null</td><td>null</td><td>null</td><td>null</td><td>null</td><td>null</td><td>null</td><td>null</td><td>null</td><td>null</td><td>null</td><td>null</td><td>null</td><td>null</td><td>null</td></tr><tr><td>&quot;e1b667324b7f132a79dfa22a7436dc…</td><td>0</td><td>6</td><td>6</td><td>1976</td><td>1838</td><td>355</td><td>355</td><td>42</td><td>42</td><td>1677345833</td><td>&quot;4e95770104639474cb3ef2bbd79aa7…</td><td>&quot;Brain Analysis [7KEYS ANOTHER]&quot;</td><td>&quot;&quot;</td><td>&quot;Psychedelic Trance&quot;</td><td>&quot;BACO / bga : kody&quot;</td><td>&quot;&quot;</td><td>&quot;&quot;</td><td>&quot;E:\\bms\\songs\\ultimate\\[BACO ／ …</td><td>&quot;fb21d3e6&quot;</td><td>&quot;kody_title.bmp&quot;</td><td>&quot;kody_banner.bmp&quot;</td><td>&quot;&quot;</td><td>&quot;&quot;</td><td>&quot;52661d4d&quot;</td><td>12</td><td>4</td><td>155</td><td>38</td><td>112935</td><td>7</td><td>75</td><td>0</td><td>2</td><td>1213539298</td><td>0</td><td>1731072669</td><td>1494</td><td>&quot;3779501d9b32bef93318bd439185a0…</td><td>[&quot;★10&quot;, &quot;≡03&quot;, &quot;fr4&quot;]</td></tr></tbody></table></div>"
      ],
      "text/plain": [
       "shape: (11_703, 40)\n",
       "┌───────────────┬──────┬───────┬──────────┬───┬────────────┬───────┬───────────────┬───────────────┐\n",
       "│ sha256        ┆ mode ┆ clear ┆ oldclear ┆ … ┆ adddate    ┆ notes ┆ charthash     ┆ folder_name   │\n",
       "│ ---           ┆ ---  ┆ ---   ┆ ---      ┆   ┆ ---        ┆ ---   ┆ ---           ┆ ---           │\n",
       "│ str           ┆ i64  ┆ i64   ┆ i64      ┆   ┆ i64        ┆ i64   ┆ str           ┆ list[str]     │\n",
       "╞═══════════════╪══════╪═══════╪══════════╪═══╪════════════╪═══════╪═══════════════╪═══════════════╡\n",
       "│ ba62f32610506 ┆ 0    ┆ 7     ┆ 0        ┆ … ┆ 1731072669 ┆ 600   ┆ 4a37ead795667 ┆ [\"▽5\"]        │\n",
       "│ 181446b8d11f9 ┆      ┆       ┆          ┆   ┆            ┆       ┆ 405da596bb1ee ┆               │\n",
       "│ 87b8…         ┆      ┆       ┆          ┆   ┆            ┆       ┆ 9691…         ┆               │\n",
       "│ ba62f32610506 ┆ 0    ┆ 7     ┆ 0        ┆ … ┆ 1731072669 ┆ 600   ┆ 4a37ead795667 ┆ [\"▽5\"]        │\n",
       "│ 181446b8d11f9 ┆      ┆       ┆          ┆   ┆            ┆       ┆ 405da596bb1ee ┆               │\n",
       "│ 87b8…         ┆      ┆       ┆          ┆   ┆            ┆       ┆ 9691…         ┆               │\n",
       "│ ba62f32610506 ┆ 0    ┆ 7     ┆ 7        ┆ … ┆ 1731072669 ┆ 600   ┆ 4a37ead795667 ┆ [\"▽5\"]        │\n",
       "│ 181446b8d11f9 ┆      ┆       ┆          ┆   ┆            ┆       ┆ 405da596bb1ee ┆               │\n",
       "│ 87b8…         ┆      ┆       ┆          ┆   ┆            ┆       ┆ 9691…         ┆               │\n",
       "│ ba62f32610506 ┆ 0    ┆ 7     ┆ 7        ┆ … ┆ 1731072669 ┆ 600   ┆ 4a37ead795667 ┆ [\"▽5\"]        │\n",
       "│ 181446b8d11f9 ┆      ┆       ┆          ┆   ┆            ┆       ┆ 405da596bb1ee ┆               │\n",
       "│ 87b8…         ┆      ┆       ┆          ┆   ┆            ┆       ┆ 9691…         ┆               │\n",
       "│ e48fbbea8c833 ┆ 0    ┆ 7     ┆ 0        ┆ … ┆ 1731072669 ┆ 1727  ┆ 6fc61210987b1 ┆ [\"▽10\"]       │\n",
       "│ 8a3f1133f248d ┆      ┆       ┆          ┆   ┆            ┆       ┆ bcc9401e919e6 ┆               │\n",
       "│ 0153…         ┆      ┆       ┆          ┆   ┆            ┆       ┆ dc7d…         ┆               │\n",
       "│ …             ┆ …    ┆ …     ┆ …        ┆ … ┆ …          ┆ …     ┆ …             ┆ …             │\n",
       "│ e9eb1421e0144 ┆ 0    ┆ 7     ┆ 7        ┆ … ┆ 1731072669 ┆ 1610  ┆ 738861836cf13 ┆ [\"★1\"]        │\n",
       "│ 5a74c7160bf35 ┆      ┆       ┆          ┆   ┆            ┆       ┆ 03aee36be691c ┆               │\n",
       "│ 88c2…         ┆      ┆       ┆          ┆   ┆            ┆       ┆ 75a1…         ┆               │\n",
       "│ b3fc1f29e96f3 ┆ 0    ┆ 8     ┆ 7        ┆ … ┆ null       ┆ null  ┆ null          ┆ null          │\n",
       "│ e55b36c704f33 ┆      ┆       ┆          ┆   ┆            ┆       ┆               ┆               │\n",
       "│ 1059…         ┆      ┆       ┆          ┆   ┆            ┆       ┆               ┆               │\n",
       "│ f6f46b059ec2d ┆ 0    ┆ 6     ┆ 6        ┆ … ┆ null       ┆ null  ┆ null          ┆ null          │\n",
       "│ df8d319a32a77 ┆      ┆       ┆          ┆   ┆            ┆       ┆               ┆               │\n",
       "│ a471…         ┆      ┆       ┆          ┆   ┆            ┆       ┆               ┆               │\n",
       "│ a740a7325a488 ┆ 0    ┆ 4     ┆ 1        ┆ … ┆ null       ┆ null  ┆ null          ┆ null          │\n",
       "│ 1b85a73a6e3fa ┆      ┆       ┆          ┆   ┆            ┆       ┆               ┆               │\n",
       "│ 9b2d…         ┆      ┆       ┆          ┆   ┆            ┆       ┆               ┆               │\n",
       "│ e1b667324b7f1 ┆ 0    ┆ 6     ┆ 6        ┆ … ┆ 1731072669 ┆ 1494  ┆ 3779501d9b32b ┆ [\"★10\",       │\n",
       "│ 32a79dfa22a74 ┆      ┆       ┆          ┆   ┆            ┆       ┆ ef93318bd4391 ┆ \"≡03\", \"fr4\"] │\n",
       "│ 36dc…         ┆      ┆       ┆          ┆   ┆            ┆       ┆ 85a0…         ┆               │\n",
       "└───────────────┴──────┴───────┴──────────┴───┴────────────┴───────┴───────────────┴───────────────┘"
      ]
     },
     "execution_count": 198,
     "metadata": {},
     "output_type": "execute_result"
    }
   ],
   "source": [
    "df_scorelog_song_tag = df_scorelog.join(df_song_tag, on=\"sha256\", how=\"left\")\n",
    "df_scorelog_song_tag"
   ]
  },
  {
   "cell_type": "code",
   "execution_count": 200,
   "metadata": {},
   "outputs": [
    {
     "data": {
      "text/html": [
       "<div><style>\n",
       ".dataframe > thead > tr,\n",
       ".dataframe > tbody > tr {\n",
       "  text-align: right;\n",
       "  white-space: pre-wrap;\n",
       "}\n",
       "</style>\n",
       "<small>shape: (10_308, 11)</small><table border=\"1\" class=\"dataframe\"><thead><tr><th>datetime</th><th>title</th><th>clear</th><th>oldclear</th><th>score</th><th>oldscore</th><th>combo</th><th>oldcombo</th><th>minbp</th><th>oldminbp</th><th>folder_name</th></tr><tr><td>datetime[μs]</td><td>str</td><td>i64</td><td>i64</td><td>i64</td><td>i64</td><td>i64</td><td>i64</td><td>i64</td><td>i64</td><td>list[str]</td></tr></thead><tbody><tr><td>2021-11-26 11:36:40</td><td>&quot;Papyrus&quot;</td><td>7</td><td>0</td><td>843</td><td>0</td><td>158</td><td>0</td><td>13</td><td>2147483647</td><td>[&quot;▽5&quot;]</td></tr><tr><td>2021-11-26 11:36:40</td><td>&quot;Papyrus&quot;</td><td>7</td><td>0</td><td>843</td><td>0</td><td>158</td><td>0</td><td>13</td><td>2147483647</td><td>[&quot;▽5&quot;]</td></tr><tr><td>2021-11-26 11:49:15</td><td>&quot;Papyrus&quot;</td><td>7</td><td>7</td><td>1017</td><td>843</td><td>469</td><td>158</td><td>9</td><td>13</td><td>[&quot;▽5&quot;]</td></tr><tr><td>2021-11-26 11:49:15</td><td>&quot;Papyrus&quot;</td><td>7</td><td>7</td><td>1017</td><td>843</td><td>469</td><td>158</td><td>9</td><td>13</td><td>[&quot;▽5&quot;]</td></tr><tr><td>2021-11-26 11:55:11</td><td>&quot;G e n g a o z o&quot;</td><td>7</td><td>0</td><td>2491</td><td>0</td><td>677</td><td>0</td><td>8</td><td>2147483647</td><td>[&quot;▽10&quot;]</td></tr><tr><td>&hellip;</td><td>&hellip;</td><td>&hellip;</td><td>&hellip;</td><td>&hellip;</td><td>&hellip;</td><td>&hellip;</td><td>&hellip;</td><td>&hellip;</td><td>&hellip;</td><td>&hellip;</td></tr><tr><td>2022-12-03 14:23:28</td><td>&quot;The Beautiful Sunset of That D…</td><td>6</td><td>6</td><td>2526</td><td>1689</td><td>360</td><td>329</td><td>37</td><td>42</td><td>[&quot;★6&quot;]</td></tr><tr><td>2022-12-03 14:26:27</td><td>&quot;witchcraft -EX7-&quot;</td><td>6</td><td>6</td><td>2292</td><td>1590</td><td>484</td><td>484</td><td>49</td><td>49</td><td>[&quot;★7&quot;]</td></tr><tr><td>2022-12-03 14:26:27</td><td>&quot;witchcraft -EX7-&quot;</td><td>6</td><td>6</td><td>2292</td><td>1590</td><td>484</td><td>484</td><td>49</td><td>49</td><td>[&quot;★7&quot;]</td></tr><tr><td>2022-12-03 14:30:10</td><td>&quot;Eleventh Hour (time limit soon…</td><td>7</td><td>7</td><td>2502</td><td>2437</td><td>764</td><td>764</td><td>13</td><td>13</td><td>[&quot;★1&quot;]</td></tr><tr><td>2023-02-25 17:23:53</td><td>&quot;Brain Analysis [7KEYS ANOTHER]&quot;</td><td>6</td><td>6</td><td>1976</td><td>1838</td><td>355</td><td>355</td><td>42</td><td>42</td><td>[&quot;★10&quot;, &quot;≡03&quot;, &quot;fr4&quot;]</td></tr></tbody></table></div>"
      ],
      "text/plain": [
       "shape: (10_308, 11)\n",
       "┌──────────────┬──────────────┬───────┬──────────┬───┬──────────┬───────┬────────────┬─────────────┐\n",
       "│ datetime     ┆ title        ┆ clear ┆ oldclear ┆ … ┆ oldcombo ┆ minbp ┆ oldminbp   ┆ folder_name │\n",
       "│ ---          ┆ ---          ┆ ---   ┆ ---      ┆   ┆ ---      ┆ ---   ┆ ---        ┆ ---         │\n",
       "│ datetime[μs] ┆ str          ┆ i64   ┆ i64      ┆   ┆ i64      ┆ i64   ┆ i64        ┆ list[str]   │\n",
       "╞══════════════╪══════════════╪═══════╪══════════╪═══╪══════════╪═══════╪════════════╪═════════════╡\n",
       "│ 2021-11-26   ┆ Papyrus      ┆ 7     ┆ 0        ┆ … ┆ 0        ┆ 13    ┆ 2147483647 ┆ [\"▽5\"]      │\n",
       "│ 11:36:40     ┆              ┆       ┆          ┆   ┆          ┆       ┆            ┆             │\n",
       "│ 2021-11-26   ┆ Papyrus      ┆ 7     ┆ 0        ┆ … ┆ 0        ┆ 13    ┆ 2147483647 ┆ [\"▽5\"]      │\n",
       "│ 11:36:40     ┆              ┆       ┆          ┆   ┆          ┆       ┆            ┆             │\n",
       "│ 2021-11-26   ┆ Papyrus      ┆ 7     ┆ 7        ┆ … ┆ 158      ┆ 9     ┆ 13         ┆ [\"▽5\"]      │\n",
       "│ 11:49:15     ┆              ┆       ┆          ┆   ┆          ┆       ┆            ┆             │\n",
       "│ 2021-11-26   ┆ Papyrus      ┆ 7     ┆ 7        ┆ … ┆ 158      ┆ 9     ┆ 13         ┆ [\"▽5\"]      │\n",
       "│ 11:49:15     ┆              ┆       ┆          ┆   ┆          ┆       ┆            ┆             │\n",
       "│ 2021-11-26   ┆ G e n g a o  ┆ 7     ┆ 0        ┆ … ┆ 0        ┆ 8     ┆ 2147483647 ┆ [\"▽10\"]     │\n",
       "│ 11:55:11     ┆ z o          ┆       ┆          ┆   ┆          ┆       ┆            ┆             │\n",
       "│ …            ┆ …            ┆ …     ┆ …        ┆ … ┆ …        ┆ …     ┆ …          ┆ …           │\n",
       "│ 2022-12-03   ┆ The          ┆ 6     ┆ 6        ┆ … ┆ 329      ┆ 37    ┆ 42         ┆ [\"★6\"]      │\n",
       "│ 14:23:28     ┆ Beautiful    ┆       ┆          ┆   ┆          ┆       ┆            ┆             │\n",
       "│              ┆ Sunset of    ┆       ┆          ┆   ┆          ┆       ┆            ┆             │\n",
       "│              ┆ That D…      ┆       ┆          ┆   ┆          ┆       ┆            ┆             │\n",
       "│ 2022-12-03   ┆ witchcraft   ┆ 6     ┆ 6        ┆ … ┆ 484      ┆ 49    ┆ 49         ┆ [\"★7\"]      │\n",
       "│ 14:26:27     ┆ -EX7-        ┆       ┆          ┆   ┆          ┆       ┆            ┆             │\n",
       "│ 2022-12-03   ┆ witchcraft   ┆ 6     ┆ 6        ┆ … ┆ 484      ┆ 49    ┆ 49         ┆ [\"★7\"]      │\n",
       "│ 14:26:27     ┆ -EX7-        ┆       ┆          ┆   ┆          ┆       ┆            ┆             │\n",
       "│ 2022-12-03   ┆ Eleventh     ┆ 7     ┆ 7        ┆ … ┆ 764      ┆ 13    ┆ 13         ┆ [\"★1\"]      │\n",
       "│ 14:30:10     ┆ Hour (time   ┆       ┆          ┆   ┆          ┆       ┆            ┆             │\n",
       "│              ┆ limit soon…  ┆       ┆          ┆   ┆          ┆       ┆            ┆             │\n",
       "│ 2023-02-25   ┆ Brain        ┆ 6     ┆ 6        ┆ … ┆ 355      ┆ 42    ┆ 42         ┆ [\"★10\",     │\n",
       "│ 17:23:53     ┆ Analysis     ┆       ┆          ┆   ┆          ┆       ┆            ┆ \"≡03\",      │\n",
       "│              ┆ [7KEYS       ┆       ┆          ┆   ┆          ┆       ┆            ┆ \"fr4\"]      │\n",
       "│              ┆ ANOTHER]     ┆       ┆          ┆   ┆          ┆       ┆            ┆             │\n",
       "└──────────────┴──────────────┴───────┴──────────┴───┴──────────┴───────┴────────────┴─────────────┘"
      ]
     },
     "execution_count": 200,
     "metadata": {},
     "output_type": "execute_result"
    }
   ],
   "source": [
    "date = pl.from_epoch(df_scorelog_song_tag[\"date\"], time_unit='s')\n",
    "df_scorelog_song_tag_datetime = df_scorelog_song_tag.with_columns(date.alias(\"datetime\"))\n",
    "df_scorelog_summary = df_scorelog_song_tag_datetime[[\"datetime\", \"title\", \"clear\", \"oldclear\", \"score\", \"oldscore\", \"combo\", \"oldcombo\", \"minbp\", \"oldminbp\", \"folder_name\"]].filter(~pl.col(\"title\").is_null())\n",
    "df_scorelog_summary"
   ]
  },
  {
   "cell_type": "markdown",
   "metadata": {},
   "source": [
    "## 更新点の整理\n",
    "df_scorelog_summary から，クリアの更新，スコアの更新，コンボの更新，最小BPの更新をそれぞれ抽出する．"
   ]
  },
  {
   "cell_type": "code",
   "execution_count": 222,
   "metadata": {},
   "outputs": [
    {
     "data": {
      "text/html": [
       "<div><style>\n",
       ".dataframe > thead > tr,\n",
       ".dataframe > tbody > tr {\n",
       "  text-align: right;\n",
       "  white-space: pre-wrap;\n",
       "}\n",
       "</style>\n",
       "<small>shape: (18, 12)</small><table border=\"1\" class=\"dataframe\"><thead><tr><th>datetime</th><th>title</th><th>clear</th><th>oldclear</th><th>score</th><th>oldscore</th><th>combo</th><th>oldcombo</th><th>minbp</th><th>oldminbp</th><th>folder_name</th><th>date</th></tr><tr><td>datetime[μs]</td><td>str</td><td>i64</td><td>i64</td><td>i64</td><td>i64</td><td>i64</td><td>i64</td><td>i64</td><td>i64</td><td>list[str]</td><td>date</td></tr></thead><tbody><tr><td>2022-12-03 13:16:52</td><td>&quot;Ruriko FINAL (7KEYS) EX2&quot;</td><td>7</td><td>7</td><td>3269</td><td>3206</td><td>622</td><td>622</td><td>22</td><td>22</td><td>[&quot;★1&quot;]</td><td>2022-12-03</td></tr><tr><td>2022-12-03 13:59:52</td><td>&quot;5.1.1(ReMix)[Afother]&quot;</td><td>6</td><td>6</td><td>2775</td><td>2201</td><td>423</td><td>423</td><td>33</td><td>33</td><td>[&quot;★6&quot;]</td><td>2022-12-03</td></tr><tr><td>2022-12-03 14:23:28</td><td>&quot;The Beautiful Sunset of That D…</td><td>6</td><td>6</td><td>2526</td><td>1689</td><td>360</td><td>329</td><td>37</td><td>42</td><td>[&quot;★6&quot;]</td><td>2022-12-03</td></tr><tr><td>2022-12-03 13:24:18</td><td>&quot;AltMirrorBell Another&quot;</td><td>7</td><td>7</td><td>2637</td><td>2632</td><td>734</td><td>734</td><td>19</td><td>19</td><td>[&quot;★1&quot;]</td><td>2022-12-03</td></tr><tr><td>2022-12-03 13:29:47</td><td>&quot;qriving plare&quot;</td><td>7</td><td>7</td><td>1828</td><td>1622</td><td>668</td><td>668</td><td>8</td><td>10</td><td>[&quot;★2&quot;]</td><td>2022-12-03</td></tr><tr><td>&hellip;</td><td>&hellip;</td><td>&hellip;</td><td>&hellip;</td><td>&hellip;</td><td>&hellip;</td><td>&hellip;</td><td>&hellip;</td><td>&hellip;</td><td>&hellip;</td><td>&hellip;</td><td>&hellip;</td></tr><tr><td>2022-12-03 14:26:27</td><td>&quot;witchcraft -EX7-&quot;</td><td>6</td><td>6</td><td>2292</td><td>1590</td><td>484</td><td>484</td><td>49</td><td>49</td><td>[&quot;★7&quot;]</td><td>2022-12-03</td></tr><tr><td>2022-12-03 14:05:36</td><td>&quot;約束 -HappyHyperStarmiX- (虎の穴)&quot;</td><td>7</td><td>7</td><td>3597</td><td>3515</td><td>741</td><td>732</td><td>9</td><td>15</td><td>[&quot;★1&quot;]</td><td>2022-12-03</td></tr><tr><td>2022-12-03 13:46:34</td><td>&quot;Happy☆mooN(MANIAC)&quot;</td><td>6</td><td>6</td><td>3154</td><td>3098</td><td>540</td><td>540</td><td>28</td><td>28</td><td>[&quot;★12&quot;]</td><td>2022-12-03</td></tr><tr><td>2022-12-03 13:00:11</td><td>&quot;Calamity Fortune[HYPER]&quot;</td><td>9</td><td>9</td><td>1851</td><td>1851</td><td>978</td><td>978</td><td>1</td><td>2</td><td>[&quot;▽9&quot;]</td><td>2022-12-03</td></tr><tr><td>2022-12-03 13:52:55</td><td>&quot;remote control⇒&quot;</td><td>6</td><td>6</td><td>3308</td><td>3154</td><td>489</td><td>395</td><td>73</td><td>73</td><td>[&quot;★10&quot;]</td><td>2022-12-03</td></tr></tbody></table></div>"
      ],
      "text/plain": [
       "shape: (18, 12)\n",
       "┌──────────────┬──────────────┬───────┬──────────┬───┬───────┬──────────┬─────────────┬────────────┐\n",
       "│ datetime     ┆ title        ┆ clear ┆ oldclear ┆ … ┆ minbp ┆ oldminbp ┆ folder_name ┆ date       │\n",
       "│ ---          ┆ ---          ┆ ---   ┆ ---      ┆   ┆ ---   ┆ ---      ┆ ---         ┆ ---        │\n",
       "│ datetime[μs] ┆ str          ┆ i64   ┆ i64      ┆   ┆ i64   ┆ i64      ┆ list[str]   ┆ date       │\n",
       "╞══════════════╪══════════════╪═══════╪══════════╪═══╪═══════╪══════════╪═════════════╪════════════╡\n",
       "│ 2022-12-03   ┆ Ruriko FINAL ┆ 7     ┆ 7        ┆ … ┆ 22    ┆ 22       ┆ [\"★1\"]      ┆ 2022-12-03 │\n",
       "│ 13:16:52     ┆ (7KEYS) EX2  ┆       ┆          ┆   ┆       ┆          ┆             ┆            │\n",
       "│ 2022-12-03   ┆ 5.1.1(ReMix) ┆ 6     ┆ 6        ┆ … ┆ 33    ┆ 33       ┆ [\"★6\"]      ┆ 2022-12-03 │\n",
       "│ 13:59:52     ┆ [Afother]    ┆       ┆          ┆   ┆       ┆          ┆             ┆            │\n",
       "│ 2022-12-03   ┆ The          ┆ 6     ┆ 6        ┆ … ┆ 37    ┆ 42       ┆ [\"★6\"]      ┆ 2022-12-03 │\n",
       "│ 14:23:28     ┆ Beautiful    ┆       ┆          ┆   ┆       ┆          ┆             ┆            │\n",
       "│              ┆ Sunset of    ┆       ┆          ┆   ┆       ┆          ┆             ┆            │\n",
       "│              ┆ That D…      ┆       ┆          ┆   ┆       ┆          ┆             ┆            │\n",
       "│ 2022-12-03   ┆ AltMirrorBel ┆ 7     ┆ 7        ┆ … ┆ 19    ┆ 19       ┆ [\"★1\"]      ┆ 2022-12-03 │\n",
       "│ 13:24:18     ┆ l Another    ┆       ┆          ┆   ┆       ┆          ┆             ┆            │\n",
       "│ 2022-12-03   ┆ qriving      ┆ 7     ┆ 7        ┆ … ┆ 8     ┆ 10       ┆ [\"★2\"]      ┆ 2022-12-03 │\n",
       "│ 13:29:47     ┆ plare        ┆       ┆          ┆   ┆       ┆          ┆             ┆            │\n",
       "│ …            ┆ …            ┆ …     ┆ …        ┆ … ┆ …     ┆ …        ┆ …           ┆ …          │\n",
       "│ 2022-12-03   ┆ witchcraft   ┆ 6     ┆ 6        ┆ … ┆ 49    ┆ 49       ┆ [\"★7\"]      ┆ 2022-12-03 │\n",
       "│ 14:26:27     ┆ -EX7-        ┆       ┆          ┆   ┆       ┆          ┆             ┆            │\n",
       "│ 2022-12-03   ┆ 約束 -HappyH ┆ 7     ┆ 7        ┆ … ┆ 9     ┆ 15       ┆ [\"★1\"]      ┆ 2022-12-03 │\n",
       "│ 14:05:36     ┆ yperStarmiX- ┆       ┆          ┆   ┆       ┆          ┆             ┆            │\n",
       "│              ┆ (虎の穴)     ┆       ┆          ┆   ┆       ┆          ┆             ┆            │\n",
       "│ 2022-12-03   ┆ Happy☆mooN(M ┆ 6     ┆ 6        ┆ … ┆ 28    ┆ 28       ┆ [\"★12\"]     ┆ 2022-12-03 │\n",
       "│ 13:46:34     ┆ ANIAC)       ┆       ┆          ┆   ┆       ┆          ┆             ┆            │\n",
       "│ 2022-12-03   ┆ Calamity For ┆ 9     ┆ 9        ┆ … ┆ 1     ┆ 2        ┆ [\"▽9\"]      ┆ 2022-12-03 │\n",
       "│ 13:00:11     ┆ tune[HYPER]  ┆       ┆          ┆   ┆       ┆          ┆             ┆            │\n",
       "│ 2022-12-03   ┆ remote       ┆ 6     ┆ 6        ┆ … ┆ 73    ┆ 73       ┆ [\"★10\"]     ┆ 2022-12-03 │\n",
       "│ 13:52:55     ┆ control⇒     ┆       ┆          ┆   ┆       ┆          ┆             ┆            │\n",
       "└──────────────┴──────────────┴───────┴──────────┴───┴───────┴──────────┴─────────────┴────────────┘"
      ]
     },
     "execution_count": 222,
     "metadata": {},
     "output_type": "execute_result"
    }
   ],
   "source": [
    "# 最新のやつは一旦スキップ\n",
    "df = df_scorelog_summary[:-1]\n",
    "\n",
    "# 日付のみの列を作成\n",
    "df = df.with_columns(pl.col(\"datetime\").dt.date().alias(\"date\"))\n",
    "\n",
    "# 最新の日付を取得\n",
    "latest_date = df.select(pl.col(\"date\").max()).item()\n",
    "\n",
    "# 最新の日付に一致する行を抽出\n",
    "result = df.filter(pl.col(\"date\") == latest_date).unique()\n",
    "\n",
    "result"
   ]
  },
  {
   "cell_type": "code",
   "execution_count": 240,
   "metadata": {},
   "outputs": [
    {
     "data": {
      "application/vnd.plotly.v1+json": {
       "config": {
        "plotlyServerURL": "https://plot.ly"
       },
       "data": [
        {
         "cells": {
          "values": [
           [],
           [],
           [],
           []
          ]
         },
         "header": {
          "values": [
           "Title",
           "Folders",
           "Old Clear",
           "New Clear"
          ]
         },
         "type": "table"
        }
       ],
       "layout": {
        "template": {
         "data": {
          "bar": [
           {
            "error_x": {
             "color": "#2a3f5f"
            },
            "error_y": {
             "color": "#2a3f5f"
            },
            "marker": {
             "line": {
              "color": "#E5ECF6",
              "width": 0.5
             },
             "pattern": {
              "fillmode": "overlay",
              "size": 10,
              "solidity": 0.2
             }
            },
            "type": "bar"
           }
          ],
          "barpolar": [
           {
            "marker": {
             "line": {
              "color": "#E5ECF6",
              "width": 0.5
             },
             "pattern": {
              "fillmode": "overlay",
              "size": 10,
              "solidity": 0.2
             }
            },
            "type": "barpolar"
           }
          ],
          "carpet": [
           {
            "aaxis": {
             "endlinecolor": "#2a3f5f",
             "gridcolor": "white",
             "linecolor": "white",
             "minorgridcolor": "white",
             "startlinecolor": "#2a3f5f"
            },
            "baxis": {
             "endlinecolor": "#2a3f5f",
             "gridcolor": "white",
             "linecolor": "white",
             "minorgridcolor": "white",
             "startlinecolor": "#2a3f5f"
            },
            "type": "carpet"
           }
          ],
          "choropleth": [
           {
            "colorbar": {
             "outlinewidth": 0,
             "ticks": ""
            },
            "type": "choropleth"
           }
          ],
          "contour": [
           {
            "colorbar": {
             "outlinewidth": 0,
             "ticks": ""
            },
            "colorscale": [
             [
              0,
              "#0d0887"
             ],
             [
              0.1111111111111111,
              "#46039f"
             ],
             [
              0.2222222222222222,
              "#7201a8"
             ],
             [
              0.3333333333333333,
              "#9c179e"
             ],
             [
              0.4444444444444444,
              "#bd3786"
             ],
             [
              0.5555555555555556,
              "#d8576b"
             ],
             [
              0.6666666666666666,
              "#ed7953"
             ],
             [
              0.7777777777777778,
              "#fb9f3a"
             ],
             [
              0.8888888888888888,
              "#fdca26"
             ],
             [
              1,
              "#f0f921"
             ]
            ],
            "type": "contour"
           }
          ],
          "contourcarpet": [
           {
            "colorbar": {
             "outlinewidth": 0,
             "ticks": ""
            },
            "type": "contourcarpet"
           }
          ],
          "heatmap": [
           {
            "colorbar": {
             "outlinewidth": 0,
             "ticks": ""
            },
            "colorscale": [
             [
              0,
              "#0d0887"
             ],
             [
              0.1111111111111111,
              "#46039f"
             ],
             [
              0.2222222222222222,
              "#7201a8"
             ],
             [
              0.3333333333333333,
              "#9c179e"
             ],
             [
              0.4444444444444444,
              "#bd3786"
             ],
             [
              0.5555555555555556,
              "#d8576b"
             ],
             [
              0.6666666666666666,
              "#ed7953"
             ],
             [
              0.7777777777777778,
              "#fb9f3a"
             ],
             [
              0.8888888888888888,
              "#fdca26"
             ],
             [
              1,
              "#f0f921"
             ]
            ],
            "type": "heatmap"
           }
          ],
          "heatmapgl": [
           {
            "colorbar": {
             "outlinewidth": 0,
             "ticks": ""
            },
            "colorscale": [
             [
              0,
              "#0d0887"
             ],
             [
              0.1111111111111111,
              "#46039f"
             ],
             [
              0.2222222222222222,
              "#7201a8"
             ],
             [
              0.3333333333333333,
              "#9c179e"
             ],
             [
              0.4444444444444444,
              "#bd3786"
             ],
             [
              0.5555555555555556,
              "#d8576b"
             ],
             [
              0.6666666666666666,
              "#ed7953"
             ],
             [
              0.7777777777777778,
              "#fb9f3a"
             ],
             [
              0.8888888888888888,
              "#fdca26"
             ],
             [
              1,
              "#f0f921"
             ]
            ],
            "type": "heatmapgl"
           }
          ],
          "histogram": [
           {
            "marker": {
             "pattern": {
              "fillmode": "overlay",
              "size": 10,
              "solidity": 0.2
             }
            },
            "type": "histogram"
           }
          ],
          "histogram2d": [
           {
            "colorbar": {
             "outlinewidth": 0,
             "ticks": ""
            },
            "colorscale": [
             [
              0,
              "#0d0887"
             ],
             [
              0.1111111111111111,
              "#46039f"
             ],
             [
              0.2222222222222222,
              "#7201a8"
             ],
             [
              0.3333333333333333,
              "#9c179e"
             ],
             [
              0.4444444444444444,
              "#bd3786"
             ],
             [
              0.5555555555555556,
              "#d8576b"
             ],
             [
              0.6666666666666666,
              "#ed7953"
             ],
             [
              0.7777777777777778,
              "#fb9f3a"
             ],
             [
              0.8888888888888888,
              "#fdca26"
             ],
             [
              1,
              "#f0f921"
             ]
            ],
            "type": "histogram2d"
           }
          ],
          "histogram2dcontour": [
           {
            "colorbar": {
             "outlinewidth": 0,
             "ticks": ""
            },
            "colorscale": [
             [
              0,
              "#0d0887"
             ],
             [
              0.1111111111111111,
              "#46039f"
             ],
             [
              0.2222222222222222,
              "#7201a8"
             ],
             [
              0.3333333333333333,
              "#9c179e"
             ],
             [
              0.4444444444444444,
              "#bd3786"
             ],
             [
              0.5555555555555556,
              "#d8576b"
             ],
             [
              0.6666666666666666,
              "#ed7953"
             ],
             [
              0.7777777777777778,
              "#fb9f3a"
             ],
             [
              0.8888888888888888,
              "#fdca26"
             ],
             [
              1,
              "#f0f921"
             ]
            ],
            "type": "histogram2dcontour"
           }
          ],
          "mesh3d": [
           {
            "colorbar": {
             "outlinewidth": 0,
             "ticks": ""
            },
            "type": "mesh3d"
           }
          ],
          "parcoords": [
           {
            "line": {
             "colorbar": {
              "outlinewidth": 0,
              "ticks": ""
             }
            },
            "type": "parcoords"
           }
          ],
          "pie": [
           {
            "automargin": true,
            "type": "pie"
           }
          ],
          "scatter": [
           {
            "fillpattern": {
             "fillmode": "overlay",
             "size": 10,
             "solidity": 0.2
            },
            "type": "scatter"
           }
          ],
          "scatter3d": [
           {
            "line": {
             "colorbar": {
              "outlinewidth": 0,
              "ticks": ""
             }
            },
            "marker": {
             "colorbar": {
              "outlinewidth": 0,
              "ticks": ""
             }
            },
            "type": "scatter3d"
           }
          ],
          "scattercarpet": [
           {
            "marker": {
             "colorbar": {
              "outlinewidth": 0,
              "ticks": ""
             }
            },
            "type": "scattercarpet"
           }
          ],
          "scattergeo": [
           {
            "marker": {
             "colorbar": {
              "outlinewidth": 0,
              "ticks": ""
             }
            },
            "type": "scattergeo"
           }
          ],
          "scattergl": [
           {
            "marker": {
             "colorbar": {
              "outlinewidth": 0,
              "ticks": ""
             }
            },
            "type": "scattergl"
           }
          ],
          "scattermapbox": [
           {
            "marker": {
             "colorbar": {
              "outlinewidth": 0,
              "ticks": ""
             }
            },
            "type": "scattermapbox"
           }
          ],
          "scatterpolar": [
           {
            "marker": {
             "colorbar": {
              "outlinewidth": 0,
              "ticks": ""
             }
            },
            "type": "scatterpolar"
           }
          ],
          "scatterpolargl": [
           {
            "marker": {
             "colorbar": {
              "outlinewidth": 0,
              "ticks": ""
             }
            },
            "type": "scatterpolargl"
           }
          ],
          "scatterternary": [
           {
            "marker": {
             "colorbar": {
              "outlinewidth": 0,
              "ticks": ""
             }
            },
            "type": "scatterternary"
           }
          ],
          "surface": [
           {
            "colorbar": {
             "outlinewidth": 0,
             "ticks": ""
            },
            "colorscale": [
             [
              0,
              "#0d0887"
             ],
             [
              0.1111111111111111,
              "#46039f"
             ],
             [
              0.2222222222222222,
              "#7201a8"
             ],
             [
              0.3333333333333333,
              "#9c179e"
             ],
             [
              0.4444444444444444,
              "#bd3786"
             ],
             [
              0.5555555555555556,
              "#d8576b"
             ],
             [
              0.6666666666666666,
              "#ed7953"
             ],
             [
              0.7777777777777778,
              "#fb9f3a"
             ],
             [
              0.8888888888888888,
              "#fdca26"
             ],
             [
              1,
              "#f0f921"
             ]
            ],
            "type": "surface"
           }
          ],
          "table": [
           {
            "cells": {
             "fill": {
              "color": "#EBF0F8"
             },
             "line": {
              "color": "white"
             }
            },
            "header": {
             "fill": {
              "color": "#C8D4E3"
             },
             "line": {
              "color": "white"
             }
            },
            "type": "table"
           }
          ]
         },
         "layout": {
          "annotationdefaults": {
           "arrowcolor": "#2a3f5f",
           "arrowhead": 0,
           "arrowwidth": 1
          },
          "autotypenumbers": "strict",
          "coloraxis": {
           "colorbar": {
            "outlinewidth": 0,
            "ticks": ""
           }
          },
          "colorscale": {
           "diverging": [
            [
             0,
             "#8e0152"
            ],
            [
             0.1,
             "#c51b7d"
            ],
            [
             0.2,
             "#de77ae"
            ],
            [
             0.3,
             "#f1b6da"
            ],
            [
             0.4,
             "#fde0ef"
            ],
            [
             0.5,
             "#f7f7f7"
            ],
            [
             0.6,
             "#e6f5d0"
            ],
            [
             0.7,
             "#b8e186"
            ],
            [
             0.8,
             "#7fbc41"
            ],
            [
             0.9,
             "#4d9221"
            ],
            [
             1,
             "#276419"
            ]
           ],
           "sequential": [
            [
             0,
             "#0d0887"
            ],
            [
             0.1111111111111111,
             "#46039f"
            ],
            [
             0.2222222222222222,
             "#7201a8"
            ],
            [
             0.3333333333333333,
             "#9c179e"
            ],
            [
             0.4444444444444444,
             "#bd3786"
            ],
            [
             0.5555555555555556,
             "#d8576b"
            ],
            [
             0.6666666666666666,
             "#ed7953"
            ],
            [
             0.7777777777777778,
             "#fb9f3a"
            ],
            [
             0.8888888888888888,
             "#fdca26"
            ],
            [
             1,
             "#f0f921"
            ]
           ],
           "sequentialminus": [
            [
             0,
             "#0d0887"
            ],
            [
             0.1111111111111111,
             "#46039f"
            ],
            [
             0.2222222222222222,
             "#7201a8"
            ],
            [
             0.3333333333333333,
             "#9c179e"
            ],
            [
             0.4444444444444444,
             "#bd3786"
            ],
            [
             0.5555555555555556,
             "#d8576b"
            ],
            [
             0.6666666666666666,
             "#ed7953"
            ],
            [
             0.7777777777777778,
             "#fb9f3a"
            ],
            [
             0.8888888888888888,
             "#fdca26"
            ],
            [
             1,
             "#f0f921"
            ]
           ]
          },
          "colorway": [
           "#636efa",
           "#EF553B",
           "#00cc96",
           "#ab63fa",
           "#FFA15A",
           "#19d3f3",
           "#FF6692",
           "#B6E880",
           "#FF97FF",
           "#FECB52"
          ],
          "font": {
           "color": "#2a3f5f"
          },
          "geo": {
           "bgcolor": "white",
           "lakecolor": "white",
           "landcolor": "#E5ECF6",
           "showlakes": true,
           "showland": true,
           "subunitcolor": "white"
          },
          "hoverlabel": {
           "align": "left"
          },
          "hovermode": "closest",
          "mapbox": {
           "style": "light"
          },
          "paper_bgcolor": "white",
          "plot_bgcolor": "#E5ECF6",
          "polar": {
           "angularaxis": {
            "gridcolor": "white",
            "linecolor": "white",
            "ticks": ""
           },
           "bgcolor": "#E5ECF6",
           "radialaxis": {
            "gridcolor": "white",
            "linecolor": "white",
            "ticks": ""
           }
          },
          "scene": {
           "xaxis": {
            "backgroundcolor": "#E5ECF6",
            "gridcolor": "white",
            "gridwidth": 2,
            "linecolor": "white",
            "showbackground": true,
            "ticks": "",
            "zerolinecolor": "white"
           },
           "yaxis": {
            "backgroundcolor": "#E5ECF6",
            "gridcolor": "white",
            "gridwidth": 2,
            "linecolor": "white",
            "showbackground": true,
            "ticks": "",
            "zerolinecolor": "white"
           },
           "zaxis": {
            "backgroundcolor": "#E5ECF6",
            "gridcolor": "white",
            "gridwidth": 2,
            "linecolor": "white",
            "showbackground": true,
            "ticks": "",
            "zerolinecolor": "white"
           }
          },
          "shapedefaults": {
           "line": {
            "color": "#2a3f5f"
           }
          },
          "ternary": {
           "aaxis": {
            "gridcolor": "white",
            "linecolor": "white",
            "ticks": ""
           },
           "baxis": {
            "gridcolor": "white",
            "linecolor": "white",
            "ticks": ""
           },
           "bgcolor": "#E5ECF6",
           "caxis": {
            "gridcolor": "white",
            "linecolor": "white",
            "ticks": ""
           }
          },
          "title": {
           "x": 0.05
          },
          "xaxis": {
           "automargin": true,
           "gridcolor": "white",
           "linecolor": "white",
           "ticks": "",
           "title": {
            "standoff": 15
           },
           "zerolinecolor": "white",
           "zerolinewidth": 2
          },
          "yaxis": {
           "automargin": true,
           "gridcolor": "white",
           "linecolor": "white",
           "ticks": "",
           "title": {
            "standoff": 15
           },
           "zerolinecolor": "white",
           "zerolinewidth": 2
          }
         }
        }
       }
      },
      "text/html": [
       "<div>                            <div id=\"b9175561-109f-4b7f-bbec-149605a6af60\" class=\"plotly-graph-div\" style=\"height:525px; width:100%;\"></div>            <script type=\"text/javascript\">                require([\"plotly\"], function(Plotly) {                    window.PLOTLYENV=window.PLOTLYENV || {};                                    if (document.getElementById(\"b9175561-109f-4b7f-bbec-149605a6af60\")) {                    Plotly.newPlot(                        \"b9175561-109f-4b7f-bbec-149605a6af60\",                        [{\"cells\":{\"values\":[[],[],[],[]]},\"header\":{\"values\":[\"Title\",\"Folders\",\"Old Clear\",\"New Clear\"]},\"type\":\"table\"}],                        {\"template\":{\"data\":{\"histogram2dcontour\":[{\"type\":\"histogram2dcontour\",\"colorbar\":{\"outlinewidth\":0,\"ticks\":\"\"},\"colorscale\":[[0.0,\"#0d0887\"],[0.1111111111111111,\"#46039f\"],[0.2222222222222222,\"#7201a8\"],[0.3333333333333333,\"#9c179e\"],[0.4444444444444444,\"#bd3786\"],[0.5555555555555556,\"#d8576b\"],[0.6666666666666666,\"#ed7953\"],[0.7777777777777778,\"#fb9f3a\"],[0.8888888888888888,\"#fdca26\"],[1.0,\"#f0f921\"]]}],\"choropleth\":[{\"type\":\"choropleth\",\"colorbar\":{\"outlinewidth\":0,\"ticks\":\"\"}}],\"histogram2d\":[{\"type\":\"histogram2d\",\"colorbar\":{\"outlinewidth\":0,\"ticks\":\"\"},\"colorscale\":[[0.0,\"#0d0887\"],[0.1111111111111111,\"#46039f\"],[0.2222222222222222,\"#7201a8\"],[0.3333333333333333,\"#9c179e\"],[0.4444444444444444,\"#bd3786\"],[0.5555555555555556,\"#d8576b\"],[0.6666666666666666,\"#ed7953\"],[0.7777777777777778,\"#fb9f3a\"],[0.8888888888888888,\"#fdca26\"],[1.0,\"#f0f921\"]]}],\"heatmap\":[{\"type\":\"heatmap\",\"colorbar\":{\"outlinewidth\":0,\"ticks\":\"\"},\"colorscale\":[[0.0,\"#0d0887\"],[0.1111111111111111,\"#46039f\"],[0.2222222222222222,\"#7201a8\"],[0.3333333333333333,\"#9c179e\"],[0.4444444444444444,\"#bd3786\"],[0.5555555555555556,\"#d8576b\"],[0.6666666666666666,\"#ed7953\"],[0.7777777777777778,\"#fb9f3a\"],[0.8888888888888888,\"#fdca26\"],[1.0,\"#f0f921\"]]}],\"heatmapgl\":[{\"type\":\"heatmapgl\",\"colorbar\":{\"outlinewidth\":0,\"ticks\":\"\"},\"colorscale\":[[0.0,\"#0d0887\"],[0.1111111111111111,\"#46039f\"],[0.2222222222222222,\"#7201a8\"],[0.3333333333333333,\"#9c179e\"],[0.4444444444444444,\"#bd3786\"],[0.5555555555555556,\"#d8576b\"],[0.6666666666666666,\"#ed7953\"],[0.7777777777777778,\"#fb9f3a\"],[0.8888888888888888,\"#fdca26\"],[1.0,\"#f0f921\"]]}],\"contourcarpet\":[{\"type\":\"contourcarpet\",\"colorbar\":{\"outlinewidth\":0,\"ticks\":\"\"}}],\"contour\":[{\"type\":\"contour\",\"colorbar\":{\"outlinewidth\":0,\"ticks\":\"\"},\"colorscale\":[[0.0,\"#0d0887\"],[0.1111111111111111,\"#46039f\"],[0.2222222222222222,\"#7201a8\"],[0.3333333333333333,\"#9c179e\"],[0.4444444444444444,\"#bd3786\"],[0.5555555555555556,\"#d8576b\"],[0.6666666666666666,\"#ed7953\"],[0.7777777777777778,\"#fb9f3a\"],[0.8888888888888888,\"#fdca26\"],[1.0,\"#f0f921\"]]}],\"surface\":[{\"type\":\"surface\",\"colorbar\":{\"outlinewidth\":0,\"ticks\":\"\"},\"colorscale\":[[0.0,\"#0d0887\"],[0.1111111111111111,\"#46039f\"],[0.2222222222222222,\"#7201a8\"],[0.3333333333333333,\"#9c179e\"],[0.4444444444444444,\"#bd3786\"],[0.5555555555555556,\"#d8576b\"],[0.6666666666666666,\"#ed7953\"],[0.7777777777777778,\"#fb9f3a\"],[0.8888888888888888,\"#fdca26\"],[1.0,\"#f0f921\"]]}],\"mesh3d\":[{\"type\":\"mesh3d\",\"colorbar\":{\"outlinewidth\":0,\"ticks\":\"\"}}],\"scatter\":[{\"fillpattern\":{\"fillmode\":\"overlay\",\"size\":10,\"solidity\":0.2},\"type\":\"scatter\"}],\"parcoords\":[{\"type\":\"parcoords\",\"line\":{\"colorbar\":{\"outlinewidth\":0,\"ticks\":\"\"}}}],\"scatterpolargl\":[{\"type\":\"scatterpolargl\",\"marker\":{\"colorbar\":{\"outlinewidth\":0,\"ticks\":\"\"}}}],\"bar\":[{\"error_x\":{\"color\":\"#2a3f5f\"},\"error_y\":{\"color\":\"#2a3f5f\"},\"marker\":{\"line\":{\"color\":\"#E5ECF6\",\"width\":0.5},\"pattern\":{\"fillmode\":\"overlay\",\"size\":10,\"solidity\":0.2}},\"type\":\"bar\"}],\"scattergeo\":[{\"type\":\"scattergeo\",\"marker\":{\"colorbar\":{\"outlinewidth\":0,\"ticks\":\"\"}}}],\"scatterpolar\":[{\"type\":\"scatterpolar\",\"marker\":{\"colorbar\":{\"outlinewidth\":0,\"ticks\":\"\"}}}],\"histogram\":[{\"marker\":{\"pattern\":{\"fillmode\":\"overlay\",\"size\":10,\"solidity\":0.2}},\"type\":\"histogram\"}],\"scattergl\":[{\"type\":\"scattergl\",\"marker\":{\"colorbar\":{\"outlinewidth\":0,\"ticks\":\"\"}}}],\"scatter3d\":[{\"type\":\"scatter3d\",\"line\":{\"colorbar\":{\"outlinewidth\":0,\"ticks\":\"\"}},\"marker\":{\"colorbar\":{\"outlinewidth\":0,\"ticks\":\"\"}}}],\"scattermapbox\":[{\"type\":\"scattermapbox\",\"marker\":{\"colorbar\":{\"outlinewidth\":0,\"ticks\":\"\"}}}],\"scatterternary\":[{\"type\":\"scatterternary\",\"marker\":{\"colorbar\":{\"outlinewidth\":0,\"ticks\":\"\"}}}],\"scattercarpet\":[{\"type\":\"scattercarpet\",\"marker\":{\"colorbar\":{\"outlinewidth\":0,\"ticks\":\"\"}}}],\"carpet\":[{\"aaxis\":{\"endlinecolor\":\"#2a3f5f\",\"gridcolor\":\"white\",\"linecolor\":\"white\",\"minorgridcolor\":\"white\",\"startlinecolor\":\"#2a3f5f\"},\"baxis\":{\"endlinecolor\":\"#2a3f5f\",\"gridcolor\":\"white\",\"linecolor\":\"white\",\"minorgridcolor\":\"white\",\"startlinecolor\":\"#2a3f5f\"},\"type\":\"carpet\"}],\"table\":[{\"cells\":{\"fill\":{\"color\":\"#EBF0F8\"},\"line\":{\"color\":\"white\"}},\"header\":{\"fill\":{\"color\":\"#C8D4E3\"},\"line\":{\"color\":\"white\"}},\"type\":\"table\"}],\"barpolar\":[{\"marker\":{\"line\":{\"color\":\"#E5ECF6\",\"width\":0.5},\"pattern\":{\"fillmode\":\"overlay\",\"size\":10,\"solidity\":0.2}},\"type\":\"barpolar\"}],\"pie\":[{\"automargin\":true,\"type\":\"pie\"}]},\"layout\":{\"autotypenumbers\":\"strict\",\"colorway\":[\"#636efa\",\"#EF553B\",\"#00cc96\",\"#ab63fa\",\"#FFA15A\",\"#19d3f3\",\"#FF6692\",\"#B6E880\",\"#FF97FF\",\"#FECB52\"],\"font\":{\"color\":\"#2a3f5f\"},\"hovermode\":\"closest\",\"hoverlabel\":{\"align\":\"left\"},\"paper_bgcolor\":\"white\",\"plot_bgcolor\":\"#E5ECF6\",\"polar\":{\"bgcolor\":\"#E5ECF6\",\"angularaxis\":{\"gridcolor\":\"white\",\"linecolor\":\"white\",\"ticks\":\"\"},\"radialaxis\":{\"gridcolor\":\"white\",\"linecolor\":\"white\",\"ticks\":\"\"}},\"ternary\":{\"bgcolor\":\"#E5ECF6\",\"aaxis\":{\"gridcolor\":\"white\",\"linecolor\":\"white\",\"ticks\":\"\"},\"baxis\":{\"gridcolor\":\"white\",\"linecolor\":\"white\",\"ticks\":\"\"},\"caxis\":{\"gridcolor\":\"white\",\"linecolor\":\"white\",\"ticks\":\"\"}},\"coloraxis\":{\"colorbar\":{\"outlinewidth\":0,\"ticks\":\"\"}},\"colorscale\":{\"sequential\":[[0.0,\"#0d0887\"],[0.1111111111111111,\"#46039f\"],[0.2222222222222222,\"#7201a8\"],[0.3333333333333333,\"#9c179e\"],[0.4444444444444444,\"#bd3786\"],[0.5555555555555556,\"#d8576b\"],[0.6666666666666666,\"#ed7953\"],[0.7777777777777778,\"#fb9f3a\"],[0.8888888888888888,\"#fdca26\"],[1.0,\"#f0f921\"]],\"sequentialminus\":[[0.0,\"#0d0887\"],[0.1111111111111111,\"#46039f\"],[0.2222222222222222,\"#7201a8\"],[0.3333333333333333,\"#9c179e\"],[0.4444444444444444,\"#bd3786\"],[0.5555555555555556,\"#d8576b\"],[0.6666666666666666,\"#ed7953\"],[0.7777777777777778,\"#fb9f3a\"],[0.8888888888888888,\"#fdca26\"],[1.0,\"#f0f921\"]],\"diverging\":[[0,\"#8e0152\"],[0.1,\"#c51b7d\"],[0.2,\"#de77ae\"],[0.3,\"#f1b6da\"],[0.4,\"#fde0ef\"],[0.5,\"#f7f7f7\"],[0.6,\"#e6f5d0\"],[0.7,\"#b8e186\"],[0.8,\"#7fbc41\"],[0.9,\"#4d9221\"],[1,\"#276419\"]]},\"xaxis\":{\"gridcolor\":\"white\",\"linecolor\":\"white\",\"ticks\":\"\",\"title\":{\"standoff\":15},\"zerolinecolor\":\"white\",\"automargin\":true,\"zerolinewidth\":2},\"yaxis\":{\"gridcolor\":\"white\",\"linecolor\":\"white\",\"ticks\":\"\",\"title\":{\"standoff\":15},\"zerolinecolor\":\"white\",\"automargin\":true,\"zerolinewidth\":2},\"scene\":{\"xaxis\":{\"backgroundcolor\":\"#E5ECF6\",\"gridcolor\":\"white\",\"linecolor\":\"white\",\"showbackground\":true,\"ticks\":\"\",\"zerolinecolor\":\"white\",\"gridwidth\":2},\"yaxis\":{\"backgroundcolor\":\"#E5ECF6\",\"gridcolor\":\"white\",\"linecolor\":\"white\",\"showbackground\":true,\"ticks\":\"\",\"zerolinecolor\":\"white\",\"gridwidth\":2},\"zaxis\":{\"backgroundcolor\":\"#E5ECF6\",\"gridcolor\":\"white\",\"linecolor\":\"white\",\"showbackground\":true,\"ticks\":\"\",\"zerolinecolor\":\"white\",\"gridwidth\":2}},\"shapedefaults\":{\"line\":{\"color\":\"#2a3f5f\"}},\"annotationdefaults\":{\"arrowcolor\":\"#2a3f5f\",\"arrowhead\":0,\"arrowwidth\":1},\"geo\":{\"bgcolor\":\"white\",\"landcolor\":\"#E5ECF6\",\"subunitcolor\":\"white\",\"showland\":true,\"showlakes\":true,\"lakecolor\":\"white\"},\"title\":{\"x\":0.05},\"mapbox\":{\"style\":\"light\"}}}},                        {\"responsive\": true}                    ).then(function(){\n",
       "                            \n",
       "var gd = document.getElementById('b9175561-109f-4b7f-bbec-149605a6af60');\n",
       "var x = new MutationObserver(function (mutations, observer) {{\n",
       "        var display = window.getComputedStyle(gd).display;\n",
       "        if (!display || display === 'none') {{\n",
       "            console.log([gd, 'removed!']);\n",
       "            Plotly.purge(gd);\n",
       "            observer.disconnect();\n",
       "        }}\n",
       "}});\n",
       "\n",
       "// Listen for the removal of the full notebook cells\n",
       "var notebookContainer = gd.closest('#notebook-container');\n",
       "if (notebookContainer) {{\n",
       "    x.observe(notebookContainer, {childList: true});\n",
       "}}\n",
       "\n",
       "// Listen for the clearing of the current output cell\n",
       "var outputEl = gd.closest('.output');\n",
       "if (outputEl) {{\n",
       "    x.observe(outputEl, {childList: true});\n",
       "}}\n",
       "\n",
       "                        })                };                });            </script>        </div>"
      ]
     },
     "metadata": {},
     "output_type": "display_data"
    }
   ],
   "source": [
    "df = result.filter(result[\"clear\"] > result[\"oldclear\"])\n",
    "go.Figure(data=[go.Table(\n",
    "    header=dict(values=['Title', 'Folders', 'Old Clear', \"New Clear\"]),\n",
    "    cells=dict(values=[df[\"title\"], df[\"folder_name\"], df[\"oldclear\"], df[\"clear\"]])\n",
    ")])"
   ]
  },
  {
   "cell_type": "code",
   "execution_count": 238,
   "metadata": {},
   "outputs": [
    {
     "data": {
      "application/vnd.plotly.v1+json": {
       "config": {
        "plotlyServerURL": "https://plot.ly"
       },
       "data": [
        {
         "cells": {
          "values": [
           [
            "Ruriko FINAL (7KEYS) EX2",
            "5.1.1(ReMix)[Afother]",
            "The Beautiful Sunset of That Day(Radio Edit) -ANOTHER-",
            "AltMirrorBell Another",
            "qriving plare",
            "しぇる☆どっきんぐ ～だめ！このままじゃ溢れちゃう！～ (HYPER ver1.1)",
            "少女の舞葬",
            "Party 4U (AFOTHER)",
            "風仁雷仁(EX)",
            "Red-rize \"B172 mix\" // 7keys ManiaQ",
            "- JUPITER - [ANOTHER++]",
            "約束 -HappyHyperStarmiX- (虎の穴)",
            "Eleventh Hour (time limit soon! mix) [29Another]",
            "witchcraft -EX7-",
            "約束 -HappyHyperStarmiX- (虎の穴)",
            "Happy☆mooN(MANIAC)",
            "remote control⇒"
           ],
           [
            [
             "★1"
            ],
            [
             "★6"
            ],
            [
             "★6"
            ],
            [
             "★1"
            ],
            [
             "★2"
            ],
            [
             "▽10"
            ],
            [
             "★5"
            ],
            [
             "★4"
            ],
            [
             "★3"
            ],
            [
             "★8"
            ],
            [
             "★5"
            ],
            [
             "★1"
            ],
            [
             "★1"
            ],
            [
             "★7"
            ],
            [
             "★1"
            ],
            [
             "★12"
            ],
            [
             "★10"
            ]
           ],
           [
            3206,
            2201,
            1689,
            2632,
            1622,
            2775,
            2175,
            1757,
            2155,
            2690,
            2567,
            3597,
            2437,
            1590,
            3515,
            3098,
            3154
           ],
           [
            3269,
            2775,
            2526,
            2637,
            1828,
            2795,
            2637,
            2235,
            2182,
            3358,
            2864,
            3697,
            2502,
            2292,
            3597,
            3154,
            3308
           ]
          ]
         },
         "header": {
          "values": [
           "Title",
           "Folders",
           "Old Score",
           "New Score"
          ]
         },
         "type": "table"
        }
       ],
       "layout": {
        "template": {
         "data": {
          "bar": [
           {
            "error_x": {
             "color": "#2a3f5f"
            },
            "error_y": {
             "color": "#2a3f5f"
            },
            "marker": {
             "line": {
              "color": "#E5ECF6",
              "width": 0.5
             },
             "pattern": {
              "fillmode": "overlay",
              "size": 10,
              "solidity": 0.2
             }
            },
            "type": "bar"
           }
          ],
          "barpolar": [
           {
            "marker": {
             "line": {
              "color": "#E5ECF6",
              "width": 0.5
             },
             "pattern": {
              "fillmode": "overlay",
              "size": 10,
              "solidity": 0.2
             }
            },
            "type": "barpolar"
           }
          ],
          "carpet": [
           {
            "aaxis": {
             "endlinecolor": "#2a3f5f",
             "gridcolor": "white",
             "linecolor": "white",
             "minorgridcolor": "white",
             "startlinecolor": "#2a3f5f"
            },
            "baxis": {
             "endlinecolor": "#2a3f5f",
             "gridcolor": "white",
             "linecolor": "white",
             "minorgridcolor": "white",
             "startlinecolor": "#2a3f5f"
            },
            "type": "carpet"
           }
          ],
          "choropleth": [
           {
            "colorbar": {
             "outlinewidth": 0,
             "ticks": ""
            },
            "type": "choropleth"
           }
          ],
          "contour": [
           {
            "colorbar": {
             "outlinewidth": 0,
             "ticks": ""
            },
            "colorscale": [
             [
              0,
              "#0d0887"
             ],
             [
              0.1111111111111111,
              "#46039f"
             ],
             [
              0.2222222222222222,
              "#7201a8"
             ],
             [
              0.3333333333333333,
              "#9c179e"
             ],
             [
              0.4444444444444444,
              "#bd3786"
             ],
             [
              0.5555555555555556,
              "#d8576b"
             ],
             [
              0.6666666666666666,
              "#ed7953"
             ],
             [
              0.7777777777777778,
              "#fb9f3a"
             ],
             [
              0.8888888888888888,
              "#fdca26"
             ],
             [
              1,
              "#f0f921"
             ]
            ],
            "type": "contour"
           }
          ],
          "contourcarpet": [
           {
            "colorbar": {
             "outlinewidth": 0,
             "ticks": ""
            },
            "type": "contourcarpet"
           }
          ],
          "heatmap": [
           {
            "colorbar": {
             "outlinewidth": 0,
             "ticks": ""
            },
            "colorscale": [
             [
              0,
              "#0d0887"
             ],
             [
              0.1111111111111111,
              "#46039f"
             ],
             [
              0.2222222222222222,
              "#7201a8"
             ],
             [
              0.3333333333333333,
              "#9c179e"
             ],
             [
              0.4444444444444444,
              "#bd3786"
             ],
             [
              0.5555555555555556,
              "#d8576b"
             ],
             [
              0.6666666666666666,
              "#ed7953"
             ],
             [
              0.7777777777777778,
              "#fb9f3a"
             ],
             [
              0.8888888888888888,
              "#fdca26"
             ],
             [
              1,
              "#f0f921"
             ]
            ],
            "type": "heatmap"
           }
          ],
          "heatmapgl": [
           {
            "colorbar": {
             "outlinewidth": 0,
             "ticks": ""
            },
            "colorscale": [
             [
              0,
              "#0d0887"
             ],
             [
              0.1111111111111111,
              "#46039f"
             ],
             [
              0.2222222222222222,
              "#7201a8"
             ],
             [
              0.3333333333333333,
              "#9c179e"
             ],
             [
              0.4444444444444444,
              "#bd3786"
             ],
             [
              0.5555555555555556,
              "#d8576b"
             ],
             [
              0.6666666666666666,
              "#ed7953"
             ],
             [
              0.7777777777777778,
              "#fb9f3a"
             ],
             [
              0.8888888888888888,
              "#fdca26"
             ],
             [
              1,
              "#f0f921"
             ]
            ],
            "type": "heatmapgl"
           }
          ],
          "histogram": [
           {
            "marker": {
             "pattern": {
              "fillmode": "overlay",
              "size": 10,
              "solidity": 0.2
             }
            },
            "type": "histogram"
           }
          ],
          "histogram2d": [
           {
            "colorbar": {
             "outlinewidth": 0,
             "ticks": ""
            },
            "colorscale": [
             [
              0,
              "#0d0887"
             ],
             [
              0.1111111111111111,
              "#46039f"
             ],
             [
              0.2222222222222222,
              "#7201a8"
             ],
             [
              0.3333333333333333,
              "#9c179e"
             ],
             [
              0.4444444444444444,
              "#bd3786"
             ],
             [
              0.5555555555555556,
              "#d8576b"
             ],
             [
              0.6666666666666666,
              "#ed7953"
             ],
             [
              0.7777777777777778,
              "#fb9f3a"
             ],
             [
              0.8888888888888888,
              "#fdca26"
             ],
             [
              1,
              "#f0f921"
             ]
            ],
            "type": "histogram2d"
           }
          ],
          "histogram2dcontour": [
           {
            "colorbar": {
             "outlinewidth": 0,
             "ticks": ""
            },
            "colorscale": [
             [
              0,
              "#0d0887"
             ],
             [
              0.1111111111111111,
              "#46039f"
             ],
             [
              0.2222222222222222,
              "#7201a8"
             ],
             [
              0.3333333333333333,
              "#9c179e"
             ],
             [
              0.4444444444444444,
              "#bd3786"
             ],
             [
              0.5555555555555556,
              "#d8576b"
             ],
             [
              0.6666666666666666,
              "#ed7953"
             ],
             [
              0.7777777777777778,
              "#fb9f3a"
             ],
             [
              0.8888888888888888,
              "#fdca26"
             ],
             [
              1,
              "#f0f921"
             ]
            ],
            "type": "histogram2dcontour"
           }
          ],
          "mesh3d": [
           {
            "colorbar": {
             "outlinewidth": 0,
             "ticks": ""
            },
            "type": "mesh3d"
           }
          ],
          "parcoords": [
           {
            "line": {
             "colorbar": {
              "outlinewidth": 0,
              "ticks": ""
             }
            },
            "type": "parcoords"
           }
          ],
          "pie": [
           {
            "automargin": true,
            "type": "pie"
           }
          ],
          "scatter": [
           {
            "fillpattern": {
             "fillmode": "overlay",
             "size": 10,
             "solidity": 0.2
            },
            "type": "scatter"
           }
          ],
          "scatter3d": [
           {
            "line": {
             "colorbar": {
              "outlinewidth": 0,
              "ticks": ""
             }
            },
            "marker": {
             "colorbar": {
              "outlinewidth": 0,
              "ticks": ""
             }
            },
            "type": "scatter3d"
           }
          ],
          "scattercarpet": [
           {
            "marker": {
             "colorbar": {
              "outlinewidth": 0,
              "ticks": ""
             }
            },
            "type": "scattercarpet"
           }
          ],
          "scattergeo": [
           {
            "marker": {
             "colorbar": {
              "outlinewidth": 0,
              "ticks": ""
             }
            },
            "type": "scattergeo"
           }
          ],
          "scattergl": [
           {
            "marker": {
             "colorbar": {
              "outlinewidth": 0,
              "ticks": ""
             }
            },
            "type": "scattergl"
           }
          ],
          "scattermapbox": [
           {
            "marker": {
             "colorbar": {
              "outlinewidth": 0,
              "ticks": ""
             }
            },
            "type": "scattermapbox"
           }
          ],
          "scatterpolar": [
           {
            "marker": {
             "colorbar": {
              "outlinewidth": 0,
              "ticks": ""
             }
            },
            "type": "scatterpolar"
           }
          ],
          "scatterpolargl": [
           {
            "marker": {
             "colorbar": {
              "outlinewidth": 0,
              "ticks": ""
             }
            },
            "type": "scatterpolargl"
           }
          ],
          "scatterternary": [
           {
            "marker": {
             "colorbar": {
              "outlinewidth": 0,
              "ticks": ""
             }
            },
            "type": "scatterternary"
           }
          ],
          "surface": [
           {
            "colorbar": {
             "outlinewidth": 0,
             "ticks": ""
            },
            "colorscale": [
             [
              0,
              "#0d0887"
             ],
             [
              0.1111111111111111,
              "#46039f"
             ],
             [
              0.2222222222222222,
              "#7201a8"
             ],
             [
              0.3333333333333333,
              "#9c179e"
             ],
             [
              0.4444444444444444,
              "#bd3786"
             ],
             [
              0.5555555555555556,
              "#d8576b"
             ],
             [
              0.6666666666666666,
              "#ed7953"
             ],
             [
              0.7777777777777778,
              "#fb9f3a"
             ],
             [
              0.8888888888888888,
              "#fdca26"
             ],
             [
              1,
              "#f0f921"
             ]
            ],
            "type": "surface"
           }
          ],
          "table": [
           {
            "cells": {
             "fill": {
              "color": "#EBF0F8"
             },
             "line": {
              "color": "white"
             }
            },
            "header": {
             "fill": {
              "color": "#C8D4E3"
             },
             "line": {
              "color": "white"
             }
            },
            "type": "table"
           }
          ]
         },
         "layout": {
          "annotationdefaults": {
           "arrowcolor": "#2a3f5f",
           "arrowhead": 0,
           "arrowwidth": 1
          },
          "autotypenumbers": "strict",
          "coloraxis": {
           "colorbar": {
            "outlinewidth": 0,
            "ticks": ""
           }
          },
          "colorscale": {
           "diverging": [
            [
             0,
             "#8e0152"
            ],
            [
             0.1,
             "#c51b7d"
            ],
            [
             0.2,
             "#de77ae"
            ],
            [
             0.3,
             "#f1b6da"
            ],
            [
             0.4,
             "#fde0ef"
            ],
            [
             0.5,
             "#f7f7f7"
            ],
            [
             0.6,
             "#e6f5d0"
            ],
            [
             0.7,
             "#b8e186"
            ],
            [
             0.8,
             "#7fbc41"
            ],
            [
             0.9,
             "#4d9221"
            ],
            [
             1,
             "#276419"
            ]
           ],
           "sequential": [
            [
             0,
             "#0d0887"
            ],
            [
             0.1111111111111111,
             "#46039f"
            ],
            [
             0.2222222222222222,
             "#7201a8"
            ],
            [
             0.3333333333333333,
             "#9c179e"
            ],
            [
             0.4444444444444444,
             "#bd3786"
            ],
            [
             0.5555555555555556,
             "#d8576b"
            ],
            [
             0.6666666666666666,
             "#ed7953"
            ],
            [
             0.7777777777777778,
             "#fb9f3a"
            ],
            [
             0.8888888888888888,
             "#fdca26"
            ],
            [
             1,
             "#f0f921"
            ]
           ],
           "sequentialminus": [
            [
             0,
             "#0d0887"
            ],
            [
             0.1111111111111111,
             "#46039f"
            ],
            [
             0.2222222222222222,
             "#7201a8"
            ],
            [
             0.3333333333333333,
             "#9c179e"
            ],
            [
             0.4444444444444444,
             "#bd3786"
            ],
            [
             0.5555555555555556,
             "#d8576b"
            ],
            [
             0.6666666666666666,
             "#ed7953"
            ],
            [
             0.7777777777777778,
             "#fb9f3a"
            ],
            [
             0.8888888888888888,
             "#fdca26"
            ],
            [
             1,
             "#f0f921"
            ]
           ]
          },
          "colorway": [
           "#636efa",
           "#EF553B",
           "#00cc96",
           "#ab63fa",
           "#FFA15A",
           "#19d3f3",
           "#FF6692",
           "#B6E880",
           "#FF97FF",
           "#FECB52"
          ],
          "font": {
           "color": "#2a3f5f"
          },
          "geo": {
           "bgcolor": "white",
           "lakecolor": "white",
           "landcolor": "#E5ECF6",
           "showlakes": true,
           "showland": true,
           "subunitcolor": "white"
          },
          "hoverlabel": {
           "align": "left"
          },
          "hovermode": "closest",
          "mapbox": {
           "style": "light"
          },
          "paper_bgcolor": "white",
          "plot_bgcolor": "#E5ECF6",
          "polar": {
           "angularaxis": {
            "gridcolor": "white",
            "linecolor": "white",
            "ticks": ""
           },
           "bgcolor": "#E5ECF6",
           "radialaxis": {
            "gridcolor": "white",
            "linecolor": "white",
            "ticks": ""
           }
          },
          "scene": {
           "xaxis": {
            "backgroundcolor": "#E5ECF6",
            "gridcolor": "white",
            "gridwidth": 2,
            "linecolor": "white",
            "showbackground": true,
            "ticks": "",
            "zerolinecolor": "white"
           },
           "yaxis": {
            "backgroundcolor": "#E5ECF6",
            "gridcolor": "white",
            "gridwidth": 2,
            "linecolor": "white",
            "showbackground": true,
            "ticks": "",
            "zerolinecolor": "white"
           },
           "zaxis": {
            "backgroundcolor": "#E5ECF6",
            "gridcolor": "white",
            "gridwidth": 2,
            "linecolor": "white",
            "showbackground": true,
            "ticks": "",
            "zerolinecolor": "white"
           }
          },
          "shapedefaults": {
           "line": {
            "color": "#2a3f5f"
           }
          },
          "ternary": {
           "aaxis": {
            "gridcolor": "white",
            "linecolor": "white",
            "ticks": ""
           },
           "baxis": {
            "gridcolor": "white",
            "linecolor": "white",
            "ticks": ""
           },
           "bgcolor": "#E5ECF6",
           "caxis": {
            "gridcolor": "white",
            "linecolor": "white",
            "ticks": ""
           }
          },
          "title": {
           "x": 0.05
          },
          "xaxis": {
           "automargin": true,
           "gridcolor": "white",
           "linecolor": "white",
           "ticks": "",
           "title": {
            "standoff": 15
           },
           "zerolinecolor": "white",
           "zerolinewidth": 2
          },
          "yaxis": {
           "automargin": true,
           "gridcolor": "white",
           "linecolor": "white",
           "ticks": "",
           "title": {
            "standoff": 15
           },
           "zerolinecolor": "white",
           "zerolinewidth": 2
          }
         }
        }
       }
      },
      "text/html": [
       "<div>                            <div id=\"475d4f58-10dc-486f-b211-9ab1c2edf286\" class=\"plotly-graph-div\" style=\"height:525px; width:100%;\"></div>            <script type=\"text/javascript\">                require([\"plotly\"], function(Plotly) {                    window.PLOTLYENV=window.PLOTLYENV || {};                                    if (document.getElementById(\"475d4f58-10dc-486f-b211-9ab1c2edf286\")) {                    Plotly.newPlot(                        \"475d4f58-10dc-486f-b211-9ab1c2edf286\",                        [{\"cells\":{\"values\":[[\"Ruriko FINAL (7KEYS) EX2\",\"5.1.1(ReMix)[Afother]\",\"The Beautiful Sunset of That Day(Radio Edit) -ANOTHER-\",\"AltMirrorBell Another\",\"qriving plare\",\"\\u3057\\u3047\\u308b\\u2606\\u3069\\u3063\\u304d\\u3093\\u3050 \\uff5e\\u3060\\u3081\\uff01\\u3053\\u306e\\u307e\\u307e\\u3058\\u3083\\u6ea2\\u308c\\u3061\\u3083\\u3046\\uff01\\uff5e (HYPER ver1.1)\",\"\\u5c11\\u5973\\u306e\\u821e\\u846c\",\"Party 4U (AFOTHER)\",\"\\u98a8\\u4ec1\\u96f7\\u4ec1(EX)\",\"Red-rize \\\"B172 mix\\\" \\u002f\\u002f 7keys ManiaQ\",\"- JUPITER - [ANOTHER++]\",\"\\u7d04\\u675f -HappyHyperStarmiX- (\\u864e\\u306e\\u7a74)\",\"Eleventh Hour (time limit soon! mix) [29Another]\",\"witchcraft -EX7-\",\"\\u7d04\\u675f -HappyHyperStarmiX- (\\u864e\\u306e\\u7a74)\",\"Happy\\u2606mooN(MANIAC)\",\"remote control\\u21d2\"],[[\"\\u26051\"],[\"\\u26056\"],[\"\\u26056\"],[\"\\u26051\"],[\"\\u26052\"],[\"\\u25bd10\"],[\"\\u26055\"],[\"\\u26054\"],[\"\\u26053\"],[\"\\u26058\"],[\"\\u26055\"],[\"\\u26051\"],[\"\\u26051\"],[\"\\u26057\"],[\"\\u26051\"],[\"\\u260512\"],[\"\\u260510\"]],[3206,2201,1689,2632,1622,2775,2175,1757,2155,2690,2567,3597,2437,1590,3515,3098,3154],[3269,2775,2526,2637,1828,2795,2637,2235,2182,3358,2864,3697,2502,2292,3597,3154,3308]]},\"header\":{\"values\":[\"Title\",\"Folders\",\"Old Score\",\"New Score\"]},\"type\":\"table\"}],                        {\"template\":{\"data\":{\"histogram2dcontour\":[{\"type\":\"histogram2dcontour\",\"colorbar\":{\"outlinewidth\":0,\"ticks\":\"\"},\"colorscale\":[[0.0,\"#0d0887\"],[0.1111111111111111,\"#46039f\"],[0.2222222222222222,\"#7201a8\"],[0.3333333333333333,\"#9c179e\"],[0.4444444444444444,\"#bd3786\"],[0.5555555555555556,\"#d8576b\"],[0.6666666666666666,\"#ed7953\"],[0.7777777777777778,\"#fb9f3a\"],[0.8888888888888888,\"#fdca26\"],[1.0,\"#f0f921\"]]}],\"choropleth\":[{\"type\":\"choropleth\",\"colorbar\":{\"outlinewidth\":0,\"ticks\":\"\"}}],\"histogram2d\":[{\"type\":\"histogram2d\",\"colorbar\":{\"outlinewidth\":0,\"ticks\":\"\"},\"colorscale\":[[0.0,\"#0d0887\"],[0.1111111111111111,\"#46039f\"],[0.2222222222222222,\"#7201a8\"],[0.3333333333333333,\"#9c179e\"],[0.4444444444444444,\"#bd3786\"],[0.5555555555555556,\"#d8576b\"],[0.6666666666666666,\"#ed7953\"],[0.7777777777777778,\"#fb9f3a\"],[0.8888888888888888,\"#fdca26\"],[1.0,\"#f0f921\"]]}],\"heatmap\":[{\"type\":\"heatmap\",\"colorbar\":{\"outlinewidth\":0,\"ticks\":\"\"},\"colorscale\":[[0.0,\"#0d0887\"],[0.1111111111111111,\"#46039f\"],[0.2222222222222222,\"#7201a8\"],[0.3333333333333333,\"#9c179e\"],[0.4444444444444444,\"#bd3786\"],[0.5555555555555556,\"#d8576b\"],[0.6666666666666666,\"#ed7953\"],[0.7777777777777778,\"#fb9f3a\"],[0.8888888888888888,\"#fdca26\"],[1.0,\"#f0f921\"]]}],\"heatmapgl\":[{\"type\":\"heatmapgl\",\"colorbar\":{\"outlinewidth\":0,\"ticks\":\"\"},\"colorscale\":[[0.0,\"#0d0887\"],[0.1111111111111111,\"#46039f\"],[0.2222222222222222,\"#7201a8\"],[0.3333333333333333,\"#9c179e\"],[0.4444444444444444,\"#bd3786\"],[0.5555555555555556,\"#d8576b\"],[0.6666666666666666,\"#ed7953\"],[0.7777777777777778,\"#fb9f3a\"],[0.8888888888888888,\"#fdca26\"],[1.0,\"#f0f921\"]]}],\"contourcarpet\":[{\"type\":\"contourcarpet\",\"colorbar\":{\"outlinewidth\":0,\"ticks\":\"\"}}],\"contour\":[{\"type\":\"contour\",\"colorbar\":{\"outlinewidth\":0,\"ticks\":\"\"},\"colorscale\":[[0.0,\"#0d0887\"],[0.1111111111111111,\"#46039f\"],[0.2222222222222222,\"#7201a8\"],[0.3333333333333333,\"#9c179e\"],[0.4444444444444444,\"#bd3786\"],[0.5555555555555556,\"#d8576b\"],[0.6666666666666666,\"#ed7953\"],[0.7777777777777778,\"#fb9f3a\"],[0.8888888888888888,\"#fdca26\"],[1.0,\"#f0f921\"]]}],\"surface\":[{\"type\":\"surface\",\"colorbar\":{\"outlinewidth\":0,\"ticks\":\"\"},\"colorscale\":[[0.0,\"#0d0887\"],[0.1111111111111111,\"#46039f\"],[0.2222222222222222,\"#7201a8\"],[0.3333333333333333,\"#9c179e\"],[0.4444444444444444,\"#bd3786\"],[0.5555555555555556,\"#d8576b\"],[0.6666666666666666,\"#ed7953\"],[0.7777777777777778,\"#fb9f3a\"],[0.8888888888888888,\"#fdca26\"],[1.0,\"#f0f921\"]]}],\"mesh3d\":[{\"type\":\"mesh3d\",\"colorbar\":{\"outlinewidth\":0,\"ticks\":\"\"}}],\"scatter\":[{\"fillpattern\":{\"fillmode\":\"overlay\",\"size\":10,\"solidity\":0.2},\"type\":\"scatter\"}],\"parcoords\":[{\"type\":\"parcoords\",\"line\":{\"colorbar\":{\"outlinewidth\":0,\"ticks\":\"\"}}}],\"scatterpolargl\":[{\"type\":\"scatterpolargl\",\"marker\":{\"colorbar\":{\"outlinewidth\":0,\"ticks\":\"\"}}}],\"bar\":[{\"error_x\":{\"color\":\"#2a3f5f\"},\"error_y\":{\"color\":\"#2a3f5f\"},\"marker\":{\"line\":{\"color\":\"#E5ECF6\",\"width\":0.5},\"pattern\":{\"fillmode\":\"overlay\",\"size\":10,\"solidity\":0.2}},\"type\":\"bar\"}],\"scattergeo\":[{\"type\":\"scattergeo\",\"marker\":{\"colorbar\":{\"outlinewidth\":0,\"ticks\":\"\"}}}],\"scatterpolar\":[{\"type\":\"scatterpolar\",\"marker\":{\"colorbar\":{\"outlinewidth\":0,\"ticks\":\"\"}}}],\"histogram\":[{\"marker\":{\"pattern\":{\"fillmode\":\"overlay\",\"size\":10,\"solidity\":0.2}},\"type\":\"histogram\"}],\"scattergl\":[{\"type\":\"scattergl\",\"marker\":{\"colorbar\":{\"outlinewidth\":0,\"ticks\":\"\"}}}],\"scatter3d\":[{\"type\":\"scatter3d\",\"line\":{\"colorbar\":{\"outlinewidth\":0,\"ticks\":\"\"}},\"marker\":{\"colorbar\":{\"outlinewidth\":0,\"ticks\":\"\"}}}],\"scattermapbox\":[{\"type\":\"scattermapbox\",\"marker\":{\"colorbar\":{\"outlinewidth\":0,\"ticks\":\"\"}}}],\"scatterternary\":[{\"type\":\"scatterternary\",\"marker\":{\"colorbar\":{\"outlinewidth\":0,\"ticks\":\"\"}}}],\"scattercarpet\":[{\"type\":\"scattercarpet\",\"marker\":{\"colorbar\":{\"outlinewidth\":0,\"ticks\":\"\"}}}],\"carpet\":[{\"aaxis\":{\"endlinecolor\":\"#2a3f5f\",\"gridcolor\":\"white\",\"linecolor\":\"white\",\"minorgridcolor\":\"white\",\"startlinecolor\":\"#2a3f5f\"},\"baxis\":{\"endlinecolor\":\"#2a3f5f\",\"gridcolor\":\"white\",\"linecolor\":\"white\",\"minorgridcolor\":\"white\",\"startlinecolor\":\"#2a3f5f\"},\"type\":\"carpet\"}],\"table\":[{\"cells\":{\"fill\":{\"color\":\"#EBF0F8\"},\"line\":{\"color\":\"white\"}},\"header\":{\"fill\":{\"color\":\"#C8D4E3\"},\"line\":{\"color\":\"white\"}},\"type\":\"table\"}],\"barpolar\":[{\"marker\":{\"line\":{\"color\":\"#E5ECF6\",\"width\":0.5},\"pattern\":{\"fillmode\":\"overlay\",\"size\":10,\"solidity\":0.2}},\"type\":\"barpolar\"}],\"pie\":[{\"automargin\":true,\"type\":\"pie\"}]},\"layout\":{\"autotypenumbers\":\"strict\",\"colorway\":[\"#636efa\",\"#EF553B\",\"#00cc96\",\"#ab63fa\",\"#FFA15A\",\"#19d3f3\",\"#FF6692\",\"#B6E880\",\"#FF97FF\",\"#FECB52\"],\"font\":{\"color\":\"#2a3f5f\"},\"hovermode\":\"closest\",\"hoverlabel\":{\"align\":\"left\"},\"paper_bgcolor\":\"white\",\"plot_bgcolor\":\"#E5ECF6\",\"polar\":{\"bgcolor\":\"#E5ECF6\",\"angularaxis\":{\"gridcolor\":\"white\",\"linecolor\":\"white\",\"ticks\":\"\"},\"radialaxis\":{\"gridcolor\":\"white\",\"linecolor\":\"white\",\"ticks\":\"\"}},\"ternary\":{\"bgcolor\":\"#E5ECF6\",\"aaxis\":{\"gridcolor\":\"white\",\"linecolor\":\"white\",\"ticks\":\"\"},\"baxis\":{\"gridcolor\":\"white\",\"linecolor\":\"white\",\"ticks\":\"\"},\"caxis\":{\"gridcolor\":\"white\",\"linecolor\":\"white\",\"ticks\":\"\"}},\"coloraxis\":{\"colorbar\":{\"outlinewidth\":0,\"ticks\":\"\"}},\"colorscale\":{\"sequential\":[[0.0,\"#0d0887\"],[0.1111111111111111,\"#46039f\"],[0.2222222222222222,\"#7201a8\"],[0.3333333333333333,\"#9c179e\"],[0.4444444444444444,\"#bd3786\"],[0.5555555555555556,\"#d8576b\"],[0.6666666666666666,\"#ed7953\"],[0.7777777777777778,\"#fb9f3a\"],[0.8888888888888888,\"#fdca26\"],[1.0,\"#f0f921\"]],\"sequentialminus\":[[0.0,\"#0d0887\"],[0.1111111111111111,\"#46039f\"],[0.2222222222222222,\"#7201a8\"],[0.3333333333333333,\"#9c179e\"],[0.4444444444444444,\"#bd3786\"],[0.5555555555555556,\"#d8576b\"],[0.6666666666666666,\"#ed7953\"],[0.7777777777777778,\"#fb9f3a\"],[0.8888888888888888,\"#fdca26\"],[1.0,\"#f0f921\"]],\"diverging\":[[0,\"#8e0152\"],[0.1,\"#c51b7d\"],[0.2,\"#de77ae\"],[0.3,\"#f1b6da\"],[0.4,\"#fde0ef\"],[0.5,\"#f7f7f7\"],[0.6,\"#e6f5d0\"],[0.7,\"#b8e186\"],[0.8,\"#7fbc41\"],[0.9,\"#4d9221\"],[1,\"#276419\"]]},\"xaxis\":{\"gridcolor\":\"white\",\"linecolor\":\"white\",\"ticks\":\"\",\"title\":{\"standoff\":15},\"zerolinecolor\":\"white\",\"automargin\":true,\"zerolinewidth\":2},\"yaxis\":{\"gridcolor\":\"white\",\"linecolor\":\"white\",\"ticks\":\"\",\"title\":{\"standoff\":15},\"zerolinecolor\":\"white\",\"automargin\":true,\"zerolinewidth\":2},\"scene\":{\"xaxis\":{\"backgroundcolor\":\"#E5ECF6\",\"gridcolor\":\"white\",\"linecolor\":\"white\",\"showbackground\":true,\"ticks\":\"\",\"zerolinecolor\":\"white\",\"gridwidth\":2},\"yaxis\":{\"backgroundcolor\":\"#E5ECF6\",\"gridcolor\":\"white\",\"linecolor\":\"white\",\"showbackground\":true,\"ticks\":\"\",\"zerolinecolor\":\"white\",\"gridwidth\":2},\"zaxis\":{\"backgroundcolor\":\"#E5ECF6\",\"gridcolor\":\"white\",\"linecolor\":\"white\",\"showbackground\":true,\"ticks\":\"\",\"zerolinecolor\":\"white\",\"gridwidth\":2}},\"shapedefaults\":{\"line\":{\"color\":\"#2a3f5f\"}},\"annotationdefaults\":{\"arrowcolor\":\"#2a3f5f\",\"arrowhead\":0,\"arrowwidth\":1},\"geo\":{\"bgcolor\":\"white\",\"landcolor\":\"#E5ECF6\",\"subunitcolor\":\"white\",\"showland\":true,\"showlakes\":true,\"lakecolor\":\"white\"},\"title\":{\"x\":0.05},\"mapbox\":{\"style\":\"light\"}}}},                        {\"responsive\": true}                    ).then(function(){\n",
       "                            \n",
       "var gd = document.getElementById('475d4f58-10dc-486f-b211-9ab1c2edf286');\n",
       "var x = new MutationObserver(function (mutations, observer) {{\n",
       "        var display = window.getComputedStyle(gd).display;\n",
       "        if (!display || display === 'none') {{\n",
       "            console.log([gd, 'removed!']);\n",
       "            Plotly.purge(gd);\n",
       "            observer.disconnect();\n",
       "        }}\n",
       "}});\n",
       "\n",
       "// Listen for the removal of the full notebook cells\n",
       "var notebookContainer = gd.closest('#notebook-container');\n",
       "if (notebookContainer) {{\n",
       "    x.observe(notebookContainer, {childList: true});\n",
       "}}\n",
       "\n",
       "// Listen for the clearing of the current output cell\n",
       "var outputEl = gd.closest('.output');\n",
       "if (outputEl) {{\n",
       "    x.observe(outputEl, {childList: true});\n",
       "}}\n",
       "\n",
       "                        })                };                });            </script>        </div>"
      ]
     },
     "metadata": {},
     "output_type": "display_data"
    }
   ],
   "source": [
    "df = result.filter(result[\"score\"] > result[\"oldscore\"])\n",
    "go.Figure(data=[go.Table(\n",
    "    header=dict(values=['Title', 'Folders', 'Old Score', \"New Score\"]),\n",
    "    cells=dict(values=[df[\"title\"], df[\"folder_name\"], df[\"oldscore\"], df[\"score\"]])\n",
    ")])"
   ]
  },
  {
   "cell_type": "code",
   "execution_count": 239,
   "metadata": {},
   "outputs": [
    {
     "data": {
      "application/vnd.plotly.v1+json": {
       "config": {
        "plotlyServerURL": "https://plot.ly"
       },
       "data": [
        {
         "cells": {
          "values": [
           [
            "The Beautiful Sunset of That Day(Radio Edit) -ANOTHER-",
            "qriving plare",
            "少女の舞葬",
            "Party 4U (AFOTHER)",
            "Red-rize \"B172 mix\" // 7keys ManiaQ",
            "- JUPITER - [ANOTHER++]",
            "約束 -HappyHyperStarmiX- (虎の穴)",
            "Calamity Fortune[HYPER]"
           ],
           [
            [
             "★6"
            ],
            [
             "★2"
            ],
            [
             "★5"
            ],
            [
             "★4"
            ],
            [
             "★8"
            ],
            [
             "★5"
            ],
            [
             "★1"
            ],
            [
             "▽9"
            ]
           ],
           [
            42,
            10,
            47,
            54,
            64,
            31,
            15,
            2
           ],
           [
            37,
            8,
            39,
            39,
            35,
            30,
            9,
            1
           ]
          ]
         },
         "header": {
          "values": [
           "Title",
           "Folders",
           "Old BP",
           "New BP"
          ]
         },
         "type": "table"
        }
       ],
       "layout": {
        "template": {
         "data": {
          "bar": [
           {
            "error_x": {
             "color": "#2a3f5f"
            },
            "error_y": {
             "color": "#2a3f5f"
            },
            "marker": {
             "line": {
              "color": "#E5ECF6",
              "width": 0.5
             },
             "pattern": {
              "fillmode": "overlay",
              "size": 10,
              "solidity": 0.2
             }
            },
            "type": "bar"
           }
          ],
          "barpolar": [
           {
            "marker": {
             "line": {
              "color": "#E5ECF6",
              "width": 0.5
             },
             "pattern": {
              "fillmode": "overlay",
              "size": 10,
              "solidity": 0.2
             }
            },
            "type": "barpolar"
           }
          ],
          "carpet": [
           {
            "aaxis": {
             "endlinecolor": "#2a3f5f",
             "gridcolor": "white",
             "linecolor": "white",
             "minorgridcolor": "white",
             "startlinecolor": "#2a3f5f"
            },
            "baxis": {
             "endlinecolor": "#2a3f5f",
             "gridcolor": "white",
             "linecolor": "white",
             "minorgridcolor": "white",
             "startlinecolor": "#2a3f5f"
            },
            "type": "carpet"
           }
          ],
          "choropleth": [
           {
            "colorbar": {
             "outlinewidth": 0,
             "ticks": ""
            },
            "type": "choropleth"
           }
          ],
          "contour": [
           {
            "colorbar": {
             "outlinewidth": 0,
             "ticks": ""
            },
            "colorscale": [
             [
              0,
              "#0d0887"
             ],
             [
              0.1111111111111111,
              "#46039f"
             ],
             [
              0.2222222222222222,
              "#7201a8"
             ],
             [
              0.3333333333333333,
              "#9c179e"
             ],
             [
              0.4444444444444444,
              "#bd3786"
             ],
             [
              0.5555555555555556,
              "#d8576b"
             ],
             [
              0.6666666666666666,
              "#ed7953"
             ],
             [
              0.7777777777777778,
              "#fb9f3a"
             ],
             [
              0.8888888888888888,
              "#fdca26"
             ],
             [
              1,
              "#f0f921"
             ]
            ],
            "type": "contour"
           }
          ],
          "contourcarpet": [
           {
            "colorbar": {
             "outlinewidth": 0,
             "ticks": ""
            },
            "type": "contourcarpet"
           }
          ],
          "heatmap": [
           {
            "colorbar": {
             "outlinewidth": 0,
             "ticks": ""
            },
            "colorscale": [
             [
              0,
              "#0d0887"
             ],
             [
              0.1111111111111111,
              "#46039f"
             ],
             [
              0.2222222222222222,
              "#7201a8"
             ],
             [
              0.3333333333333333,
              "#9c179e"
             ],
             [
              0.4444444444444444,
              "#bd3786"
             ],
             [
              0.5555555555555556,
              "#d8576b"
             ],
             [
              0.6666666666666666,
              "#ed7953"
             ],
             [
              0.7777777777777778,
              "#fb9f3a"
             ],
             [
              0.8888888888888888,
              "#fdca26"
             ],
             [
              1,
              "#f0f921"
             ]
            ],
            "type": "heatmap"
           }
          ],
          "heatmapgl": [
           {
            "colorbar": {
             "outlinewidth": 0,
             "ticks": ""
            },
            "colorscale": [
             [
              0,
              "#0d0887"
             ],
             [
              0.1111111111111111,
              "#46039f"
             ],
             [
              0.2222222222222222,
              "#7201a8"
             ],
             [
              0.3333333333333333,
              "#9c179e"
             ],
             [
              0.4444444444444444,
              "#bd3786"
             ],
             [
              0.5555555555555556,
              "#d8576b"
             ],
             [
              0.6666666666666666,
              "#ed7953"
             ],
             [
              0.7777777777777778,
              "#fb9f3a"
             ],
             [
              0.8888888888888888,
              "#fdca26"
             ],
             [
              1,
              "#f0f921"
             ]
            ],
            "type": "heatmapgl"
           }
          ],
          "histogram": [
           {
            "marker": {
             "pattern": {
              "fillmode": "overlay",
              "size": 10,
              "solidity": 0.2
             }
            },
            "type": "histogram"
           }
          ],
          "histogram2d": [
           {
            "colorbar": {
             "outlinewidth": 0,
             "ticks": ""
            },
            "colorscale": [
             [
              0,
              "#0d0887"
             ],
             [
              0.1111111111111111,
              "#46039f"
             ],
             [
              0.2222222222222222,
              "#7201a8"
             ],
             [
              0.3333333333333333,
              "#9c179e"
             ],
             [
              0.4444444444444444,
              "#bd3786"
             ],
             [
              0.5555555555555556,
              "#d8576b"
             ],
             [
              0.6666666666666666,
              "#ed7953"
             ],
             [
              0.7777777777777778,
              "#fb9f3a"
             ],
             [
              0.8888888888888888,
              "#fdca26"
             ],
             [
              1,
              "#f0f921"
             ]
            ],
            "type": "histogram2d"
           }
          ],
          "histogram2dcontour": [
           {
            "colorbar": {
             "outlinewidth": 0,
             "ticks": ""
            },
            "colorscale": [
             [
              0,
              "#0d0887"
             ],
             [
              0.1111111111111111,
              "#46039f"
             ],
             [
              0.2222222222222222,
              "#7201a8"
             ],
             [
              0.3333333333333333,
              "#9c179e"
             ],
             [
              0.4444444444444444,
              "#bd3786"
             ],
             [
              0.5555555555555556,
              "#d8576b"
             ],
             [
              0.6666666666666666,
              "#ed7953"
             ],
             [
              0.7777777777777778,
              "#fb9f3a"
             ],
             [
              0.8888888888888888,
              "#fdca26"
             ],
             [
              1,
              "#f0f921"
             ]
            ],
            "type": "histogram2dcontour"
           }
          ],
          "mesh3d": [
           {
            "colorbar": {
             "outlinewidth": 0,
             "ticks": ""
            },
            "type": "mesh3d"
           }
          ],
          "parcoords": [
           {
            "line": {
             "colorbar": {
              "outlinewidth": 0,
              "ticks": ""
             }
            },
            "type": "parcoords"
           }
          ],
          "pie": [
           {
            "automargin": true,
            "type": "pie"
           }
          ],
          "scatter": [
           {
            "fillpattern": {
             "fillmode": "overlay",
             "size": 10,
             "solidity": 0.2
            },
            "type": "scatter"
           }
          ],
          "scatter3d": [
           {
            "line": {
             "colorbar": {
              "outlinewidth": 0,
              "ticks": ""
             }
            },
            "marker": {
             "colorbar": {
              "outlinewidth": 0,
              "ticks": ""
             }
            },
            "type": "scatter3d"
           }
          ],
          "scattercarpet": [
           {
            "marker": {
             "colorbar": {
              "outlinewidth": 0,
              "ticks": ""
             }
            },
            "type": "scattercarpet"
           }
          ],
          "scattergeo": [
           {
            "marker": {
             "colorbar": {
              "outlinewidth": 0,
              "ticks": ""
             }
            },
            "type": "scattergeo"
           }
          ],
          "scattergl": [
           {
            "marker": {
             "colorbar": {
              "outlinewidth": 0,
              "ticks": ""
             }
            },
            "type": "scattergl"
           }
          ],
          "scattermapbox": [
           {
            "marker": {
             "colorbar": {
              "outlinewidth": 0,
              "ticks": ""
             }
            },
            "type": "scattermapbox"
           }
          ],
          "scatterpolar": [
           {
            "marker": {
             "colorbar": {
              "outlinewidth": 0,
              "ticks": ""
             }
            },
            "type": "scatterpolar"
           }
          ],
          "scatterpolargl": [
           {
            "marker": {
             "colorbar": {
              "outlinewidth": 0,
              "ticks": ""
             }
            },
            "type": "scatterpolargl"
           }
          ],
          "scatterternary": [
           {
            "marker": {
             "colorbar": {
              "outlinewidth": 0,
              "ticks": ""
             }
            },
            "type": "scatterternary"
           }
          ],
          "surface": [
           {
            "colorbar": {
             "outlinewidth": 0,
             "ticks": ""
            },
            "colorscale": [
             [
              0,
              "#0d0887"
             ],
             [
              0.1111111111111111,
              "#46039f"
             ],
             [
              0.2222222222222222,
              "#7201a8"
             ],
             [
              0.3333333333333333,
              "#9c179e"
             ],
             [
              0.4444444444444444,
              "#bd3786"
             ],
             [
              0.5555555555555556,
              "#d8576b"
             ],
             [
              0.6666666666666666,
              "#ed7953"
             ],
             [
              0.7777777777777778,
              "#fb9f3a"
             ],
             [
              0.8888888888888888,
              "#fdca26"
             ],
             [
              1,
              "#f0f921"
             ]
            ],
            "type": "surface"
           }
          ],
          "table": [
           {
            "cells": {
             "fill": {
              "color": "#EBF0F8"
             },
             "line": {
              "color": "white"
             }
            },
            "header": {
             "fill": {
              "color": "#C8D4E3"
             },
             "line": {
              "color": "white"
             }
            },
            "type": "table"
           }
          ]
         },
         "layout": {
          "annotationdefaults": {
           "arrowcolor": "#2a3f5f",
           "arrowhead": 0,
           "arrowwidth": 1
          },
          "autotypenumbers": "strict",
          "coloraxis": {
           "colorbar": {
            "outlinewidth": 0,
            "ticks": ""
           }
          },
          "colorscale": {
           "diverging": [
            [
             0,
             "#8e0152"
            ],
            [
             0.1,
             "#c51b7d"
            ],
            [
             0.2,
             "#de77ae"
            ],
            [
             0.3,
             "#f1b6da"
            ],
            [
             0.4,
             "#fde0ef"
            ],
            [
             0.5,
             "#f7f7f7"
            ],
            [
             0.6,
             "#e6f5d0"
            ],
            [
             0.7,
             "#b8e186"
            ],
            [
             0.8,
             "#7fbc41"
            ],
            [
             0.9,
             "#4d9221"
            ],
            [
             1,
             "#276419"
            ]
           ],
           "sequential": [
            [
             0,
             "#0d0887"
            ],
            [
             0.1111111111111111,
             "#46039f"
            ],
            [
             0.2222222222222222,
             "#7201a8"
            ],
            [
             0.3333333333333333,
             "#9c179e"
            ],
            [
             0.4444444444444444,
             "#bd3786"
            ],
            [
             0.5555555555555556,
             "#d8576b"
            ],
            [
             0.6666666666666666,
             "#ed7953"
            ],
            [
             0.7777777777777778,
             "#fb9f3a"
            ],
            [
             0.8888888888888888,
             "#fdca26"
            ],
            [
             1,
             "#f0f921"
            ]
           ],
           "sequentialminus": [
            [
             0,
             "#0d0887"
            ],
            [
             0.1111111111111111,
             "#46039f"
            ],
            [
             0.2222222222222222,
             "#7201a8"
            ],
            [
             0.3333333333333333,
             "#9c179e"
            ],
            [
             0.4444444444444444,
             "#bd3786"
            ],
            [
             0.5555555555555556,
             "#d8576b"
            ],
            [
             0.6666666666666666,
             "#ed7953"
            ],
            [
             0.7777777777777778,
             "#fb9f3a"
            ],
            [
             0.8888888888888888,
             "#fdca26"
            ],
            [
             1,
             "#f0f921"
            ]
           ]
          },
          "colorway": [
           "#636efa",
           "#EF553B",
           "#00cc96",
           "#ab63fa",
           "#FFA15A",
           "#19d3f3",
           "#FF6692",
           "#B6E880",
           "#FF97FF",
           "#FECB52"
          ],
          "font": {
           "color": "#2a3f5f"
          },
          "geo": {
           "bgcolor": "white",
           "lakecolor": "white",
           "landcolor": "#E5ECF6",
           "showlakes": true,
           "showland": true,
           "subunitcolor": "white"
          },
          "hoverlabel": {
           "align": "left"
          },
          "hovermode": "closest",
          "mapbox": {
           "style": "light"
          },
          "paper_bgcolor": "white",
          "plot_bgcolor": "#E5ECF6",
          "polar": {
           "angularaxis": {
            "gridcolor": "white",
            "linecolor": "white",
            "ticks": ""
           },
           "bgcolor": "#E5ECF6",
           "radialaxis": {
            "gridcolor": "white",
            "linecolor": "white",
            "ticks": ""
           }
          },
          "scene": {
           "xaxis": {
            "backgroundcolor": "#E5ECF6",
            "gridcolor": "white",
            "gridwidth": 2,
            "linecolor": "white",
            "showbackground": true,
            "ticks": "",
            "zerolinecolor": "white"
           },
           "yaxis": {
            "backgroundcolor": "#E5ECF6",
            "gridcolor": "white",
            "gridwidth": 2,
            "linecolor": "white",
            "showbackground": true,
            "ticks": "",
            "zerolinecolor": "white"
           },
           "zaxis": {
            "backgroundcolor": "#E5ECF6",
            "gridcolor": "white",
            "gridwidth": 2,
            "linecolor": "white",
            "showbackground": true,
            "ticks": "",
            "zerolinecolor": "white"
           }
          },
          "shapedefaults": {
           "line": {
            "color": "#2a3f5f"
           }
          },
          "ternary": {
           "aaxis": {
            "gridcolor": "white",
            "linecolor": "white",
            "ticks": ""
           },
           "baxis": {
            "gridcolor": "white",
            "linecolor": "white",
            "ticks": ""
           },
           "bgcolor": "#E5ECF6",
           "caxis": {
            "gridcolor": "white",
            "linecolor": "white",
            "ticks": ""
           }
          },
          "title": {
           "x": 0.05
          },
          "xaxis": {
           "automargin": true,
           "gridcolor": "white",
           "linecolor": "white",
           "ticks": "",
           "title": {
            "standoff": 15
           },
           "zerolinecolor": "white",
           "zerolinewidth": 2
          },
          "yaxis": {
           "automargin": true,
           "gridcolor": "white",
           "linecolor": "white",
           "ticks": "",
           "title": {
            "standoff": 15
           },
           "zerolinecolor": "white",
           "zerolinewidth": 2
          }
         }
        }
       }
      },
      "text/html": [
       "<div>                            <div id=\"5a1256f5-59c1-4df8-8282-ea498ed9d533\" class=\"plotly-graph-div\" style=\"height:525px; width:100%;\"></div>            <script type=\"text/javascript\">                require([\"plotly\"], function(Plotly) {                    window.PLOTLYENV=window.PLOTLYENV || {};                                    if (document.getElementById(\"5a1256f5-59c1-4df8-8282-ea498ed9d533\")) {                    Plotly.newPlot(                        \"5a1256f5-59c1-4df8-8282-ea498ed9d533\",                        [{\"cells\":{\"values\":[[\"The Beautiful Sunset of That Day(Radio Edit) -ANOTHER-\",\"qriving plare\",\"\\u5c11\\u5973\\u306e\\u821e\\u846c\",\"Party 4U (AFOTHER)\",\"Red-rize \\\"B172 mix\\\" \\u002f\\u002f 7keys ManiaQ\",\"- JUPITER - [ANOTHER++]\",\"\\u7d04\\u675f -HappyHyperStarmiX- (\\u864e\\u306e\\u7a74)\",\"Calamity Fortune[HYPER]\"],[[\"\\u26056\"],[\"\\u26052\"],[\"\\u26055\"],[\"\\u26054\"],[\"\\u26058\"],[\"\\u26055\"],[\"\\u26051\"],[\"\\u25bd9\"]],[42,10,47,54,64,31,15,2],[37,8,39,39,35,30,9,1]]},\"header\":{\"values\":[\"Title\",\"Folders\",\"Old BP\",\"New BP\"]},\"type\":\"table\"}],                        {\"template\":{\"data\":{\"histogram2dcontour\":[{\"type\":\"histogram2dcontour\",\"colorbar\":{\"outlinewidth\":0,\"ticks\":\"\"},\"colorscale\":[[0.0,\"#0d0887\"],[0.1111111111111111,\"#46039f\"],[0.2222222222222222,\"#7201a8\"],[0.3333333333333333,\"#9c179e\"],[0.4444444444444444,\"#bd3786\"],[0.5555555555555556,\"#d8576b\"],[0.6666666666666666,\"#ed7953\"],[0.7777777777777778,\"#fb9f3a\"],[0.8888888888888888,\"#fdca26\"],[1.0,\"#f0f921\"]]}],\"choropleth\":[{\"type\":\"choropleth\",\"colorbar\":{\"outlinewidth\":0,\"ticks\":\"\"}}],\"histogram2d\":[{\"type\":\"histogram2d\",\"colorbar\":{\"outlinewidth\":0,\"ticks\":\"\"},\"colorscale\":[[0.0,\"#0d0887\"],[0.1111111111111111,\"#46039f\"],[0.2222222222222222,\"#7201a8\"],[0.3333333333333333,\"#9c179e\"],[0.4444444444444444,\"#bd3786\"],[0.5555555555555556,\"#d8576b\"],[0.6666666666666666,\"#ed7953\"],[0.7777777777777778,\"#fb9f3a\"],[0.8888888888888888,\"#fdca26\"],[1.0,\"#f0f921\"]]}],\"heatmap\":[{\"type\":\"heatmap\",\"colorbar\":{\"outlinewidth\":0,\"ticks\":\"\"},\"colorscale\":[[0.0,\"#0d0887\"],[0.1111111111111111,\"#46039f\"],[0.2222222222222222,\"#7201a8\"],[0.3333333333333333,\"#9c179e\"],[0.4444444444444444,\"#bd3786\"],[0.5555555555555556,\"#d8576b\"],[0.6666666666666666,\"#ed7953\"],[0.7777777777777778,\"#fb9f3a\"],[0.8888888888888888,\"#fdca26\"],[1.0,\"#f0f921\"]]}],\"heatmapgl\":[{\"type\":\"heatmapgl\",\"colorbar\":{\"outlinewidth\":0,\"ticks\":\"\"},\"colorscale\":[[0.0,\"#0d0887\"],[0.1111111111111111,\"#46039f\"],[0.2222222222222222,\"#7201a8\"],[0.3333333333333333,\"#9c179e\"],[0.4444444444444444,\"#bd3786\"],[0.5555555555555556,\"#d8576b\"],[0.6666666666666666,\"#ed7953\"],[0.7777777777777778,\"#fb9f3a\"],[0.8888888888888888,\"#fdca26\"],[1.0,\"#f0f921\"]]}],\"contourcarpet\":[{\"type\":\"contourcarpet\",\"colorbar\":{\"outlinewidth\":0,\"ticks\":\"\"}}],\"contour\":[{\"type\":\"contour\",\"colorbar\":{\"outlinewidth\":0,\"ticks\":\"\"},\"colorscale\":[[0.0,\"#0d0887\"],[0.1111111111111111,\"#46039f\"],[0.2222222222222222,\"#7201a8\"],[0.3333333333333333,\"#9c179e\"],[0.4444444444444444,\"#bd3786\"],[0.5555555555555556,\"#d8576b\"],[0.6666666666666666,\"#ed7953\"],[0.7777777777777778,\"#fb9f3a\"],[0.8888888888888888,\"#fdca26\"],[1.0,\"#f0f921\"]]}],\"surface\":[{\"type\":\"surface\",\"colorbar\":{\"outlinewidth\":0,\"ticks\":\"\"},\"colorscale\":[[0.0,\"#0d0887\"],[0.1111111111111111,\"#46039f\"],[0.2222222222222222,\"#7201a8\"],[0.3333333333333333,\"#9c179e\"],[0.4444444444444444,\"#bd3786\"],[0.5555555555555556,\"#d8576b\"],[0.6666666666666666,\"#ed7953\"],[0.7777777777777778,\"#fb9f3a\"],[0.8888888888888888,\"#fdca26\"],[1.0,\"#f0f921\"]]}],\"mesh3d\":[{\"type\":\"mesh3d\",\"colorbar\":{\"outlinewidth\":0,\"ticks\":\"\"}}],\"scatter\":[{\"fillpattern\":{\"fillmode\":\"overlay\",\"size\":10,\"solidity\":0.2},\"type\":\"scatter\"}],\"parcoords\":[{\"type\":\"parcoords\",\"line\":{\"colorbar\":{\"outlinewidth\":0,\"ticks\":\"\"}}}],\"scatterpolargl\":[{\"type\":\"scatterpolargl\",\"marker\":{\"colorbar\":{\"outlinewidth\":0,\"ticks\":\"\"}}}],\"bar\":[{\"error_x\":{\"color\":\"#2a3f5f\"},\"error_y\":{\"color\":\"#2a3f5f\"},\"marker\":{\"line\":{\"color\":\"#E5ECF6\",\"width\":0.5},\"pattern\":{\"fillmode\":\"overlay\",\"size\":10,\"solidity\":0.2}},\"type\":\"bar\"}],\"scattergeo\":[{\"type\":\"scattergeo\",\"marker\":{\"colorbar\":{\"outlinewidth\":0,\"ticks\":\"\"}}}],\"scatterpolar\":[{\"type\":\"scatterpolar\",\"marker\":{\"colorbar\":{\"outlinewidth\":0,\"ticks\":\"\"}}}],\"histogram\":[{\"marker\":{\"pattern\":{\"fillmode\":\"overlay\",\"size\":10,\"solidity\":0.2}},\"type\":\"histogram\"}],\"scattergl\":[{\"type\":\"scattergl\",\"marker\":{\"colorbar\":{\"outlinewidth\":0,\"ticks\":\"\"}}}],\"scatter3d\":[{\"type\":\"scatter3d\",\"line\":{\"colorbar\":{\"outlinewidth\":0,\"ticks\":\"\"}},\"marker\":{\"colorbar\":{\"outlinewidth\":0,\"ticks\":\"\"}}}],\"scattermapbox\":[{\"type\":\"scattermapbox\",\"marker\":{\"colorbar\":{\"outlinewidth\":0,\"ticks\":\"\"}}}],\"scatterternary\":[{\"type\":\"scatterternary\",\"marker\":{\"colorbar\":{\"outlinewidth\":0,\"ticks\":\"\"}}}],\"scattercarpet\":[{\"type\":\"scattercarpet\",\"marker\":{\"colorbar\":{\"outlinewidth\":0,\"ticks\":\"\"}}}],\"carpet\":[{\"aaxis\":{\"endlinecolor\":\"#2a3f5f\",\"gridcolor\":\"white\",\"linecolor\":\"white\",\"minorgridcolor\":\"white\",\"startlinecolor\":\"#2a3f5f\"},\"baxis\":{\"endlinecolor\":\"#2a3f5f\",\"gridcolor\":\"white\",\"linecolor\":\"white\",\"minorgridcolor\":\"white\",\"startlinecolor\":\"#2a3f5f\"},\"type\":\"carpet\"}],\"table\":[{\"cells\":{\"fill\":{\"color\":\"#EBF0F8\"},\"line\":{\"color\":\"white\"}},\"header\":{\"fill\":{\"color\":\"#C8D4E3\"},\"line\":{\"color\":\"white\"}},\"type\":\"table\"}],\"barpolar\":[{\"marker\":{\"line\":{\"color\":\"#E5ECF6\",\"width\":0.5},\"pattern\":{\"fillmode\":\"overlay\",\"size\":10,\"solidity\":0.2}},\"type\":\"barpolar\"}],\"pie\":[{\"automargin\":true,\"type\":\"pie\"}]},\"layout\":{\"autotypenumbers\":\"strict\",\"colorway\":[\"#636efa\",\"#EF553B\",\"#00cc96\",\"#ab63fa\",\"#FFA15A\",\"#19d3f3\",\"#FF6692\",\"#B6E880\",\"#FF97FF\",\"#FECB52\"],\"font\":{\"color\":\"#2a3f5f\"},\"hovermode\":\"closest\",\"hoverlabel\":{\"align\":\"left\"},\"paper_bgcolor\":\"white\",\"plot_bgcolor\":\"#E5ECF6\",\"polar\":{\"bgcolor\":\"#E5ECF6\",\"angularaxis\":{\"gridcolor\":\"white\",\"linecolor\":\"white\",\"ticks\":\"\"},\"radialaxis\":{\"gridcolor\":\"white\",\"linecolor\":\"white\",\"ticks\":\"\"}},\"ternary\":{\"bgcolor\":\"#E5ECF6\",\"aaxis\":{\"gridcolor\":\"white\",\"linecolor\":\"white\",\"ticks\":\"\"},\"baxis\":{\"gridcolor\":\"white\",\"linecolor\":\"white\",\"ticks\":\"\"},\"caxis\":{\"gridcolor\":\"white\",\"linecolor\":\"white\",\"ticks\":\"\"}},\"coloraxis\":{\"colorbar\":{\"outlinewidth\":0,\"ticks\":\"\"}},\"colorscale\":{\"sequential\":[[0.0,\"#0d0887\"],[0.1111111111111111,\"#46039f\"],[0.2222222222222222,\"#7201a8\"],[0.3333333333333333,\"#9c179e\"],[0.4444444444444444,\"#bd3786\"],[0.5555555555555556,\"#d8576b\"],[0.6666666666666666,\"#ed7953\"],[0.7777777777777778,\"#fb9f3a\"],[0.8888888888888888,\"#fdca26\"],[1.0,\"#f0f921\"]],\"sequentialminus\":[[0.0,\"#0d0887\"],[0.1111111111111111,\"#46039f\"],[0.2222222222222222,\"#7201a8\"],[0.3333333333333333,\"#9c179e\"],[0.4444444444444444,\"#bd3786\"],[0.5555555555555556,\"#d8576b\"],[0.6666666666666666,\"#ed7953\"],[0.7777777777777778,\"#fb9f3a\"],[0.8888888888888888,\"#fdca26\"],[1.0,\"#f0f921\"]],\"diverging\":[[0,\"#8e0152\"],[0.1,\"#c51b7d\"],[0.2,\"#de77ae\"],[0.3,\"#f1b6da\"],[0.4,\"#fde0ef\"],[0.5,\"#f7f7f7\"],[0.6,\"#e6f5d0\"],[0.7,\"#b8e186\"],[0.8,\"#7fbc41\"],[0.9,\"#4d9221\"],[1,\"#276419\"]]},\"xaxis\":{\"gridcolor\":\"white\",\"linecolor\":\"white\",\"ticks\":\"\",\"title\":{\"standoff\":15},\"zerolinecolor\":\"white\",\"automargin\":true,\"zerolinewidth\":2},\"yaxis\":{\"gridcolor\":\"white\",\"linecolor\":\"white\",\"ticks\":\"\",\"title\":{\"standoff\":15},\"zerolinecolor\":\"white\",\"automargin\":true,\"zerolinewidth\":2},\"scene\":{\"xaxis\":{\"backgroundcolor\":\"#E5ECF6\",\"gridcolor\":\"white\",\"linecolor\":\"white\",\"showbackground\":true,\"ticks\":\"\",\"zerolinecolor\":\"white\",\"gridwidth\":2},\"yaxis\":{\"backgroundcolor\":\"#E5ECF6\",\"gridcolor\":\"white\",\"linecolor\":\"white\",\"showbackground\":true,\"ticks\":\"\",\"zerolinecolor\":\"white\",\"gridwidth\":2},\"zaxis\":{\"backgroundcolor\":\"#E5ECF6\",\"gridcolor\":\"white\",\"linecolor\":\"white\",\"showbackground\":true,\"ticks\":\"\",\"zerolinecolor\":\"white\",\"gridwidth\":2}},\"shapedefaults\":{\"line\":{\"color\":\"#2a3f5f\"}},\"annotationdefaults\":{\"arrowcolor\":\"#2a3f5f\",\"arrowhead\":0,\"arrowwidth\":1},\"geo\":{\"bgcolor\":\"white\",\"landcolor\":\"#E5ECF6\",\"subunitcolor\":\"white\",\"showland\":true,\"showlakes\":true,\"lakecolor\":\"white\"},\"title\":{\"x\":0.05},\"mapbox\":{\"style\":\"light\"}}}},                        {\"responsive\": true}                    ).then(function(){\n",
       "                            \n",
       "var gd = document.getElementById('5a1256f5-59c1-4df8-8282-ea498ed9d533');\n",
       "var x = new MutationObserver(function (mutations, observer) {{\n",
       "        var display = window.getComputedStyle(gd).display;\n",
       "        if (!display || display === 'none') {{\n",
       "            console.log([gd, 'removed!']);\n",
       "            Plotly.purge(gd);\n",
       "            observer.disconnect();\n",
       "        }}\n",
       "}});\n",
       "\n",
       "// Listen for the removal of the full notebook cells\n",
       "var notebookContainer = gd.closest('#notebook-container');\n",
       "if (notebookContainer) {{\n",
       "    x.observe(notebookContainer, {childList: true});\n",
       "}}\n",
       "\n",
       "// Listen for the clearing of the current output cell\n",
       "var outputEl = gd.closest('.output');\n",
       "if (outputEl) {{\n",
       "    x.observe(outputEl, {childList: true});\n",
       "}}\n",
       "\n",
       "                        })                };                });            </script>        </div>"
      ]
     },
     "metadata": {},
     "output_type": "display_data"
    }
   ],
   "source": [
    "df = result.filter(result[\"minbp\"] < result[\"oldminbp\"])\n",
    "go.Figure(data=[go.Table(\n",
    "    header=dict(values=['Title', 'Folders', 'Old BP', \"New BP\"]),\n",
    "    cells=dict(values=[df[\"title\"], df[\"folder_name\"], df[\"oldminbp\"], df[\"minbp\"]])\n",
    ")])"
   ]
  },
  {
   "cell_type": "code",
   "execution_count": null,
   "metadata": {},
   "outputs": [],
   "source": []
  }
 ],
 "metadata": {
  "kernelspec": {
   "display_name": ".venv",
   "language": "python",
   "name": "python3"
  },
  "language_info": {
   "codemirror_mode": {
    "name": "ipython",
    "version": 3
   },
   "file_extension": ".py",
   "mimetype": "text/x-python",
   "name": "python",
   "nbconvert_exporter": "python",
   "pygments_lexer": "ipython3",
   "version": "3.10.12"
  }
 },
 "nbformat": 4,
 "nbformat_minor": 2
}
